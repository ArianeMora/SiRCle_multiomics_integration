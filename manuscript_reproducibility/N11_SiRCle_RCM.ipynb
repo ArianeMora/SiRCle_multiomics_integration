{
 "cells": [
  {
   "cell_type": "markdown",
   "id": "dab0f27e",
   "metadata": {},
   "source": [
    "## Run RCM on the datasets\n",
    "\n",
    "### Generating the data for Figure 2\n",
    "Here we want to run the regulatory clutsering model on our proteomics, RNAseq and DNA methylation datasets."
   ]
  },
  {
   "cell_type": "code",
   "execution_count": 1,
   "id": "1df8e537",
   "metadata": {},
   "outputs": [],
   "source": [
    "import os\n",
    "import pandas as pd\n",
    "import seaborn as sns\n",
    "from sciviso import Scatterplot\n",
    "from scircm import SciRCM\n",
    "from scivae import Vis\n",
    "import matplotlib.pyplot as plt\n",
    "import os\n",
    "import pandas as pd\n",
    "from collections import defaultdict\n",
    "from sciutil import SciUtil\n",
    "import numpy as np\n",
    "import seaborn as sns\n",
    "import matplotlib.pyplot as plt\n",
    "\n",
    "base_dir = '../data/'\n",
    "data_dir = f'{base_dir}sircle/F2_DE_output_TvN/'\n",
    "output_dir = f'{base_dir}sircle/F3_regulatory_clustering/'\n",
    "fig_dir = '../figures/'\n",
    "supp_dir = f'{base_dir}raw_downloads/supps/'\n",
    "gene_name = 'hgnc_symbol'\n",
    "save_fig = False\n",
    "test_title = 'all_patients_ccRCC'"
   ]
  },
  {
   "cell_type": "code",
   "execution_count": 3,
   "id": "a32f92cb",
   "metadata": {
    "pycharm": {
     "name": "#%%\n"
    }
   },
   "outputs": [],
   "source": [
    "prot_file = f'{data_dir}prot_DE_{test_title}_sircle.csv'\n",
    "rna_file = f'{data_dir}rna_DE_{test_title}_sircle.csv'\n",
    "meth_file = f'{data_dir}filtered_cpg_DE_{test_title}_sircle.csv'\n",
    "sircle_file_name = f'RCM_{test_title}-GENES.csv'\n",
    "\n",
    "# Set cutoffs for RCM\n",
    "rna_padj_cutoff = 0.05\n",
    "prot_padj_cutoff = 0.05\n",
    "meth_padj_cutoff = 0.05\n",
    "\n",
    "rna_logfc_cutoff = 1.0\n",
    "prot_logfc_cutoff = 0.5\n",
    "meth_diff_cutoff = 0.1\n",
    "\n",
    "run_label = f'P{prot_logfc_cutoff}-R{rna_logfc_cutoff}-M{meth_diff_cutoff}'\n"
   ]
  },
  {
   "cell_type": "code",
   "execution_count": 4,
   "id": "307b4ca0",
   "metadata": {},
   "outputs": [],
   "source": [
    "rcm = SciRCM(meth_file, rna_file, prot_file, \n",
    "             \"logFC_rna\", \"padj_rna\", \"CpG_Beta_diff\", \"padj_meth\", \"logFC_protein\", \"padj_protein\",\n",
    "             \"ensembl_gene_id\", sep=',',\n",
    "             rna_padj_cutoff=rna_padj_cutoff, \n",
    "             prot_padj_cutoff=prot_padj_cutoff, \n",
    "             meth_padj_cutoff=meth_padj_cutoff,\n",
    "             rna_logfc_cutoff=rna_logfc_cutoff, \n",
    "             prot_logfc_cutoff=prot_logfc_cutoff, \n",
    "             meth_diff_cutoff=meth_diff_cutoff, \n",
    "             output_dir=data_dir,\n",
    "             non_coding_genes=['None'],\n",
    "             output_filename=sircle_file_name,\n",
    "             bg_type = '(P&M)|(P&R)|(M&R)'\n",
    "         )\n",
    "rcm.run()\n",
    "df = rcm.get_df()"
   ]
  },
  {
   "cell_type": "markdown",
   "id": "6120a4e3",
   "metadata": {},
   "source": [
    "### Figure 1.B\n",
    "\n",
    "Plot the overlap for significant genes"
   ]
  },
  {
   "cell_type": "code",
   "execution_count": 5,
   "id": "4781a0be",
   "metadata": {},
   "outputs": [
    {
     "name": "stdout",
     "output_type": "stream",
     "text": [
      "11355\n"
     ]
    },
    {
     "name": "stderr",
     "output_type": "stream",
     "text": [
      "findfont: Font family ['normal'] not found. Falling back to DejaVu Sans.\n",
      "findfont: Font family ['normal'] not found. Falling back to DejaVu Sans.\n"
     ]
    },
    {
     "name": "stdout",
     "output_type": "stream",
     "text": [
      "33988\n",
      "\u001b[94m--------------------------------------------------------------------------------\u001b[0m\n",
      "\u001b[94mNumber of sig. proteins \t9476\tNumber with logFC > 0.5:\t1040\t0.10975094976783453\t%\t\u001b[0m\n",
      "\u001b[94m--------------------------------------------------------------------------------\u001b[0m\n",
      "\u001b[94m--------------------------------------------------------------------------------\u001b[0m\n",
      "\u001b[94mNumber of sig. CpGs \t21377\tNumber with m.diff > 0.1:\t12212\t0.571268185432942\t%\t0.06503701336741759\t\u001b[0m\n",
      "\u001b[94m--------------------------------------------------------------------------------\u001b[0m\n",
      "\u001b[94m--------------------------------------------------------------------------------\u001b[0m\n",
      "\u001b[94m Number of sig. RNA \t27599\tNumber with logFC > 1.0:\t10256\t0.3716076669444545\t%\t \u001b[0m\n",
      "\u001b[94m--------------------------------------------------------------------------------\u001b[0m\n"
     ]
    },
    {
     "data": {
      "image/png": "[encoded data removed]",
      "text/plain": [
       "<Figure size 144x144 with 1 Axes>"
      ]
     },
     "metadata": {},
     "output_type": "display_data"
    }
   ],
   "source": [
    "import numpy as np\n",
    "import pandas as pd\n",
    "import os\n",
    "import seaborn as sns\n",
    "import matplotlib.pyplot as plt\n",
    "import matplotlib\n",
    "from matplotlib import rcParams\n",
    "from matplotlib_venn import venn3\n",
    "from sciutil import SciUtil\n",
    "\n",
    "save = False\n",
    "u = SciUtil()\n",
    "gene_id = \"ensembl_gene_id\"\n",
    "sns.set_style('white')\n",
    "font = {'family': 'normal', 'size': 9}\n",
    "matplotlib.rc('font', **font)\n",
    "rcParams['figure.figsize'] = (2, 2)\n",
    "\n",
    "p_df = pd.read_csv(prot_file)\n",
    "print(len(p_df))\n",
    "r_df = pd.read_csv(rna_file)\n",
    "m_df = pd.read_csv(meth_file)\n",
    "print(len(r_df))\n",
    "# Filter the genes by the overlap from our RCM\n",
    "p_df = p_df[p_df['padj_protein'].values < prot_padj_cutoff]\n",
    "prot_genes = p_df[p_df['logFC_protein']> prot_logfc_cutoff][gene_id].values\n",
    "# Print out numbers \n",
    "u.dp(['Number of sig. proteins ', len(p_df), f'Number with logFC > {prot_logfc_cutoff}:', len(prot_genes), len(prot_genes)/len(p_df), '%'])\n",
    "\n",
    "m_df = m_df[m_df['padj_meth'].values < meth_padj_cutoff]\n",
    "meth_genes = m_df[abs(m_df['CpG_Beta_diff']) > 0.1][gene_id].values\n",
    "# Print out numbers \n",
    "u.dp(['Number of sig. CpGs ', len(m_df), f'Number with m.diff > {0.1}:', len(meth_genes), len(meth_genes)/len(m_df), '%', len(meth_genes)/187770]) # Divide by all CpGs\n",
    "\n",
    "r_df = r_df[r_df['padj_rna'].values < rna_padj_cutoff]\n",
    "rna_genes = r_df[abs(r_df['logFC_rna']) > rna_logfc_cutoff][gene_id].values\n",
    "# Print out numbers \n",
    "u.dp(['Number of sig. RNA ', len(r_df), f'Number with logFC > {rna_logfc_cutoff}:', len(rna_genes), len(rna_genes)/len(r_df), '%'])\n",
    "\n",
    "venn3([set(prot_genes), set(rna_genes), set(meth_genes)], set_labels=['Proteomics', 'RNAseq',\n",
    "                                                                      'DNA Methylation'],\n",
    "      set_colors=('#0101d7', '#e68e25', '#6aaf44'),)\n",
    "plt.rcParams['svg.fonttype'] = 'none'\n",
    "if save:\n",
    "    plt.savefig(f'{fig_dir}Fig1B_Venn3_input_TvN_{meth_test_title}_{run_label}.svg')"
   ]
  },
  {
   "cell_type": "code",
   "execution_count": 6,
   "id": "977481ac",
   "metadata": {
    "pycharm": {
     "name": "#%%\n"
    }
   },
   "outputs": [
    {
     "name": "stdout",
     "output_type": "stream",
     "text": [
      "689 0.07271000422119038\n"
     ]
    }
   ],
   "source": [
    "print(len(set(rna_genes)&set(prot_genes)), len(set(rna_genes)&set(prot_genes))/len(p_df))"
   ]
  },
  {
   "cell_type": "code",
   "execution_count": 7,
   "id": "ce5242f7",
   "metadata": {},
   "outputs": [
    {
     "name": "stdout",
     "output_type": "stream",
     "text": [
      "0.3658827031854719 0.6341172968145281\n"
     ]
    }
   ],
   "source": [
    "## Check how many occur in \"Direct\" vs \"Indirect flows\"\n",
    "direct = [\"MDS\",  \"MDE\", \"TMDE\", \"TMDS\", \"TPDE\", \"TPDS\"]\n",
    "total_direct = 0\n",
    "for r in direct:\n",
    "    genes = df[df['Regulation_Grouping_2'] == r]\n",
    "    total_direct += len(genes)\n",
    "    \n",
    "indirect = [\"MDS_TMDE\", \"MDE_TMDS\", \"TPDE_TMDS\", \"TPDS_TMDE\"]\n",
    "total_indirect = 0\n",
    "for r in indirect:\n",
    "    genes = df[df['Regulation_Grouping_2'] == r]\n",
    "    total_indirect += len(genes)\n",
    "print(total_direct/(total_direct + total_indirect), total_indirect/(total_direct + total_indirect))"
   ]
  },
  {
   "cell_type": "markdown",
   "id": "ce42ccd0",
   "metadata": {},
   "source": [
    "## Consolidate IDs\n",
    "\n",
    "Since each of our datasets may have different identifiers that we want to use for downstream analyeses (such as GSEA or ORA) we want to make sure that the columns are merged together (so we don't get missing idenifiers)."
   ]
  },
  {
   "cell_type": "code",
   "execution_count": 8,
   "id": "240261d9",
   "metadata": {},
   "outputs": [],
   "source": [
    "reg_label = 'Regulation_Grouping_2'\n",
    "# We want to merge the entrez columns together\n",
    "entrez = df[[c for c in df.columns if 'entrezgene_id' in c]].apply(lambda row: ' '.join(row.values.astype(str)), axis=1)\n",
    "hgnc = df[[c for c in df.columns if 'hgnc_symbol' in c]].apply(lambda row: ' '.join(row.values.astype(str)), axis=1)\n",
    "external = df[[c for c in df.columns if 'external_gene_name' in c]].apply(lambda row: ' '.join(row.values.astype(str)), axis=1)\n",
    "ensembl = df[[c for c in df.columns if 'ensembl_gene_id' in c]].apply(lambda row: ' '.join(row.values.astype(str)), axis=1)\n",
    "\n",
    "entrez_updated = []\n",
    "hgnc_updated = []\n",
    "external_updated = []\n",
    "ensembl_updated = []\n",
    "count_nan = 0\n",
    "for c in entrez:\n",
    "    c = c.split(' ')\n",
    "    added = False\n",
    "    for e in c:\n",
    "        if e != 'None' and float(e) != 0 and str(e) != '0.0' and str(e) != '0':\n",
    "            entrez_updated.append(e)\n",
    "            added = True\n",
    "            break\n",
    "    if not added:\n",
    "        count_nan += 1\n",
    "        entrez_updated.append(None)\n",
    "for c in hgnc:\n",
    "    c = c.split(' ')\n",
    "    added = False\n",
    "    for e in c:\n",
    "        if not isinstance(e, float):\n",
    "            hgnc_updated.append(e)\n",
    "            added = True\n",
    "            break\n",
    "    if not added:\n",
    "        hgnc_updated.append(None)\n",
    "for c in external:\n",
    "    c = c.split(' ')\n",
    "    added = False\n",
    "    for e in c:\n",
    "        if not isinstance(e, float):\n",
    "            external_updated.append(e)\n",
    "            added = True\n",
    "            break\n",
    "    if not added:\n",
    "        external_updated.append(None)\n",
    "for c in ensembl:\n",
    "    c = c.split(' ')\n",
    "    added = False\n",
    "    for e in c:\n",
    "        if not isinstance(e, float):\n",
    "            ensembl_updated.append(e)\n",
    "            added = True\n",
    "            break\n",
    "    if not added:\n",
    "        ensembl_updated.append(None)"
   ]
  },
  {
   "cell_type": "code",
   "execution_count": 9,
   "id": "2151b7de",
   "metadata": {
    "pycharm": {
     "name": "#%%\n"
    }
   },
   "outputs": [
    {
     "data": {
      "text/plain": [
       "1861"
      ]
     },
     "execution_count": 9,
     "metadata": {},
     "output_type": "execute_result"
    }
   ],
   "source": [
    "len([e for e in entrez_updated if e == None])\n"
   ]
  },
  {
   "cell_type": "code",
   "execution_count": 12,
   "id": "5c29939d",
   "metadata": {
    "pycharm": {
     "name": "#%%\n"
    }
   },
   "outputs": [
    {
     "name": "stdout",
     "output_type": "stream",
     "text": [
      "None         10303\n",
      "TPDS_TMDE     1420\n",
      "MDE_TMDS      1308\n",
      "TPDE_TMDS     1069\n",
      "TMDS           803\n",
      "TPDS           539\n",
      "MDS_TMDE       463\n",
      "MDE            415\n",
      "TMDE           313\n",
      "TPDE           257\n",
      "MDS            131\n",
      "Name: Regulation_Grouping_2, dtype: int64\n"
     ]
    }
   ],
   "source": [
    "df['entrezgene_id'] = entrez_updated\n",
    "## Update the RCM file\n",
    "df['external_gene_name'] = external_updated\n",
    "df['hgnc_symbol'] = hgnc_updated\n",
    "df['ensembl_gene_id'] = ensembl_updated\n",
    "print(df[reg_label].value_counts())\n",
    "# Keep the DF that had regulatory labels assigned\n",
    "df_og = df[df[reg_label] != 'None']\n",
    "# Save the updated DF to a csv\n",
    "cols = [c for c in df.columns if 'logFC' in c or 'padj' in c or 'entrezgene_id' == c or 'external_gene_name' == c or 'hgnc_symbol' == c or 'CpG_Beta_diff' in c or 'ensembl_gene_id' == c]\n",
    "cols += [rcm.reg_grp_1_lbl, rcm.reg_grp_2_lbl, rcm.reg_grp_3_lbl]\n",
    "df[cols].to_csv(f'{output_dir}RCM_{test_title}_{run_label}-GENES.csv', index=False)"
   ]
  },
  {
   "cell_type": "code",
   "execution_count": 13,
   "id": "2f8210e2",
   "metadata": {},
   "outputs": [
    {
     "name": "stdout",
     "output_type": "stream",
     "text": [
      "None                           10303\n",
      "MDE_TMDS_M-neg_R-pos_P--        1308\n",
      "TPDE_TMDS_M--_R-pos_P--          812\n",
      "TPDS_TMDE_M-neg_R-neg_P--        710\n",
      "TPDS_TMDE_M--_R-neg_P--          701\n",
      "TMDS_M--_R--_P-neg               468\n",
      "MDS_TMDE_M-pos_R-neg_P--         463\n",
      "MDE_M-neg_R-pos_P-pos            415\n",
      "TPDS_M--_R-neg_P-neg             337\n",
      "TPDS_TMDS_M-neg_R--_P-neg        256\n",
      "TPDE_TMDS_M-pos_R-pos_P--        256\n",
      "TPDE_M--_R-pos_P-pos             222\n",
      "TPDS_M-neg_R-neg_P-neg           202\n",
      "TMDE_M--_R--_P-pos               142\n",
      "TPDS_TMDE_M-neg_R--_P-pos        136\n",
      "MDS_M-pos_R-neg_P-neg            131\n",
      "TPDE_TMDS_M-pos_R--_P-neg         53\n",
      "TPDE_M-pos_R-pos_P-pos            35\n",
      "TPDE_TMDE_M-pos_R--_P-pos         27\n",
      "MDE_TMDS_M-neg_R-pos_P-neg        16\n",
      "TPDE_TMDS_M--_R-pos_P-neg         10\n",
      "TPDS_TMDE_M-neg_R-neg_P-pos        9\n",
      "TPDS_TMDE_M--_R-neg_P-pos          6\n",
      "MDS_TMDE_M-pos_R-neg_P-pos         2\n",
      "TPDE_TMDS_M-pos_R-pos_P-neg        1\n",
      "Name: Regulation_Grouping_1, dtype: int64\n"
     ]
    }
   ],
   "source": [
    "print(df[rcm.reg_grp_1_lbl].value_counts())"
   ]
  },
  {
   "cell_type": "code",
   "execution_count": 14,
   "id": "31126003",
   "metadata": {},
   "outputs": [
    {
     "name": "stdout",
     "output_type": "stream",
     "text": [
      "None         10303\n",
      "TPDS_TMDE     1420\n",
      "MDE_TMDS      1308\n",
      "TPDE_TMDS     1069\n",
      "TMDS           803\n",
      "TPDS           539\n",
      "MDS_TMDE       463\n",
      "MDE            415\n",
      "TMDE           313\n",
      "TPDE           257\n",
      "MDS            131\n",
      "Name: Regulation_Grouping_2, dtype: int64\n"
     ]
    }
   ],
   "source": [
    "print(df[rcm.reg_grp_2_lbl].value_counts())"
   ]
  },
  {
   "cell_type": "code",
   "execution_count": 15,
   "id": "c721b073",
   "metadata": {},
   "outputs": [
    {
     "name": "stdout",
     "output_type": "stream",
     "text": [
      "None    10303\n",
      "TMDS     3180\n",
      "TMDE     2196\n",
      "TPDS      539\n",
      "MDE       415\n",
      "TPDE      257\n",
      "MDS       131\n",
      "Name: Regulation_Grouping_3, dtype: int64\n"
     ]
    }
   ],
   "source": [
    "print(df[rcm.reg_grp_3_lbl].value_counts())"
   ]
  },
  {
   "cell_type": "markdown",
   "id": "bcd4411c",
   "metadata": {},
   "source": [
    "## Show how the patients cluster via RCM\n",
    "\n",
    "Here we show a PCA of the patients and colour by the regulatory clusters.\n",
    "\n",
    "We do this to show that it's not any specific information."
   ]
  },
  {
   "cell_type": "code",
   "execution_count": 17,
   "id": "8f1db57f",
   "metadata": {},
   "outputs": [
    {
     "data": {
      "image/png": "[encoded data removed]",
      "text/plain": [
       "<Figure size 288x288 with 1 Axes>"
      ]
     },
     "metadata": {},
     "output_type": "display_data"
    }
   ],
   "source": [
    "import itertools\n",
    "from matplotlib import rcParams\n",
    "\n",
    "# figure size in inches\n",
    "rcParams['figure.figsize'] = 3,2\n",
    "sns.set(rc={'figure.figsize':(3,2)}, style='ticks')\n",
    "#\n",
    "colour_map = { 'MDS': '#d8419b', 'MDS_TMDE': '#e585c0', 'MDS_ncRNA': '#d880b4',\n",
    "               'MDE': '#6aaf44', 'MDE_TMDS': '#0e8e6d', 'MDE_ncRNA': '#9edb77',\n",
    "               'TMDE': '#fe2323', 'TMDS': '#2952ff',\n",
    "               'TPDE': '#e68e25', 'TPDE_TMDS': '#844c0f',\n",
    "                'TPDS': '#462d76', 'TPDS_TMDE': '#9b29b7'}\n",
    "\n",
    "sns.set_palette(\"Greys_r\")\n",
    "rcm_labels = [\"MDS\", \"MDS_TMDE\", \"MDE\", \"MDE_TMDS\", \"TMDE\", \"TMDS\", \"TPDE\", \"TPDE_TMDS\",  \"TPDS\", \"TPDS_TMDE\"]\n",
    "colours = [colour_map[c] for c in rcm_labels]\n",
    "\n",
    "g = sns.catplot(data=df_og, x=reg_label, kind=\"count\", order=rcm_labels, palette=sns.color_palette(colours), \n",
    "               height=4)\n",
    "plt.xticks(rotation=45, ha='right')\n",
    "plt.title(f'{test_title}')\n",
    "if save_fig:\n",
    "    plt.savefig(f'{fig_dir}barplot_{test_title}_{run_label}TvN.svg')\n",
    "plt.show()\n"
   ]
  },
  {
   "cell_type": "code",
   "execution_count": 11,
   "id": "fc0dc970",
   "metadata": {
    "pycharm": {
     "name": "#%%\n"
    }
   },
   "outputs": [],
   "source": []
  }
 ],
 "metadata": {
  "kernelspec": {
   "display_name": "Python 3",
   "language": "python",
   "name": "python3"
  },
  "language_info": {
   "codemirror_mode": {
    "name": "ipython",
    "version": 3
   },
   "file_extension": ".py",
   "mimetype": "text/x-python",
   "name": "python",
   "nbconvert_exporter": "python",
   "pygments_lexer": "ipython3",
   "version": "3.6.13"
  }
 },
 "nbformat": 4,
 "nbformat_minor": 5
}
