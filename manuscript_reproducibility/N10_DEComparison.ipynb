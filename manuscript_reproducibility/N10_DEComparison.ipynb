{
 "cells": [
  {
   "cell_type": "code",
   "execution_count": 1,
   "id": "1b767ce1",
   "metadata": {},
   "outputs": [],
   "source": [
    "import os\n",
    "import pandas as pd\n",
    "import seaborn as sns\n",
    "from sciviso import Scatterplot\n",
    "from scircm import SciRCM\n",
    "from scivae import Vis\n",
    "import matplotlib.pyplot as plt\n",
    "import os\n",
    "import pandas as pd\n",
    "from collections import defaultdict\n",
    "from sciutil import SciUtil\n",
    "import numpy as np\n",
    "import seaborn as sns\n",
    "import matplotlib.pyplot as plt\n",
    "\n",
    "base_dir = '../data/S050_CCRCC_Clark_Cell2019/'\n",
    "fig_dir = '../figures/sircle/all_patients/all_cpgs/'\n",
    "output_dir = f'{base_dir}sircle/all_patients/'\n",
    "data_dir = f'{base_dir}sircle/all_patients/'\n",
    "supp_dir =  f'{base_dir}supps/'\n",
    "test_title = 'all_patients_ccRCC'\n",
    "meth_test_title = 'all_patients_ccRCC'"
   ]
  },
  {
   "cell_type": "markdown",
   "id": "01ef0b16",
   "metadata": {},
   "source": [
    "\n",
    "## Filter DNA methylation genes\n",
    "\n",
    "Here we want to assign 1 CpG to each gene (i.e. we want to identify the \"driver\" CpG).  \n",
    "\n",
    "We determine this by first finding CpGs that are in agreement in terms of direction of regulation.  \n",
    "\n",
    "1) Group CpGs that fall within 1000 bp of the TSS  \n",
    "2) If there are at least 3 CpGs then check that at least 60% of CpGs argree in terms of direction of change (and have a pvalue < 0.1)  \n",
    "3) If they do then retain the CpG with the largest DNA methylation difference (in the direction that 60% agreed on)  \n",
    "4) If there were less than 3 CpGs just keep the CpG with the largest DNA methylation difference. \n",
    "`"
   ]
  },
  {
   "cell_type": "code",
   "execution_count": 2,
   "id": "405f6e8f",
   "metadata": {},
   "outputs": [
    {
     "name": "stdout",
     "output_type": "stream",
     "text": [
      "\u001b[94m--------------------------------------------------------------------------------\u001b[0m\n",
      "\u001b[94m      Originally had: \t25434\tgenes.\n",
      "\tFiltered DF now has: \t21377\t genes.\t       \u001b[0m\n",
      "\u001b[94m--------------------------------------------------------------------------------\u001b[0m\n"
     ]
    },
    {
     "data": {
      "image/png": "[encoded data removed]",
      "text/plain": [
       "<Figure size 432x288 with 1 Axes>"
      ]
     },
     "metadata": {
      "needs_background": "light"
     },
     "output_type": "display_data"
    },
    {
     "data": {
      "text/plain": [
       "(array([    0.,     0.,     0.,     0.,     0.,     0.,     0.,     0.,\n",
       "            0.,     0., 21377.,     0.,     0.,     0.,     0.,     0.,\n",
       "            0.,     0.,     0.,     0.]),\n",
       " array([0.5 , 0.55, 0.6 , 0.65, 0.7 , 0.75, 0.8 , 0.85, 0.9 , 0.95, 1.  ,\n",
       "        1.05, 1.1 , 1.15, 1.2 , 1.25, 1.3 , 1.35, 1.4 , 1.45, 1.5 ]),\n",
       " <BarContainer object of 20 artists>)"
      ]
     },
     "execution_count": 2,
     "metadata": {},
     "output_type": "execute_result"
    },
    {
     "data": {
      "image/png": "[encoded data removed]",
      "text/plain": [
       "<Figure size 432x288 with 1 Axes>"
      ]
     },
     "metadata": {
      "needs_background": "light"
     },
     "output_type": "display_data"
    }
   ],
   "source": [
    "import os\n",
    "import pandas as pd\n",
    "from collections import defaultdict\n",
    "from sciutil import SciUtil\n",
    "import numpy as np\n",
    "import seaborn as sns\n",
    "import matplotlib.pyplot as plt\n",
    "\n",
    "u = SciUtil()\n",
    "df = pd.read_csv(f'{data_dir}cpg_DE_{meth_test_title}_sircle.csv')\n",
    "# t value = t, adj.P.Val = adjusted P, cpg_id = CpG id, logFC=logfold change\n",
    "# Only include those with a adj p value < 0.1\n",
    "run_meth_filter = True\n",
    "\n",
    "def filter_by_genes(cpg_df):\n",
    "    cpg_df_grped = cpg_df.groupby('ensembl_gene_id')\n",
    "    p_val = 'padj_meth'\n",
    "    logfc = 'CpG_Beta_diff'\n",
    "    rows = []\n",
    "    num_cpgs = []\n",
    "    for cpg in cpg_df_grped:\n",
    "        cpg = cpg[1]\n",
    "        cpg = cpg[cpg[p_val] < 0.05]\n",
    "        num_cpgs.append(len(cpg))\n",
    "        if len(cpg) > 0:\n",
    "            if len(cpg) < 3:\n",
    "                add_row = True\n",
    "            else:\n",
    "                pos_cpg = cpg[cpg[logfc] > 0]\n",
    "                neg_cpg = cpg[cpg[logfc] < 0]\n",
    "                num_pos = len(pos_cpg)\n",
    "                num_neg = len(neg_cpg)\n",
    "                add_row = False\n",
    "                if num_pos and num_pos/len(cpg) > 0.6:\n",
    "                    cpg = pos_cpg\n",
    "                    add_row = True\n",
    "                elif num_neg and num_neg/len(cpg) > 0.6:\n",
    "                    cpg = neg_cpg\n",
    "                    add_row = True\n",
    "            if add_row:\n",
    "                max_cpg_idx = None\n",
    "                max_t_value = 0 # absolute\n",
    "                idxs = cpg.index\n",
    "                for i, t in enumerate(cpg[logfc].values):\n",
    "                    if abs(t) > abs(max_t_value):\n",
    "                        max_t_value = t\n",
    "                        max_cpg_idx = i\n",
    "                rows.append(cpg[cpg.index == idxs[max_cpg_idx]].values[0])\n",
    "    new_cpg_df = pd.DataFrame(rows, columns=cpg_df.columns)\n",
    "    u.dp(['Originally had: ', len(cpg_df_grped), 'genes.\\n', 'Filtered DF now has: ', len(new_cpg_df), ' genes.'])\n",
    "    plt.hist(num_cpgs)\n",
    "    plt.show()\n",
    "    return new_cpg_df\n",
    "\n",
    "# Replace inf\n",
    "# replace logFC col neg and +ve inf\n",
    "df['logFC_meth'].replace([np.inf],max(df['logFC_meth'].replace(np.inf, np.nan)),inplace=True)\n",
    "df['logFC_meth'].replace([-np.inf],min(df['logFC_meth'].replace(-np.inf, np.nan)),inplace=True)\n",
    "normal_cols = [c for c in df.columns if 'Normal' in c]\n",
    "tumor_cols = [c for c in df.columns if 'Tumor' in c]\n",
    "beta_diff = np.mean(df[tumor_cols].values, axis=1) - np.mean(df[normal_cols].values, axis=1)\n",
    "df['CpG_Beta_diff'] = beta_diff\n",
    "\n",
    "df = filter_by_genes(df)\n",
    "\n",
    "gene_counts = df['ensembl_gene_id'].value_counts()\n",
    "plt.hist(gene_counts.values, bins=20) # Gives an idea of the number of CpGs per gene"
   ]
  },
  {
   "cell_type": "code",
   "execution_count": 142,
   "id": "e3777cac",
   "metadata": {
    "pycharm": {
     "name": "#%%\n"
    }
   },
   "outputs": [],
   "source": [
    "df.to_csv(f'{data_dir}filtered_cpg_DE_{meth_test_title}_sircle.csv', index=False)\n"
   ]
  },
  {
   "cell_type": "code",
   "execution_count": 3,
   "id": "557996ef",
   "metadata": {
    "pycharm": {
     "name": "#%%\n"
    }
   },
   "outputs": [
    {
     "data": {
      "text/plain": [
       "(array([2.100e+01, 3.350e+02, 2.853e+03, 1.267e+04, 3.529e+03, 1.723e+03,\n",
       "        2.220e+02, 1.900e+01, 4.000e+00, 1.000e+00]),\n",
       " array([-6.12807518, -4.66566197, -3.20324877, -1.74083557, -0.27842237,\n",
       "         1.18399083,  2.64640403,  4.10881723,  5.57123043,  7.03364363,\n",
       "         8.49605683]),\n",
       " <BarContainer object of 10 artists>)"
      ]
     },
     "execution_count": 3,
     "metadata": {},
     "output_type": "execute_result"
    },
    {
     "data": {
      "image/png": "[encoded data removed]",
      "text/plain": [
       "<Figure size 432x288 with 1 Axes>"
      ]
     },
     "metadata": {
      "needs_background": "light"
     },
     "output_type": "display_data"
    }
   ],
   "source": [
    "plt.hist(df['logFC_meth'])"
   ]
  },
  {
   "cell_type": "code",
   "execution_count": 4,
   "id": "0b55902a",
   "metadata": {
    "pycharm": {
     "name": "#%%\n"
    }
   },
   "outputs": [],
   "source": [
    "mean_change = np.mean(df[[c for c in df.columns if 'Tumor' in c]].values, axis=1) - np.mean(df[[c for c in df.columns if 'Normal' in c]].values, axis=1)\n"
   ]
  },
  {
   "cell_type": "code",
   "execution_count": 5,
   "id": "f5fae1ab",
   "metadata": {
    "pycharm": {
     "name": "#%%\n"
    }
   },
   "outputs": [
    {
     "data": {
      "text/plain": [
       "(array([3.0000e+00, 1.5000e+01, 2.2700e+02, 2.4680e+03, 1.1099e+04,\n",
       "        5.5180e+03, 1.8960e+03, 1.4300e+02, 7.0000e+00, 1.0000e+00]),\n",
       " array([-0.9412186 , -0.76283261, -0.58444662, -0.40606062, -0.22767463,\n",
       "        -0.04928864,  0.12909735,  0.30748334,  0.48586933,  0.66425533,\n",
       "         0.84264132]),\n",
       " <BarContainer object of 10 artists>)"
      ]
     },
     "execution_count": 5,
     "metadata": {},
     "output_type": "execute_result"
    },
    {
     "data": {
      "image/png": "[encoded data removed]",
      "text/plain": [
       "<Figure size 432x288 with 1 Axes>"
      ]
     },
     "metadata": {
      "needs_background": "light"
     },
     "output_type": "display_data"
    }
   ],
   "source": [
    "plt.hist(mean_change)"
   ]
  },
  {
   "cell_type": "code",
   "execution_count": 6,
   "id": "ae7a28b3",
   "metadata": {
    "pycharm": {
     "name": "#%%\n"
    }
   },
   "outputs": [
    {
     "data": {
      "text/plain": [
       "(array([    0.,     0.,     0.,     0.,     0.,     0.,     0.,     0.,\n",
       "            0.,     0., 21377.,     0.,     0.,     0.,     0.,     0.,\n",
       "            0.,     0.,     0.,     0.]),\n",
       " array([-0.5 , -0.45, -0.4 , -0.35, -0.3 , -0.25, -0.2 , -0.15, -0.1 ,\n",
       "        -0.05,  0.  ,  0.05,  0.1 ,  0.15,  0.2 ,  0.25,  0.3 ,  0.35,\n",
       "         0.4 ,  0.45,  0.5 ]),\n",
       " <BarContainer object of 20 artists>)"
      ]
     },
     "execution_count": 6,
     "metadata": {},
     "output_type": "execute_result"
    },
    {
     "data": {
      "image/png": "[encoded data removed]",
      "text/plain": [
       "<Figure size 432x288 with 1 Axes>"
      ]
     },
     "metadata": {
      "needs_background": "light"
     },
     "output_type": "display_data"
    }
   ],
   "source": [
    "plt.hist(np.log2(gene_counts.values), bins=20)"
   ]
  },
  {
   "cell_type": "code",
   "execution_count": 8,
   "id": "eb1d30fa",
   "metadata": {
    "pycharm": {
     "name": "#%%\n"
    }
   },
   "outputs": [
    {
     "name": "stdout",
     "output_type": "stream",
     "text": [
      "6713 15848 1400\n"
     ]
    }
   ],
   "source": [
    "meth_df = pd.read_csv(f'{data_dir}cpg_DE_{meth_test_title}_sircle.csv')\n",
    "meth_f_df = pd.read_csv(f'{data_dir}filtered_cpg_DE_{meth_test_title}_sircle.csv')\n",
    "gene_counts = meth_df['ensembl_gene_id'].value_counts()\n",
    "print(len(gene_counts[gene_counts < 3]), len(gene_counts[gene_counts > 3]), len(gene_counts[gene_counts > 20])) #6713 15848 1400"
   ]
  },
  {
   "cell_type": "code",
   "execution_count": 9,
   "id": "c8eb25fe",
   "metadata": {
    "pycharm": {
     "name": "#%%\n"
    }
   },
   "outputs": [
    {
     "data": {
      "text/plain": [
       "<matplotlib.collections.PathCollection at 0x1444015d0>"
      ]
     },
     "execution_count": 9,
     "metadata": {},
     "output_type": "execute_result"
    },
    {
     "data": {
      "image/png": "[encoded data removed]",
      "text/plain": [
       "<Figure size 432x288 with 1 Axes>"
      ]
     },
     "metadata": {
      "needs_background": "light"
     },
     "output_type": "display_data"
    }
   ],
   "source": [
    "plt.scatter(meth_f_df[\"CpG_Beta_diff\"].values, meth_f_df[\"logFC_meth\"].values)"
   ]
  },
  {
   "cell_type": "code",
   "execution_count": 41,
   "id": "a250c8ec",
   "metadata": {
    "pycharm": {
     "name": "#%%\n"
    }
   },
   "outputs": [
    {
     "data": {
      "text/html": [
       "<div>\n",
       "<style scoped>\n",
       "    .dataframe tbody tr th:only-of-type {\n",
       "        vertical-align: middle;\n",
       "    }\n",
       "\n",
       "    .dataframe tbody tr th {\n",
       "        vertical-align: top;\n",
       "    }\n",
       "\n",
       "    .dataframe thead th {\n",
       "        text-align: right;\n",
       "    }\n",
       "</style>\n",
       "<table border=\"1\" class=\"dataframe\">\n",
       "  <thead>\n",
       "    <tr style=\"text-align: right;\">\n",
       "      <th></th>\n",
       "      <th>Unnamed: 0</th>\n",
       "      <th>Locus</th>\n",
       "      <th>chr</th>\n",
       "      <th>pos</th>\n",
       "      <th>ensembl_gene_id</th>\n",
       "      <th>external_gene_name</th>\n",
       "      <th>hgnc_symbol</th>\n",
       "      <th>entrezgene_id</th>\n",
       "      <th>Relation_to_Island</th>\n",
       "      <th>UCSC_RefGene_Group</th>\n",
       "      <th>...</th>\n",
       "      <th>CpG_Normal_d781be9c.7b3b.4acf.b202.d4d4b847db05_1</th>\n",
       "      <th>CpG_Normal_62bcce15.fdaf.49d4.9bed.24a493f5776b_1</th>\n",
       "      <th>CpG_Normal_e3ed1380.d6f1.420e.b6a6.d24a6e81a364_1</th>\n",
       "      <th>CpG_Normal_c92995d5.68ce.47d0.8149.0323e624c032_1</th>\n",
       "      <th>CpG_Normal_f29b6c8c.d713.42ad.9b90.e556df9b05cd_1</th>\n",
       "      <th>CpG_Normal_cb371398.ee48.4665.8089.26229c5b2cf0_1</th>\n",
       "      <th>CpG_Normal_ac092a8e.80af.4589.8bb8.d86427b398ca_1</th>\n",
       "      <th>CpG_Normal_318f6ffb.1fdf.4f74.90db.21e337503aae_1</th>\n",
       "      <th>CpG_Normal_ef9ae1dd.83aa.404d.83ef.ced707ae738b_1</th>\n",
       "      <th>CpG_Beta_diff</th>\n",
       "    </tr>\n",
       "  </thead>\n",
       "  <tbody>\n",
       "    <tr>\n",
       "      <th>53104</th>\n",
       "      <td>cg06908460</td>\n",
       "      <td>cg06908460</td>\n",
       "      <td>chr9</td>\n",
       "      <td>35676107</td>\n",
       "      <td>ENSG00000107159</td>\n",
       "      <td>CA9</td>\n",
       "      <td>CA9</td>\n",
       "      <td>768</td>\n",
       "      <td>Island</td>\n",
       "      <td>Body</td>\n",
       "      <td>...</td>\n",
       "      <td>0.071525</td>\n",
       "      <td>0.073432</td>\n",
       "      <td>0.056048</td>\n",
       "      <td>0.061662</td>\n",
       "      <td>0.057470</td>\n",
       "      <td>0.061828</td>\n",
       "      <td>0.089296</td>\n",
       "      <td>0.060925</td>\n",
       "      <td>0.075332</td>\n",
       "      <td>0.013317</td>\n",
       "    </tr>\n",
       "    <tr>\n",
       "      <th>71975</th>\n",
       "      <td>cg09566069</td>\n",
       "      <td>cg09566069</td>\n",
       "      <td>chr9</td>\n",
       "      <td>35676368</td>\n",
       "      <td>ENSG00000107159</td>\n",
       "      <td>CA9</td>\n",
       "      <td>CA9</td>\n",
       "      <td>768</td>\n",
       "      <td>Island</td>\n",
       "      <td>Body</td>\n",
       "      <td>...</td>\n",
       "      <td>0.188227</td>\n",
       "      <td>0.189941</td>\n",
       "      <td>0.207914</td>\n",
       "      <td>0.189651</td>\n",
       "      <td>0.196477</td>\n",
       "      <td>0.184108</td>\n",
       "      <td>0.335658</td>\n",
       "      <td>0.183858</td>\n",
       "      <td>0.252410</td>\n",
       "      <td>0.056579</td>\n",
       "    </tr>\n",
       "    <tr>\n",
       "      <th>100054</th>\n",
       "      <td>cg13849253</td>\n",
       "      <td>cg13849253</td>\n",
       "      <td>chr9</td>\n",
       "      <td>35676169</td>\n",
       "      <td>ENSG00000107159</td>\n",
       "      <td>CA9</td>\n",
       "      <td>CA9</td>\n",
       "      <td>768</td>\n",
       "      <td>Island</td>\n",
       "      <td>Body</td>\n",
       "      <td>...</td>\n",
       "      <td>0.041222</td>\n",
       "      <td>0.067208</td>\n",
       "      <td>0.049146</td>\n",
       "      <td>0.054657</td>\n",
       "      <td>0.035332</td>\n",
       "      <td>0.081421</td>\n",
       "      <td>0.117577</td>\n",
       "      <td>0.047883</td>\n",
       "      <td>0.069222</td>\n",
       "      <td>0.002398</td>\n",
       "    </tr>\n",
       "    <tr>\n",
       "      <th>105670</th>\n",
       "      <td>cg14563831</td>\n",
       "      <td>cg14563831</td>\n",
       "      <td>chr9</td>\n",
       "      <td>35679278</td>\n",
       "      <td>ENSG00000107159</td>\n",
       "      <td>CA9</td>\n",
       "      <td>CA9</td>\n",
       "      <td>768</td>\n",
       "      <td>S_Shelf</td>\n",
       "      <td>Body</td>\n",
       "      <td>...</td>\n",
       "      <td>0.890417</td>\n",
       "      <td>0.940949</td>\n",
       "      <td>0.922212</td>\n",
       "      <td>0.921867</td>\n",
       "      <td>0.934773</td>\n",
       "      <td>0.919804</td>\n",
       "      <td>0.938456</td>\n",
       "      <td>0.893177</td>\n",
       "      <td>0.923882</td>\n",
       "      <td>-0.021328</td>\n",
       "    </tr>\n",
       "    <tr>\n",
       "      <th>135379</th>\n",
       "      <td>cg19257550</td>\n",
       "      <td>cg19257550</td>\n",
       "      <td>chr9</td>\n",
       "      <td>35673912</td>\n",
       "      <td>ENSG00000107159</td>\n",
       "      <td>CA9</td>\n",
       "      <td>CA9</td>\n",
       "      <td>768</td>\n",
       "      <td>N_Shore</td>\n",
       "      <td>TSS200</td>\n",
       "      <td>...</td>\n",
       "      <td>0.545057</td>\n",
       "      <td>0.590555</td>\n",
       "      <td>0.494968</td>\n",
       "      <td>0.602210</td>\n",
       "      <td>0.731530</td>\n",
       "      <td>0.526126</td>\n",
       "      <td>0.595478</td>\n",
       "      <td>0.549169</td>\n",
       "      <td>0.736935</td>\n",
       "      <td>-0.038873</td>\n",
       "    </tr>\n",
       "    <tr>\n",
       "      <th>143713</th>\n",
       "      <td>cg20610181</td>\n",
       "      <td>cg20610181</td>\n",
       "      <td>chr9</td>\n",
       "      <td>35674003</td>\n",
       "      <td>ENSG00000107159</td>\n",
       "      <td>CA9</td>\n",
       "      <td>CA9</td>\n",
       "      <td>768</td>\n",
       "      <td>N_Shore</td>\n",
       "      <td>1stExon</td>\n",
       "      <td>...</td>\n",
       "      <td>0.812362</td>\n",
       "      <td>0.863635</td>\n",
       "      <td>0.851431</td>\n",
       "      <td>0.850729</td>\n",
       "      <td>0.945040</td>\n",
       "      <td>0.831214</td>\n",
       "      <td>0.802052</td>\n",
       "      <td>0.889678</td>\n",
       "      <td>0.895687</td>\n",
       "      <td>-0.363275</td>\n",
       "    </tr>\n",
       "  </tbody>\n",
       "</table>\n",
       "<p>6 rows × 272 columns</p>\n",
       "</div>"
      ],
      "text/plain": [
       "        Unnamed: 0       Locus   chr       pos  ensembl_gene_id  \\\n",
       "53104   cg06908460  cg06908460  chr9  35676107  ENSG00000107159   \n",
       "71975   cg09566069  cg09566069  chr9  35676368  ENSG00000107159   \n",
       "100054  cg13849253  cg13849253  chr9  35676169  ENSG00000107159   \n",
       "105670  cg14563831  cg14563831  chr9  35679278  ENSG00000107159   \n",
       "135379  cg19257550  cg19257550  chr9  35673912  ENSG00000107159   \n",
       "143713  cg20610181  cg20610181  chr9  35674003  ENSG00000107159   \n",
       "\n",
       "       external_gene_name hgnc_symbol  entrezgene_id Relation_to_Island  \\\n",
       "53104                 CA9         CA9            768             Island   \n",
       "71975                 CA9         CA9            768             Island   \n",
       "100054                CA9         CA9            768             Island   \n",
       "105670                CA9         CA9            768            S_Shelf   \n",
       "135379                CA9         CA9            768            N_Shore   \n",
       "143713                CA9         CA9            768            N_Shore   \n",
       "\n",
       "       UCSC_RefGene_Group  ...  \\\n",
       "53104                Body  ...   \n",
       "71975                Body  ...   \n",
       "100054               Body  ...   \n",
       "105670               Body  ...   \n",
       "135379             TSS200  ...   \n",
       "143713            1stExon  ...   \n",
       "\n",
       "       CpG_Normal_d781be9c.7b3b.4acf.b202.d4d4b847db05_1  \\\n",
       "53104                                           0.071525   \n",
       "71975                                           0.188227   \n",
       "100054                                          0.041222   \n",
       "105670                                          0.890417   \n",
       "135379                                          0.545057   \n",
       "143713                                          0.812362   \n",
       "\n",
       "       CpG_Normal_62bcce15.fdaf.49d4.9bed.24a493f5776b_1  \\\n",
       "53104                                           0.073432   \n",
       "71975                                           0.189941   \n",
       "100054                                          0.067208   \n",
       "105670                                          0.940949   \n",
       "135379                                          0.590555   \n",
       "143713                                          0.863635   \n",
       "\n",
       "        CpG_Normal_e3ed1380.d6f1.420e.b6a6.d24a6e81a364_1  \\\n",
       "53104                                            0.056048   \n",
       "71975                                            0.207914   \n",
       "100054                                           0.049146   \n",
       "105670                                           0.922212   \n",
       "135379                                           0.494968   \n",
       "143713                                           0.851431   \n",
       "\n",
       "        CpG_Normal_c92995d5.68ce.47d0.8149.0323e624c032_1  \\\n",
       "53104                                            0.061662   \n",
       "71975                                            0.189651   \n",
       "100054                                           0.054657   \n",
       "105670                                           0.921867   \n",
       "135379                                           0.602210   \n",
       "143713                                           0.850729   \n",
       "\n",
       "        CpG_Normal_f29b6c8c.d713.42ad.9b90.e556df9b05cd_1  \\\n",
       "53104                                            0.057470   \n",
       "71975                                            0.196477   \n",
       "100054                                           0.035332   \n",
       "105670                                           0.934773   \n",
       "135379                                           0.731530   \n",
       "143713                                           0.945040   \n",
       "\n",
       "        CpG_Normal_cb371398.ee48.4665.8089.26229c5b2cf0_1  \\\n",
       "53104                                            0.061828   \n",
       "71975                                            0.184108   \n",
       "100054                                           0.081421   \n",
       "105670                                           0.919804   \n",
       "135379                                           0.526126   \n",
       "143713                                           0.831214   \n",
       "\n",
       "        CpG_Normal_ac092a8e.80af.4589.8bb8.d86427b398ca_1  \\\n",
       "53104                                            0.089296   \n",
       "71975                                            0.335658   \n",
       "100054                                           0.117577   \n",
       "105670                                           0.938456   \n",
       "135379                                           0.595478   \n",
       "143713                                           0.802052   \n",
       "\n",
       "        CpG_Normal_318f6ffb.1fdf.4f74.90db.21e337503aae_1  \\\n",
       "53104                                            0.060925   \n",
       "71975                                            0.183858   \n",
       "100054                                           0.047883   \n",
       "105670                                           0.893177   \n",
       "135379                                           0.549169   \n",
       "143713                                           0.889678   \n",
       "\n",
       "        CpG_Normal_ef9ae1dd.83aa.404d.83ef.ced707ae738b_1  CpG_Beta_diff  \n",
       "53104                                            0.075332       0.013317  \n",
       "71975                                            0.252410       0.056579  \n",
       "100054                                           0.069222       0.002398  \n",
       "105670                                           0.923882      -0.021328  \n",
       "135379                                           0.736935      -0.038873  \n",
       "143713                                           0.895687      -0.363275  \n",
       "\n",
       "[6 rows x 272 columns]"
      ]
     },
     "execution_count": 41,
     "metadata": {},
     "output_type": "execute_result"
    }
   ],
   "source": [
    "meth_df[meth_df['external_gene_name'] == 'CA9']"
   ]
  },
  {
   "cell_type": "code",
   "execution_count": 12,
   "id": "556bd683",
   "metadata": {
    "pycharm": {
     "name": "#%%\n"
    }
   },
   "outputs": [
    {
     "name": "stdout",
     "output_type": "stream",
     "text": [
      "TSS1500    5796\n",
      "5'UTR      5784\n",
      "3'UTR      4862\n",
      "TSS200     2573\n",
      "1stExon    2130\n",
      "ExonBnd     232\n",
      "Name: GencodeCompV12_Group_FILT, dtype: int64\n",
      "\u001b[94m--------------------------------------------------------------------------------\u001b[0m\n",
      "\u001b[94m                                   V\tE\tG\tF\tA\t                                   \u001b[0m\n",
      "\u001b[94m--------------------------------------------------------------------------------\u001b[0m\n"
     ]
    },
    {
     "data": {
      "image/png": "[encoded data removed]",
      "text/plain": [
       "<Figure size 720x288 with 6 Axes>"
      ]
     },
     "metadata": {},
     "output_type": "display_data"
    },
    {
     "name": "stdout",
     "output_type": "stream",
     "text": [
      "3244    cg01298514\n",
      "Name: Locus, dtype: object\n"
     ]
    },
    {
     "data": {
      "text/plain": [
       "<Figure size 720x288 with 0 Axes>"
      ]
     },
     "metadata": {},
     "output_type": "display_data"
    },
    {
     "name": "stdout",
     "output_type": "stream",
     "text": [
      "\u001b[94m--------------------------------------------------------------------------------\u001b[0m\n",
      "\u001b[94m                                   C\tX\tC\tR\t4\t                                   \u001b[0m\n",
      "\u001b[94m--------------------------------------------------------------------------------\u001b[0m\n"
     ]
    },
    {
     "data": {
      "image/png": "[encoded data removed]",
      "text/plain": [
       "<Figure size 720x288 with 6 Axes>"
      ]
     },
     "metadata": {},
     "output_type": "display_data"
    },
    {
     "name": "stdout",
     "output_type": "stream",
     "text": [
      "4112    cg23374992\n",
      "Name: Locus, dtype: object\n"
     ]
    },
    {
     "data": {
      "text/plain": [
       "<Figure size 720x288 with 0 Axes>"
      ]
     },
     "metadata": {},
     "output_type": "display_data"
    },
    {
     "name": "stdout",
     "output_type": "stream",
     "text": [
      "\u001b[94m--------------------------------------------------------------------------------\u001b[0m\n",
      "\u001b[94m                                   H\tM\tO\tX\t1\t                                   \u001b[0m\n",
      "\u001b[94m--------------------------------------------------------------------------------\u001b[0m\n"
     ]
    },
    {
     "data": {
      "image/png": "[encoded data removed]",
      "text/plain": [
       "<Figure size 720x288 with 6 Axes>"
      ]
     },
     "metadata": {},
     "output_type": "display_data"
    },
    {
     "name": "stdout",
     "output_type": "stream",
     "text": [
      "1796    cg11458974\n",
      "Name: Locus, dtype: object\n"
     ]
    },
    {
     "data": {
      "text/plain": [
       "<Figure size 720x288 with 0 Axes>"
      ]
     },
     "metadata": {},
     "output_type": "display_data"
    },
    {
     "name": "stdout",
     "output_type": "stream",
     "text": [
      "\u001b[94m--------------------------------------------------------------------------------\u001b[0m\n",
      "\u001b[94m                                   G\tA\tP\tD\tH\t                                   \u001b[0m\n",
      "\u001b[94m--------------------------------------------------------------------------------\u001b[0m\n"
     ]
    },
    {
     "data": {
      "image/png": "[encoded data removed]",
      "text/plain": [
       "<Figure size 720x288 with 6 Axes>"
      ]
     },
     "metadata": {},
     "output_type": "display_data"
    },
    {
     "name": "stdout",
     "output_type": "stream",
     "text": [
      "3101    cg21225563\n",
      "Name: Locus, dtype: object\n"
     ]
    },
    {
     "data": {
      "text/plain": [
       "<Figure size 720x288 with 0 Axes>"
      ]
     },
     "metadata": {},
     "output_type": "display_data"
    },
    {
     "name": "stdout",
     "output_type": "stream",
     "text": [
      "\u001b[94m--------------------------------------------------------------------------------\u001b[0m\n",
      "\u001b[94m                                     H\tK\t2\t                                     \u001b[0m\n",
      "\u001b[94m--------------------------------------------------------------------------------\u001b[0m\n"
     ]
    },
    {
     "data": {
      "image/png": "[encoded data removed]",
      "text/plain": [
       "<Figure size 720x288 with 6 Axes>"
      ]
     },
     "metadata": {},
     "output_type": "display_data"
    },
    {
     "name": "stdout",
     "output_type": "stream",
     "text": [
      "8146    cg20520115\n",
      "Name: Locus, dtype: object\n"
     ]
    },
    {
     "data": {
      "text/plain": [
       "<Figure size 720x288 with 0 Axes>"
      ]
     },
     "metadata": {},
     "output_type": "display_data"
    },
    {
     "name": "stdout",
     "output_type": "stream",
     "text": [
      "\u001b[94m--------------------------------------------------------------------------------\u001b[0m\n",
      "\u001b[94m                                     M\tE\tT\t                                     \u001b[0m\n",
      "\u001b[94m--------------------------------------------------------------------------------\u001b[0m\n"
     ]
    },
    {
     "data": {
      "image/png": "[encoded data removed]",
      "text/plain": [
       "<Figure size 720x288 with 6 Axes>"
      ]
     },
     "metadata": {},
     "output_type": "display_data"
    },
    {
     "name": "stdout",
     "output_type": "stream",
     "text": [
      "2565    cg24627299\n",
      "Name: Locus, dtype: object\n"
     ]
    },
    {
     "data": {
      "text/plain": [
       "<Figure size 720x288 with 0 Axes>"
      ]
     },
     "metadata": {},
     "output_type": "display_data"
    },
    {
     "name": "stdout",
     "output_type": "stream",
     "text": [
      "\u001b[94m--------------------------------------------------------------------------------\u001b[0m\n",
      "\u001b[94m                                    L\tD\tH\tA\t                                    \u001b[0m\n",
      "\u001b[94m--------------------------------------------------------------------------------\u001b[0m\n"
     ]
    },
    {
     "data": {
      "image/png": "[encoded data removed]",
      "text/plain": [
       "<Figure size 720x288 with 6 Axes>"
      ]
     },
     "metadata": {},
     "output_type": "display_data"
    },
    {
     "name": "stdout",
     "output_type": "stream",
     "text": [
      "5428    cg17607330\n",
      "Name: Locus, dtype: object\n"
     ]
    },
    {
     "data": {
      "text/plain": [
       "<Figure size 720x288 with 0 Axes>"
      ]
     },
     "metadata": {},
     "output_type": "display_data"
    }
   ],
   "source": [
    "\n",
    "from sciviso import Heatmap\n",
    "clin_df = pd.read_csv(f'{data_dir}../meth_sample_df_sircle_ccRCC.csv', index_col=0)\n",
    "clin_df = clin_df[clin_df['CondName'] == 'Tumor']\n",
    "stage_1_cases = clin_df[clin_df['TumorStage'] == 'Stage I']['FullLabel'].values\n",
    "stage_2_cases = clin_df[clin_df['TumorStage'] == 'Stage II']['FullLabel'].values\n",
    "stage_3_cases = clin_df[clin_df['TumorStage'] == 'Stage III']['FullLabel'].values\n",
    "stage_4_cases = clin_df[clin_df['TumorStage'] == 'Stage IV']['FullLabel'].values\n",
    "\n",
    "genes = ['VEGFA', 'CXCR4', 'HMOX1', 'GAPDH', 'HK2', 'MET', 'LDHA'] #['MAP4K3', 'MACROH2A2', 'EMX1', 'TFAP2A', 'ACOX2', 'HOXD4'] #['VEGFA', \"EGFF\", 'CCND1', 'HLA', 'IGFBP3', 'HMOX1']\n",
    "gene_label = \"TPDS\"\n",
    "\n",
    "df_genes = meth_df.groupby(['external_gene_name'])\n",
    "filtered_df_genes = meth_f_df.groupby(['external_gene_name'])\n",
    "print(meth_f_df['GencodeCompV12_Group_FILT'].value_counts())\n",
    "\n",
    "def plot_hm(x_df):\n",
    "    gene_df = x_df.get_group(gene)\n",
    "    gene_df = gene_df.sort_values(by=['logFC_meth'])\n",
    "    labels = gene_df['Relation_to_Island'].values\n",
    "    lut = {'OpenSea': \"navy\",\n",
    "     'Island': \"gold\",\n",
    "           \"N_Shore\": \"limegreen\",\n",
    "           \"S_Shore\": \"springgreen\",\n",
    "     'N_Shelf': \"turquoise\",\n",
    "     'S_Shelf': \"aqua\"}\n",
    "    row_colors = pd.DataFrame(labels)[0].map(lut)\n",
    "\n",
    "    # Create additional row_colors here\n",
    "    labels = gene_df['GencodeCompV12_Group_FILT'].values\n",
    "    lut = {'ExonBnd': \"purple\",\n",
    "     \"3'UTR\": \"plum\",\n",
    "     \"5'UTR\": \"mediumpurple\",\n",
    "      \"TSS200\": \"darkorange\",\n",
    "     'TSS1500': \"coral\", \"1stExon\": \"blue\", \"0\": \"white\"}\n",
    "    row_colors2 = pd.DataFrame(labels)[0].map(lut).values\n",
    "\n",
    "    logfc =  gene_df['logFC_meth'].values\n",
    "    rdBu = plt.get_cmap('RdBu_r')\n",
    "    logfc = rdBu(logfc)\n",
    "    tumor_cols = [c for c in df.columns if 'Tumor' in c or 'Normal' in c]\n",
    "    colours = []\n",
    "    for c in tumor_cols:\n",
    "        if c in stage_1_cases:\n",
    "            colours.append(\"white\")\n",
    "        elif c in stage_2_cases:\n",
    "            colours.append(\"lightgrey\")\n",
    "        elif c in stage_3_cases:\n",
    "            colours.append(\"grey\")\n",
    "        elif c in stage_4_cases:\n",
    "            colours.append(\"darkgrey\")\n",
    "        else:\n",
    "            colours.append(\"black\")\n",
    "\n",
    "    type_colours = []\n",
    "    for c in tumor_cols:\n",
    "        if 'Normal' in c:\n",
    "            type_colours.append(\"white\")\n",
    "        else:\n",
    "            type_colours.append(\"red\")\n",
    "\n",
    "    opts = {'axis_font_size': 9, \"axis_font_weight\": 400, \"title_font_size\": 16, \"title_font_weight\": 400, \"text_font_weight\": 400}\n",
    "    if len(gene_df) > 1:\n",
    "        heatmap = Heatmap(gene_df, tumor_cols, 'Locus',\n",
    "                          row_colours=[row_colors, row_colors2, logfc], col_colours=[colours, type_colours],\n",
    "                          figsize=(10, 4),  vmin=0, vmax=1, cluster_rows=True,\n",
    "                          linewidths=0, x_tick_labels=0, config=opts)\n",
    "        heatmap.plot()\n",
    "    else:\n",
    "        print(gene_df['Locus'])\n",
    "        # heatmap = Heatmap(gene_df, tumor_cols, 'Locus',\n",
    "        #               row_colours=[row_colors, row_colors2, logfc], col_colours=[colours, type_colours],\n",
    "        #               figsize=(10, 1),  vmin=0, vmax=1, cluster_rows=False, cluster_cols=True,\n",
    "        #               linewidths=0, x_tick_labels=0, config=opts)\n",
    "        # heatmap.plot()\n",
    "    plt.savefig(f'{fig_dir}heatmap_all_patients_ccRCC_{gene_label}_{gene}.svg')\n",
    "    plt.show()\n",
    "\n",
    "\n",
    "for gene in genes:\n",
    "    u.dp(gene)\n",
    "    plot_hm(df_genes)\n",
    "    plot_hm(filtered_df_genes)\n",
    "\n"
   ]
  },
  {
   "cell_type": "code",
   "execution_count": 157,
   "id": "7251aab2",
   "metadata": {
    "pycharm": {
     "name": "#%%\n"
    }
   },
   "outputs": [
    {
     "data": {
      "text/html": [
       "<div>\n",
       "<style scoped>\n",
       "    .dataframe tbody tr th:only-of-type {\n",
       "        vertical-align: middle;\n",
       "    }\n",
       "\n",
       "    .dataframe tbody tr th {\n",
       "        vertical-align: top;\n",
       "    }\n",
       "\n",
       "    .dataframe thead th {\n",
       "        text-align: right;\n",
       "    }\n",
       "</style>\n",
       "<table border=\"1\" class=\"dataframe\">\n",
       "  <thead>\n",
       "    <tr style=\"text-align: right;\">\n",
       "      <th></th>\n",
       "      <th>Unnamed: 0</th>\n",
       "      <th>Locus</th>\n",
       "      <th>chr</th>\n",
       "      <th>pos</th>\n",
       "      <th>ensembl_gene_id</th>\n",
       "      <th>external_gene_name</th>\n",
       "      <th>hgnc_symbol</th>\n",
       "      <th>entrezgene_id</th>\n",
       "      <th>Relation_to_Island</th>\n",
       "      <th>UCSC_RefGene_Group</th>\n",
       "      <th>...</th>\n",
       "      <th>CpG_Normal_d781be9c.7b3b.4acf.b202.d4d4b847db05_1</th>\n",
       "      <th>CpG_Normal_62bcce15.fdaf.49d4.9bed.24a493f5776b_1</th>\n",
       "      <th>CpG_Normal_e3ed1380.d6f1.420e.b6a6.d24a6e81a364_1</th>\n",
       "      <th>CpG_Normal_c92995d5.68ce.47d0.8149.0323e624c032_1</th>\n",
       "      <th>CpG_Normal_f29b6c8c.d713.42ad.9b90.e556df9b05cd_1</th>\n",
       "      <th>CpG_Normal_cb371398.ee48.4665.8089.26229c5b2cf0_1</th>\n",
       "      <th>CpG_Normal_ac092a8e.80af.4589.8bb8.d86427b398ca_1</th>\n",
       "      <th>CpG_Normal_318f6ffb.1fdf.4f74.90db.21e337503aae_1</th>\n",
       "      <th>CpG_Normal_ef9ae1dd.83aa.404d.83ef.ced707ae738b_1</th>\n",
       "      <th>CpG_Beta_diff</th>\n",
       "    </tr>\n",
       "  </thead>\n",
       "  <tbody>\n",
       "    <tr>\n",
       "      <th>12345</th>\n",
       "      <td>cg01508380</td>\n",
       "      <td>cg01508380</td>\n",
       "      <td>chr14</td>\n",
       "      <td>22836376</td>\n",
       "      <td>ENSG00000157227</td>\n",
       "      <td>MMP14</td>\n",
       "      <td>MMP14</td>\n",
       "      <td>4323</td>\n",
       "      <td>N_Shore</td>\n",
       "      <td>TSS1500</td>\n",
       "      <td>...</td>\n",
       "      <td>0.044091</td>\n",
       "      <td>0.053861</td>\n",
       "      <td>0.060915</td>\n",
       "      <td>0.045951</td>\n",
       "      <td>0.047012</td>\n",
       "      <td>0.086882</td>\n",
       "      <td>0.212343</td>\n",
       "      <td>0.058893</td>\n",
       "      <td>0.074947</td>\n",
       "      <td>0.105826</td>\n",
       "    </tr>\n",
       "    <tr>\n",
       "      <th>18811</th>\n",
       "      <td>cg02316283</td>\n",
       "      <td>cg02316283</td>\n",
       "      <td>chr14</td>\n",
       "      <td>22844657</td>\n",
       "      <td>ENSG00000157227</td>\n",
       "      <td>MMP14</td>\n",
       "      <td>MMP14</td>\n",
       "      <td>4323</td>\n",
       "      <td>N_Shore</td>\n",
       "      <td>Body</td>\n",
       "      <td>...</td>\n",
       "      <td>0.939594</td>\n",
       "      <td>0.923240</td>\n",
       "      <td>0.883299</td>\n",
       "      <td>0.915678</td>\n",
       "      <td>0.942116</td>\n",
       "      <td>0.918121</td>\n",
       "      <td>0.872941</td>\n",
       "      <td>0.938540</td>\n",
       "      <td>0.914955</td>\n",
       "      <td>-0.057383</td>\n",
       "    </tr>\n",
       "    <tr>\n",
       "      <th>33392</th>\n",
       "      <td>cg04219048</td>\n",
       "      <td>cg04219048</td>\n",
       "      <td>chr14</td>\n",
       "      <td>22845819</td>\n",
       "      <td>ENSG00000157227</td>\n",
       "      <td>MMP14</td>\n",
       "      <td>MMP14</td>\n",
       "      <td>4323</td>\n",
       "      <td>Island</td>\n",
       "      <td>Body</td>\n",
       "      <td>...</td>\n",
       "      <td>0.878838</td>\n",
       "      <td>0.924680</td>\n",
       "      <td>0.882228</td>\n",
       "      <td>0.884085</td>\n",
       "      <td>0.908429</td>\n",
       "      <td>0.907878</td>\n",
       "      <td>0.883705</td>\n",
       "      <td>0.910054</td>\n",
       "      <td>0.906390</td>\n",
       "      <td>-0.016544</td>\n",
       "    </tr>\n",
       "    <tr>\n",
       "      <th>46057</th>\n",
       "      <td>cg05931439</td>\n",
       "      <td>cg05931439</td>\n",
       "      <td>chr14</td>\n",
       "      <td>22836748</td>\n",
       "      <td>ENSG00000157227</td>\n",
       "      <td>MMP14</td>\n",
       "      <td>MMP14</td>\n",
       "      <td>4323</td>\n",
       "      <td>Island</td>\n",
       "      <td>5'UTR;1stExon</td>\n",
       "      <td>...</td>\n",
       "      <td>0.019062</td>\n",
       "      <td>0.023170</td>\n",
       "      <td>0.034419</td>\n",
       "      <td>0.023866</td>\n",
       "      <td>0.014600</td>\n",
       "      <td>0.039042</td>\n",
       "      <td>0.143945</td>\n",
       "      <td>0.017762</td>\n",
       "      <td>0.019308</td>\n",
       "      <td>0.088199</td>\n",
       "    </tr>\n",
       "    <tr>\n",
       "      <th>63458</th>\n",
       "      <td>cg08321366</td>\n",
       "      <td>cg08321366</td>\n",
       "      <td>chr14</td>\n",
       "      <td>22836626</td>\n",
       "      <td>ENSG00000157227</td>\n",
       "      <td>MMP14</td>\n",
       "      <td>MMP14</td>\n",
       "      <td>4323</td>\n",
       "      <td>N_Shore</td>\n",
       "      <td>5'UTR;1stExon</td>\n",
       "      <td>...</td>\n",
       "      <td>0.049424</td>\n",
       "      <td>0.059021</td>\n",
       "      <td>0.056539</td>\n",
       "      <td>0.049757</td>\n",
       "      <td>0.042620</td>\n",
       "      <td>0.091823</td>\n",
       "      <td>0.191377</td>\n",
       "      <td>0.044027</td>\n",
       "      <td>0.061829</td>\n",
       "      <td>0.095156</td>\n",
       "    </tr>\n",
       "    <tr>\n",
       "      <th>77717</th>\n",
       "      <td>cg10418289</td>\n",
       "      <td>cg10418289</td>\n",
       "      <td>chr14</td>\n",
       "      <td>22839085</td>\n",
       "      <td>ENSG00000157227</td>\n",
       "      <td>MMP14</td>\n",
       "      <td>MMP14</td>\n",
       "      <td>4323</td>\n",
       "      <td>S_Shore</td>\n",
       "      <td>Body</td>\n",
       "      <td>...</td>\n",
       "      <td>0.516699</td>\n",
       "      <td>0.532214</td>\n",
       "      <td>0.492251</td>\n",
       "      <td>0.528055</td>\n",
       "      <td>0.667738</td>\n",
       "      <td>0.505538</td>\n",
       "      <td>0.386700</td>\n",
       "      <td>0.634543</td>\n",
       "      <td>0.618258</td>\n",
       "      <td>-0.133443</td>\n",
       "    </tr>\n",
       "    <tr>\n",
       "      <th>78990</th>\n",
       "      <td>cg10599444</td>\n",
       "      <td>cg10599444</td>\n",
       "      <td>chr14</td>\n",
       "      <td>22836732</td>\n",
       "      <td>ENSG00000157227</td>\n",
       "      <td>MMP14</td>\n",
       "      <td>MMP14</td>\n",
       "      <td>4323</td>\n",
       "      <td>Island</td>\n",
       "      <td>5'UTR;1stExon</td>\n",
       "      <td>...</td>\n",
       "      <td>0.058683</td>\n",
       "      <td>0.047473</td>\n",
       "      <td>0.092482</td>\n",
       "      <td>0.040102</td>\n",
       "      <td>0.039947</td>\n",
       "      <td>0.076367</td>\n",
       "      <td>0.221002</td>\n",
       "      <td>0.051850</td>\n",
       "      <td>0.039050</td>\n",
       "      <td>0.138643</td>\n",
       "    </tr>\n",
       "    <tr>\n",
       "      <th>94634</th>\n",
       "      <td>cg13094752</td>\n",
       "      <td>cg13094752</td>\n",
       "      <td>chr14</td>\n",
       "      <td>22836339</td>\n",
       "      <td>ENSG00000157227</td>\n",
       "      <td>MMP14</td>\n",
       "      <td>MMP14</td>\n",
       "      <td>4323</td>\n",
       "      <td>N_Shore</td>\n",
       "      <td>TSS1500</td>\n",
       "      <td>...</td>\n",
       "      <td>0.090065</td>\n",
       "      <td>0.110743</td>\n",
       "      <td>0.137108</td>\n",
       "      <td>0.099701</td>\n",
       "      <td>0.095829</td>\n",
       "      <td>0.134480</td>\n",
       "      <td>0.299370</td>\n",
       "      <td>0.114333</td>\n",
       "      <td>0.135785</td>\n",
       "      <td>0.113620</td>\n",
       "    </tr>\n",
       "    <tr>\n",
       "      <th>115575</th>\n",
       "      <td>cg16119835</td>\n",
       "      <td>cg16119835</td>\n",
       "      <td>chr14</td>\n",
       "      <td>22837641</td>\n",
       "      <td>ENSG00000157227</td>\n",
       "      <td>MMP14</td>\n",
       "      <td>MMP14</td>\n",
       "      <td>4323</td>\n",
       "      <td>Island</td>\n",
       "      <td>Body</td>\n",
       "      <td>...</td>\n",
       "      <td>0.053223</td>\n",
       "      <td>0.034161</td>\n",
       "      <td>0.053454</td>\n",
       "      <td>0.033660</td>\n",
       "      <td>0.041782</td>\n",
       "      <td>0.062638</td>\n",
       "      <td>0.132099</td>\n",
       "      <td>0.056601</td>\n",
       "      <td>0.048476</td>\n",
       "      <td>0.051811</td>\n",
       "    </tr>\n",
       "    <tr>\n",
       "      <th>129041</th>\n",
       "      <td>cg18207699</td>\n",
       "      <td>cg18207699</td>\n",
       "      <td>chr14</td>\n",
       "      <td>22847130</td>\n",
       "      <td>ENSG00000157227</td>\n",
       "      <td>MMP14</td>\n",
       "      <td>MMP14</td>\n",
       "      <td>4323</td>\n",
       "      <td>S_Shore</td>\n",
       "      <td>3'UTR</td>\n",
       "      <td>...</td>\n",
       "      <td>0.837351</td>\n",
       "      <td>0.859715</td>\n",
       "      <td>0.826467</td>\n",
       "      <td>0.835705</td>\n",
       "      <td>0.871369</td>\n",
       "      <td>0.823359</td>\n",
       "      <td>0.838974</td>\n",
       "      <td>0.822073</td>\n",
       "      <td>0.866591</td>\n",
       "      <td>-0.033738</td>\n",
       "    </tr>\n",
       "    <tr>\n",
       "      <th>130825</th>\n",
       "      <td>cg18492803</td>\n",
       "      <td>cg18492803</td>\n",
       "      <td>chr14</td>\n",
       "      <td>22842531</td>\n",
       "      <td>ENSG00000157227</td>\n",
       "      <td>MMP14</td>\n",
       "      <td>MMP14</td>\n",
       "      <td>4323</td>\n",
       "      <td>N_Shelf</td>\n",
       "      <td>Body</td>\n",
       "      <td>...</td>\n",
       "      <td>0.973178</td>\n",
       "      <td>0.956928</td>\n",
       "      <td>0.948008</td>\n",
       "      <td>0.971084</td>\n",
       "      <td>0.975840</td>\n",
       "      <td>0.953414</td>\n",
       "      <td>0.918462</td>\n",
       "      <td>0.977498</td>\n",
       "      <td>0.974562</td>\n",
       "      <td>-0.046558</td>\n",
       "    </tr>\n",
       "    <tr>\n",
       "      <th>140245</th>\n",
       "      <td>cg20018782</td>\n",
       "      <td>cg20018782</td>\n",
       "      <td>chr14</td>\n",
       "      <td>22848287</td>\n",
       "      <td>ENSG00000157227</td>\n",
       "      <td>MMP14</td>\n",
       "      <td>MMP14</td>\n",
       "      <td>4323</td>\n",
       "      <td>S_Shelf</td>\n",
       "      <td>0</td>\n",
       "      <td>...</td>\n",
       "      <td>0.622875</td>\n",
       "      <td>0.369352</td>\n",
       "      <td>0.650658</td>\n",
       "      <td>0.637853</td>\n",
       "      <td>0.704206</td>\n",
       "      <td>0.607743</td>\n",
       "      <td>0.508223</td>\n",
       "      <td>0.814349</td>\n",
       "      <td>0.710789</td>\n",
       "      <td>-0.122188</td>\n",
       "    </tr>\n",
       "    <tr>\n",
       "      <th>168317</th>\n",
       "      <td>cg24698488</td>\n",
       "      <td>cg24698488</td>\n",
       "      <td>chr14</td>\n",
       "      <td>22846657</td>\n",
       "      <td>ENSG00000157227</td>\n",
       "      <td>MMP14</td>\n",
       "      <td>MMP14</td>\n",
       "      <td>4323</td>\n",
       "      <td>S_Shore</td>\n",
       "      <td>3'UTR</td>\n",
       "      <td>...</td>\n",
       "      <td>0.923369</td>\n",
       "      <td>0.920871</td>\n",
       "      <td>0.899053</td>\n",
       "      <td>0.908837</td>\n",
       "      <td>0.946380</td>\n",
       "      <td>0.920446</td>\n",
       "      <td>0.837958</td>\n",
       "      <td>0.948887</td>\n",
       "      <td>0.966582</td>\n",
       "      <td>-0.045861</td>\n",
       "    </tr>\n",
       "    <tr>\n",
       "      <th>177814</th>\n",
       "      <td>cg26255831</td>\n",
       "      <td>cg26255831</td>\n",
       "      <td>chr14</td>\n",
       "      <td>22839840</td>\n",
       "      <td>ENSG00000157227</td>\n",
       "      <td>MMP14</td>\n",
       "      <td>MMP14</td>\n",
       "      <td>4323</td>\n",
       "      <td>S_Shelf</td>\n",
       "      <td>Body</td>\n",
       "      <td>...</td>\n",
       "      <td>0.930564</td>\n",
       "      <td>0.942797</td>\n",
       "      <td>0.924534</td>\n",
       "      <td>0.928728</td>\n",
       "      <td>0.943230</td>\n",
       "      <td>0.932803</td>\n",
       "      <td>0.896772</td>\n",
       "      <td>0.968621</td>\n",
       "      <td>0.938169</td>\n",
       "      <td>-0.041762</td>\n",
       "    </tr>\n",
       "    <tr>\n",
       "      <th>179074</th>\n",
       "      <td>cg26433554</td>\n",
       "      <td>cg26433554</td>\n",
       "      <td>chr14</td>\n",
       "      <td>22845980</td>\n",
       "      <td>ENSG00000157227</td>\n",
       "      <td>MMP14</td>\n",
       "      <td>MMP14</td>\n",
       "      <td>4323</td>\n",
       "      <td>Island</td>\n",
       "      <td>Body</td>\n",
       "      <td>...</td>\n",
       "      <td>0.687661</td>\n",
       "      <td>0.715962</td>\n",
       "      <td>0.755997</td>\n",
       "      <td>0.766946</td>\n",
       "      <td>0.857364</td>\n",
       "      <td>0.707254</td>\n",
       "      <td>0.720023</td>\n",
       "      <td>0.787912</td>\n",
       "      <td>0.861369</td>\n",
       "      <td>-0.085244</td>\n",
       "    </tr>\n",
       "    <tr>\n",
       "      <th>183079</th>\n",
       "      <td>cg27020028</td>\n",
       "      <td>cg27020028</td>\n",
       "      <td>chr14</td>\n",
       "      <td>22835614</td>\n",
       "      <td>ENSG00000157227</td>\n",
       "      <td>MMP14</td>\n",
       "      <td>MMP14</td>\n",
       "      <td>4323</td>\n",
       "      <td>N_Shore</td>\n",
       "      <td>TSS1500</td>\n",
       "      <td>...</td>\n",
       "      <td>0.843884</td>\n",
       "      <td>0.893880</td>\n",
       "      <td>0.915071</td>\n",
       "      <td>0.881371</td>\n",
       "      <td>0.963928</td>\n",
       "      <td>0.877241</td>\n",
       "      <td>0.856611</td>\n",
       "      <td>0.944770</td>\n",
       "      <td>0.914055</td>\n",
       "      <td>-0.037059</td>\n",
       "    </tr>\n",
       "  </tbody>\n",
       "</table>\n",
       "<p>16 rows × 272 columns</p>\n",
       "</div>"
      ],
      "text/plain": [
       "        Unnamed: 0       Locus    chr       pos  ensembl_gene_id  \\\n",
       "12345   cg01508380  cg01508380  chr14  22836376  ENSG00000157227   \n",
       "18811   cg02316283  cg02316283  chr14  22844657  ENSG00000157227   \n",
       "33392   cg04219048  cg04219048  chr14  22845819  ENSG00000157227   \n",
       "46057   cg05931439  cg05931439  chr14  22836748  ENSG00000157227   \n",
       "63458   cg08321366  cg08321366  chr14  22836626  ENSG00000157227   \n",
       "77717   cg10418289  cg10418289  chr14  22839085  ENSG00000157227   \n",
       "78990   cg10599444  cg10599444  chr14  22836732  ENSG00000157227   \n",
       "94634   cg13094752  cg13094752  chr14  22836339  ENSG00000157227   \n",
       "115575  cg16119835  cg16119835  chr14  22837641  ENSG00000157227   \n",
       "129041  cg18207699  cg18207699  chr14  22847130  ENSG00000157227   \n",
       "130825  cg18492803  cg18492803  chr14  22842531  ENSG00000157227   \n",
       "140245  cg20018782  cg20018782  chr14  22848287  ENSG00000157227   \n",
       "168317  cg24698488  cg24698488  chr14  22846657  ENSG00000157227   \n",
       "177814  cg26255831  cg26255831  chr14  22839840  ENSG00000157227   \n",
       "179074  cg26433554  cg26433554  chr14  22845980  ENSG00000157227   \n",
       "183079  cg27020028  cg27020028  chr14  22835614  ENSG00000157227   \n",
       "\n",
       "       external_gene_name hgnc_symbol  entrezgene_id Relation_to_Island  \\\n",
       "12345               MMP14       MMP14           4323            N_Shore   \n",
       "18811               MMP14       MMP14           4323            N_Shore   \n",
       "33392               MMP14       MMP14           4323             Island   \n",
       "46057               MMP14       MMP14           4323             Island   \n",
       "63458               MMP14       MMP14           4323            N_Shore   \n",
       "77717               MMP14       MMP14           4323            S_Shore   \n",
       "78990               MMP14       MMP14           4323             Island   \n",
       "94634               MMP14       MMP14           4323            N_Shore   \n",
       "115575              MMP14       MMP14           4323             Island   \n",
       "129041              MMP14       MMP14           4323            S_Shore   \n",
       "130825              MMP14       MMP14           4323            N_Shelf   \n",
       "140245              MMP14       MMP14           4323            S_Shelf   \n",
       "168317              MMP14       MMP14           4323            S_Shore   \n",
       "177814              MMP14       MMP14           4323            S_Shelf   \n",
       "179074              MMP14       MMP14           4323             Island   \n",
       "183079              MMP14       MMP14           4323            N_Shore   \n",
       "\n",
       "       UCSC_RefGene_Group  ...  \\\n",
       "12345             TSS1500  ...   \n",
       "18811                Body  ...   \n",
       "33392                Body  ...   \n",
       "46057       5'UTR;1stExon  ...   \n",
       "63458       5'UTR;1stExon  ...   \n",
       "77717                Body  ...   \n",
       "78990       5'UTR;1stExon  ...   \n",
       "94634             TSS1500  ...   \n",
       "115575               Body  ...   \n",
       "129041              3'UTR  ...   \n",
       "130825               Body  ...   \n",
       "140245                  0  ...   \n",
       "168317              3'UTR  ...   \n",
       "177814               Body  ...   \n",
       "179074               Body  ...   \n",
       "183079            TSS1500  ...   \n",
       "\n",
       "       CpG_Normal_d781be9c.7b3b.4acf.b202.d4d4b847db05_1  \\\n",
       "12345                                           0.044091   \n",
       "18811                                           0.939594   \n",
       "33392                                           0.878838   \n",
       "46057                                           0.019062   \n",
       "63458                                           0.049424   \n",
       "77717                                           0.516699   \n",
       "78990                                           0.058683   \n",
       "94634                                           0.090065   \n",
       "115575                                          0.053223   \n",
       "129041                                          0.837351   \n",
       "130825                                          0.973178   \n",
       "140245                                          0.622875   \n",
       "168317                                          0.923369   \n",
       "177814                                          0.930564   \n",
       "179074                                          0.687661   \n",
       "183079                                          0.843884   \n",
       "\n",
       "       CpG_Normal_62bcce15.fdaf.49d4.9bed.24a493f5776b_1  \\\n",
       "12345                                           0.053861   \n",
       "18811                                           0.923240   \n",
       "33392                                           0.924680   \n",
       "46057                                           0.023170   \n",
       "63458                                           0.059021   \n",
       "77717                                           0.532214   \n",
       "78990                                           0.047473   \n",
       "94634                                           0.110743   \n",
       "115575                                          0.034161   \n",
       "129041                                          0.859715   \n",
       "130825                                          0.956928   \n",
       "140245                                          0.369352   \n",
       "168317                                          0.920871   \n",
       "177814                                          0.942797   \n",
       "179074                                          0.715962   \n",
       "183079                                          0.893880   \n",
       "\n",
       "        CpG_Normal_e3ed1380.d6f1.420e.b6a6.d24a6e81a364_1  \\\n",
       "12345                                            0.060915   \n",
       "18811                                            0.883299   \n",
       "33392                                            0.882228   \n",
       "46057                                            0.034419   \n",
       "63458                                            0.056539   \n",
       "77717                                            0.492251   \n",
       "78990                                            0.092482   \n",
       "94634                                            0.137108   \n",
       "115575                                           0.053454   \n",
       "129041                                           0.826467   \n",
       "130825                                           0.948008   \n",
       "140245                                           0.650658   \n",
       "168317                                           0.899053   \n",
       "177814                                           0.924534   \n",
       "179074                                           0.755997   \n",
       "183079                                           0.915071   \n",
       "\n",
       "        CpG_Normal_c92995d5.68ce.47d0.8149.0323e624c032_1  \\\n",
       "12345                                            0.045951   \n",
       "18811                                            0.915678   \n",
       "33392                                            0.884085   \n",
       "46057                                            0.023866   \n",
       "63458                                            0.049757   \n",
       "77717                                            0.528055   \n",
       "78990                                            0.040102   \n",
       "94634                                            0.099701   \n",
       "115575                                           0.033660   \n",
       "129041                                           0.835705   \n",
       "130825                                           0.971084   \n",
       "140245                                           0.637853   \n",
       "168317                                           0.908837   \n",
       "177814                                           0.928728   \n",
       "179074                                           0.766946   \n",
       "183079                                           0.881371   \n",
       "\n",
       "        CpG_Normal_f29b6c8c.d713.42ad.9b90.e556df9b05cd_1  \\\n",
       "12345                                            0.047012   \n",
       "18811                                            0.942116   \n",
       "33392                                            0.908429   \n",
       "46057                                            0.014600   \n",
       "63458                                            0.042620   \n",
       "77717                                            0.667738   \n",
       "78990                                            0.039947   \n",
       "94634                                            0.095829   \n",
       "115575                                           0.041782   \n",
       "129041                                           0.871369   \n",
       "130825                                           0.975840   \n",
       "140245                                           0.704206   \n",
       "168317                                           0.946380   \n",
       "177814                                           0.943230   \n",
       "179074                                           0.857364   \n",
       "183079                                           0.963928   \n",
       "\n",
       "        CpG_Normal_cb371398.ee48.4665.8089.26229c5b2cf0_1  \\\n",
       "12345                                            0.086882   \n",
       "18811                                            0.918121   \n",
       "33392                                            0.907878   \n",
       "46057                                            0.039042   \n",
       "63458                                            0.091823   \n",
       "77717                                            0.505538   \n",
       "78990                                            0.076367   \n",
       "94634                                            0.134480   \n",
       "115575                                           0.062638   \n",
       "129041                                           0.823359   \n",
       "130825                                           0.953414   \n",
       "140245                                           0.607743   \n",
       "168317                                           0.920446   \n",
       "177814                                           0.932803   \n",
       "179074                                           0.707254   \n",
       "183079                                           0.877241   \n",
       "\n",
       "        CpG_Normal_ac092a8e.80af.4589.8bb8.d86427b398ca_1  \\\n",
       "12345                                            0.212343   \n",
       "18811                                            0.872941   \n",
       "33392                                            0.883705   \n",
       "46057                                            0.143945   \n",
       "63458                                            0.191377   \n",
       "77717                                            0.386700   \n",
       "78990                                            0.221002   \n",
       "94634                                            0.299370   \n",
       "115575                                           0.132099   \n",
       "129041                                           0.838974   \n",
       "130825                                           0.918462   \n",
       "140245                                           0.508223   \n",
       "168317                                           0.837958   \n",
       "177814                                           0.896772   \n",
       "179074                                           0.720023   \n",
       "183079                                           0.856611   \n",
       "\n",
       "        CpG_Normal_318f6ffb.1fdf.4f74.90db.21e337503aae_1  \\\n",
       "12345                                            0.058893   \n",
       "18811                                            0.938540   \n",
       "33392                                            0.910054   \n",
       "46057                                            0.017762   \n",
       "63458                                            0.044027   \n",
       "77717                                            0.634543   \n",
       "78990                                            0.051850   \n",
       "94634                                            0.114333   \n",
       "115575                                           0.056601   \n",
       "129041                                           0.822073   \n",
       "130825                                           0.977498   \n",
       "140245                                           0.814349   \n",
       "168317                                           0.948887   \n",
       "177814                                           0.968621   \n",
       "179074                                           0.787912   \n",
       "183079                                           0.944770   \n",
       "\n",
       "        CpG_Normal_ef9ae1dd.83aa.404d.83ef.ced707ae738b_1  CpG_Beta_diff  \n",
       "12345                                            0.074947       0.105826  \n",
       "18811                                            0.914955      -0.057383  \n",
       "33392                                            0.906390      -0.016544  \n",
       "46057                                            0.019308       0.088199  \n",
       "63458                                            0.061829       0.095156  \n",
       "77717                                            0.618258      -0.133443  \n",
       "78990                                            0.039050       0.138643  \n",
       "94634                                            0.135785       0.113620  \n",
       "115575                                           0.048476       0.051811  \n",
       "129041                                           0.866591      -0.033738  \n",
       "130825                                           0.974562      -0.046558  \n",
       "140245                                           0.710789      -0.122188  \n",
       "168317                                           0.966582      -0.045861  \n",
       "177814                                           0.938169      -0.041762  \n",
       "179074                                           0.861369      -0.085244  \n",
       "183079                                           0.914055      -0.037059  \n",
       "\n",
       "[16 rows x 272 columns]"
      ]
     },
     "execution_count": 157,
     "metadata": {},
     "output_type": "execute_result"
    }
   ],
   "source": [
    "mmp14 = meth_df[meth_df['external_gene_name'] == 'MMP14']\n",
    "mmp14"
   ]
  },
  {
   "cell_type": "code",
   "execution_count": 13,
   "id": "561c3af8",
   "metadata": {
    "pycharm": {
     "name": "#%%\n"
    }
   },
   "outputs": [],
   "source": [
    "meth_df['logFC_meth'].replace([np.inf],max(meth_df['logFC_meth'].replace(np.inf, np.nan)),inplace=True)\n",
    "meth_df['logFC_meth'].replace([-np.inf],min(meth_df['logFC_meth'].replace(-np.inf, np.nan)),inplace=True)\n",
    "normal_cols = [c for c in meth_df.columns if 'Normal' in c]\n",
    "tumor_cols = [c for c in meth_df.columns if 'Tumor' in c]\n",
    "beta_diff = np.mean(meth_df[tumor_cols].values, axis=1) - np.mean(meth_df[normal_cols].values, axis=1)\n",
    "meth_df['CpG_Beta_diff'] = beta_diff\n"
   ]
  },
  {
   "cell_type": "markdown",
   "id": "f3370647",
   "metadata": {
    "pycharm": {
     "name": "#%% md\n"
    }
   },
   "source": [
    "# Save as a bed file so we can easily see which one we chose using IGV"
   ]
  },
  {
   "cell_type": "code",
   "execution_count": 14,
   "id": "e1e22b12",
   "metadata": {
    "pycharm": {
     "name": "#%%\n"
    }
   },
   "outputs": [
    {
     "name": "stderr",
     "output_type": "stream",
     "text": [
      "/var/folders/gq/6ljhmvm1713fykdjqbl188pm0000gn/T/ipykernel_13157/2313789727.py:3: SettingWithCopyWarning: \n",
      "A value is trying to be set on a copy of a slice from a DataFrame.\n",
      "Try using .loc[row_indexer,col_indexer] = value instead\n",
      "\n",
      "See the caveats in the documentation: https://pandas.pydata.org/pandas-docs/stable/user_guide/indexing.html#returning-a-view-versus-a-copy\n",
      "  meth_to_save['Sig'] = ['*' if c < 0.05 else '' for c in meth_df['padj_meth'].values]\n"
     ]
    }
   ],
   "source": [
    "# Save the locus, chr, pos, and gene name to a CSV (along with cpgBetaDiff) to use for the peak files\n",
    "meth_to_save = meth_df[['Locus', 'chr', 'pos', 'external_gene_name', 'CpG_Beta_diff', 'padj_meth']]\n",
    "meth_to_save['Sig'] = ['*' if c < 0.05 else '' for c in meth_df['padj_meth'].values]\n"
   ]
  },
  {
   "cell_type": "code",
   "execution_count": 15,
   "id": "a2f8e13b",
   "metadata": {
    "pycharm": {
     "name": "#%%\n"
    }
   },
   "outputs": [
    {
     "name": "stderr",
     "output_type": "stream",
     "text": [
      "/var/folders/gq/6ljhmvm1713fykdjqbl188pm0000gn/T/ipykernel_13157/817225396.py:10: SettingWithCopyWarning: \n",
      "A value is trying to be set on a copy of a slice from a DataFrame.\n",
      "Try using .loc[row_indexer,col_indexer] = value instead\n",
      "\n",
      "See the caveats in the documentation: https://pandas.pydata.org/pandas-docs/stable/user_guide/indexing.html#returning-a-view-versus-a-copy\n",
      "  meth_to_save['Chosen'] = chosen\n",
      "/var/folders/gq/6ljhmvm1713fykdjqbl188pm0000gn/T/ipykernel_13157/817225396.py:13: SettingWithCopyWarning: \n",
      "A value is trying to be set on a copy of a slice from a DataFrame.\n",
      "Try using .loc[row_indexer,col_indexer] = value instead\n",
      "\n",
      "See the caveats in the documentation: https://pandas.pydata.org/pandas-docs/stable/user_guide/indexing.html#returning-a-view-versus-a-copy\n",
      "  meth_to_save['Name'] = meth_to_save['Chosen'] + meth_to_save['Locus'] + '(' + meth_to_save['Sig'] + meth_to_save['external_gene_name'] + ')'\n"
     ]
    }
   ],
   "source": [
    "loci = {}\n",
    "for l in meth_f_df['Locus'].values:\n",
    "    loci[l] = True\n",
    "    chosen=[]\n",
    "for l in meth_to_save['Locus'].values:\n",
    "    if loci.get(l):\n",
    "        chosen.append('+')\n",
    "    else:\n",
    "        chosen.append(\" \")\n",
    "meth_to_save['Chosen'] = chosen\n",
    "\n",
    "\n",
    "meth_to_save['Name'] = meth_to_save['Chosen'] + meth_to_save['Locus'] + '(' + meth_to_save['Sig'] + meth_to_save['external_gene_name'] + ')'\n",
    "\n",
    "meth_to_save.to_csv(f'{data_dir}cpg_DE_{meth_test_title}_sircle_locus_info.csv')\n",
    "meth_f_df[['Locus', 'chr', 'pos', 'external_gene_name', 'CpG_Beta_diff', 'padj_meth']].to_csv(f'{data_dir}cpg_filtered_DE_{meth_test_title}_sircle_locus_info.csv')\n"
   ]
  },
  {
   "cell_type": "code",
   "execution_count": 38,
   "id": "d1bc6dc8",
   "metadata": {
    "pycharm": {
     "name": "#%%\n"
    }
   },
   "outputs": [],
   "source": [
    "from scie2g.csv import Csv, Epi2GeneException\n",
    "\n",
    "# We read in the file and then convert it to a BED file so that we can load it in IGV\n",
    "filepath = f'{data_dir}cpg_DE_{meth_test_title}_sircle_locus_info.csv'\n",
    "df = pd.read_csv(filepath)\n",
    "f = Csv(filepath,  'chr', 'pos', 'pos', 'CpG_Beta_diff', ['Locus', 'external_gene_name'], sep=',')\n",
    "f.convert_to_bed(df, f'files/cpg_DE_all_patients_ccRCC_sircle_locus.bed',\n",
    "                 'CPTAC TCGA CpG', None, 'Name')\n"
   ]
  },
  {
   "cell_type": "markdown",
   "id": "84d34090",
   "metadata": {},
   "source": [
    "## Plot the CpGs: supplementary figure\n",
    "\n",
    "Here we want to plot the CpGs and how they map to genes, also report the total number of \"up\" and \"down\" CpGs.\n"
   ]
  },
  {
   "cell_type": "code",
   "execution_count": 17,
   "id": "53aeea31",
   "metadata": {},
   "outputs": [
    {
     "data": {
      "image/png": "[encoded data removed]",
      "text/plain": [
       "<Figure size 216x216 with 1 Axes>"
      ]
     },
     "metadata": {},
     "output_type": "display_data"
    },
    {
     "name": "stdout",
     "output_type": "stream",
     "text": [
      "\u001b[94m--------------------------------------------------------------------------------\u001b[0m\n",
      "\u001b[94m       Original number of CpGs: \t187770\t Filtered number of CpGs: \t21377\t       \u001b[0m\n",
      "\u001b[94m--------------------------------------------------------------------------------\u001b[0m\n"
     ]
    },
    {
     "data": {
      "image/png": "[encoded data removed]",
      "text/plain": [
       "<Figure size 216x216 with 1 Axes>"
      ]
     },
     "metadata": {},
     "output_type": "display_data"
    },
    {
     "data": {
      "image/png": "[encoded data removed]",
      "text/plain": [
       "<Figure size 216x216 with 1 Axes>"
      ]
     },
     "metadata": {},
     "output_type": "display_data"
    }
   ],
   "source": [
    "\"\"\"\n",
    "---------------------------------------------------------------\n",
    "            Plot and identify the largest direction of change for the CpGs\n",
    "---------------------------------------------------------------\n",
    "\"\"\"\n",
    "\n",
    "plt.rcParams[\"figure.figsize\"] = (3,3)\n",
    "\n",
    "# Plot a scatter in grey of the original dataset\n",
    "plt.scatter(meth_df['logFC_meth'].values, -1 * np.log10(meth_df['padj_meth'].values), c='grey', alpha=0.5, s=10)\n",
    "# plot a scatter in colour for the filtered dataset \n",
    "plt.scatter(meth_f_df['logFC_meth'].values, -1 * np.log10(meth_f_df['padj_meth'].values), c='#C2631D', s=10,\n",
    "            alpha=0.5)\n",
    "plt.title('CpGs')\n",
    "plt.xlabel('DNA methylation differece')\n",
    "plt.ylabel('log10 padj')\n",
    "plt.savefig(f'{fig_dir}SFig1_CpGs_{meth_test_title}.svg')\n",
    "plt.show()\n",
    "\n",
    "# Print the respective sizes of the datasets\n",
    "u.dp(['Original number of CpGs: ', len(meth_df), ' Filtered number of CpGs: ', len(meth_f_df)])\n",
    "\n",
    "plt.hist(meth_df['logFC_meth'].values, bins=20)\n",
    "plt.title('logFC M values')\n",
    "plt.show()\n",
    "\n",
    "plt.hist(meth_df['logFC_meth'].values[np.where(abs(meth_df['logFC_meth'].values) > 1.0)], bins=20)\n",
    "plt.title('logFC M values > 1')\n",
    "plt.show()\n"
   ]
  },
  {
   "cell_type": "code",
   "execution_count": 18,
   "id": "99cb4473",
   "metadata": {},
   "outputs": [
    {
     "data": {
      "image/png": "[encoded data removed]",
      "text/plain": [
       "<Figure size 216x216 with 1 Axes>"
      ]
     },
     "metadata": {},
     "output_type": "display_data"
    },
    {
     "name": "stdout",
     "output_type": "stream",
     "text": [
      "\u001b[94m--------------------------------------------------------------------------------\u001b[0m\n",
      "\u001b[94m       Original number of CpGs: \t187770\t Filtered number of CpGs: \t21377\t       \u001b[0m\n",
      "\u001b[94m--------------------------------------------------------------------------------\u001b[0m\n"
     ]
    }
   ],
   "source": [
    "\"\"\"\n",
    "---------------------------------------------------------------\n",
    "            Plot and identify the largest direction of change for the CpGs\n",
    "---------------------------------------------------------------\n",
    "\"\"\"\n",
    "plt.rcParams[\"figure.figsize\"] = (3,3)\n",
    "\n",
    "# Save the meth DF to csv\n",
    "#meth_f_df.to_csv(meth_filtered_file, index=False)\n",
    "plt.scatter(meth_f_df['CpG_Beta_diff'].values, -1 * np.log10(meth_f_df['padj_meth'].values), c='orange', alpha=0.5, s=10)\n",
    "\n",
    "# plot a scatter in colour for the filtered dataset \n",
    "plt.title('CpGs')\n",
    "plt.xlabel('DNA methylation betadiff_meth')\n",
    "plt.ylabel('log10 padj')\n",
    "plt.savefig(f'{fig_dir}SFig1_CpGs_beta_{meth_test_title}.svg')\n",
    "plt.show()\n",
    "\n",
    "# Print the respective sizes of the datasets\n",
    "u.dp(['Original number of CpGs: ', len(meth_df), ' Filtered number of CpGs: ', len(meth_f_df)])\n",
    "\n"
   ]
  },
  {
   "cell_type": "code",
   "execution_count": 19,
   "id": "a2b83c39",
   "metadata": {},
   "outputs": [
    {
     "name": "stdout",
     "output_type": "stream",
     "text": [
      "\u001b[94m--------------------------------------------------------------------------------\u001b[0m\n",
      "\u001b[94m       Original Hyper-methylated:\t15306\tOriginal Hypo-methylated:\t31140\t        \u001b[0m\n",
      "\u001b[94m--------------------------------------------------------------------------------\u001b[0m\n",
      "\u001b[93m--------------------------------------------------------------------------------\u001b[0m\n",
      "\u001b[93m        Filtered Hyper-methylated:\t2474\tFiltered Hypo-methylated:\t9450\t         \u001b[0m\n",
      "\u001b[93m--------------------------------------------------------------------------------\u001b[0m\n",
      "\u001b[94m--------------------------------------------------------------------------------\u001b[0m\n",
      "\u001b[94mPercentage All Hyper-methylated:\t8.151461894871385\tPercentage All Hypo-methylated:\t16.584118868828888\t\u001b[0m\n",
      "\u001b[94m--------------------------------------------------------------------------------\u001b[0m\n",
      "\u001b[93m--------------------------------------------------------------------------------\u001b[0m\n",
      "\u001b[93mPercentage Filtered Hyper-methylated:\t11.573186134630678\tPercentage Filtered Hypo-methylated:\t44.20639004537587\t\u001b[0m\n",
      "\u001b[93m--------------------------------------------------------------------------------\u001b[0m\n"
     ]
    }
   ],
   "source": [
    "m_cutoff = 1.0\n",
    "# Print out the number of hypo and hyper methylated genes\n",
    "u.dp(['Original Hyper-methylated:',  len(meth_df[meth_df['logFC_meth'].values > m_cutoff]), \n",
    "      'Original Hypo-methylated:',len(meth_df[meth_df['logFC_meth'].values < -m_cutoff])])\n",
    "\n",
    "u.warn_p(['Filtered Hyper-methylated:',  len(meth_f_df[meth_f_df['logFC_meth'].values > m_cutoff]), \n",
    "          'Filtered Hypo-methylated:', len(meth_f_df[meth_f_df['logFC_meth'].values < -m_cutoff])])\n",
    "        \n",
    "u.dp(['Percentage All Hyper-methylated:', 100*(len(meth_df[meth_df['logFC_meth'].values > m_cutoff])/len(meth_df)), \n",
    "     'Percentage All Hypo-methylated:', 100*(len(meth_df[meth_df['logFC_meth'].values < -m_cutoff])/len(meth_df))])\n",
    "      \n",
    "u.warn_p(['Percentage Filtered Hyper-methylated:', 100*(len(meth_f_df[meth_f_df['logFC_meth'].values > m_cutoff])/len(meth_f_df)), \n",
    "     'Percentage Filtered Hypo-methylated:', 100*(len(meth_f_df[meth_f_df['logFC_meth'].values < -m_cutoff])/len(meth_f_df))])\n",
    "      "
   ]
  },
  {
   "cell_type": "code",
   "execution_count": 20,
   "id": "e69382a9",
   "metadata": {},
   "outputs": [
    {
     "name": "stdout",
     "output_type": "stream",
     "text": [
      "\u001b[94m--------------------------------------------------------------------------------\u001b[0m\n",
      "\u001b[94m          Original Hyper-methylated:\t20\tOriginal Hypo-methylated:\t66\t           \u001b[0m\n",
      "\u001b[94m--------------------------------------------------------------------------------\u001b[0m\n",
      "\u001b[93m--------------------------------------------------------------------------------\u001b[0m\n",
      "\u001b[93m           Filtered Hyper-methylated:\t7\tFiltered Hypo-methylated:\t54\t           \u001b[0m\n",
      "\u001b[93m--------------------------------------------------------------------------------\u001b[0m\n",
      "\u001b[94m--------------------------------------------------------------------------------\u001b[0m\n",
      "\u001b[94mPercentage All Hyper-methylated:\t0.010651328753261968\tPercentage All Hypo-methylated:\t0.0351493848857645\t\u001b[0m\n",
      "\u001b[94m--------------------------------------------------------------------------------\u001b[0m\n",
      "\u001b[93m--------------------------------------------------------------------------------\u001b[0m\n",
      "\u001b[93mPercentage Filtered Hyper-methylated:\t0.03274547410768583\tPercentage Filtered Hypo-methylated:\t0.2526079431164336\t\u001b[0m\n",
      "\u001b[93m--------------------------------------------------------------------------------\u001b[0m\n"
     ]
    }
   ],
   "source": [
    "m_cutoff = 0.5\n",
    "# Print out the number of hypo and hyper methylated genes\n",
    "u.dp(['Original Hyper-methylated:',  len(meth_df[meth_df['CpG_Beta_diff'].values > m_cutoff]), \n",
    "      'Original Hypo-methylated:',len(meth_df[meth_df['CpG_Beta_diff'].values < -m_cutoff])])\n",
    "\n",
    "u.warn_p(['Filtered Hyper-methylated:',  len(meth_f_df[meth_f_df['CpG_Beta_diff'].values > m_cutoff]), \n",
    "          'Filtered Hypo-methylated:', len(meth_f_df[meth_f_df['CpG_Beta_diff'].values < -m_cutoff])])\n",
    "        \n",
    "u.dp(['Percentage All Hyper-methylated:', 100*(len(meth_df[meth_df['CpG_Beta_diff'].values > m_cutoff])/len(meth_df)), \n",
    "     'Percentage All Hypo-methylated:', 100*(len(meth_df[meth_df['CpG_Beta_diff'].values < -m_cutoff])/len(meth_df))])\n",
    "      \n",
    "u.warn_p(['Percentage Filtered Hyper-methylated:', 100*(len(meth_f_df[meth_f_df['CpG_Beta_diff'].values > m_cutoff])/len(meth_f_df)), \n",
    "     'Percentage Filtered Hypo-methylated:', 100*(len(meth_f_df[meth_f_df['CpG_Beta_diff'].values < -m_cutoff])/len(meth_f_df))])\n",
    "      "
   ]
  },
  {
   "cell_type": "markdown",
   "id": "35f3a968",
   "metadata": {},
   "source": [
    "## Correlation between the input features: Figure 1 A\n",
    "\n",
    "Plot the correlation between the input features of the datasets."
   ]
  },
  {
   "cell_type": "code",
   "execution_count": 36,
   "id": "580546bd",
   "metadata": {},
   "outputs": [
    {
     "name": "stdout",
     "output_type": "stream",
     "text": [
      "\u001b[94m--------------------------------------------------------------------------------\u001b[0m\n",
      "\u001b[94m    Pearson correlation between RNAseq and Protein: \t0.6363288467228314\t0.0\t    \u001b[0m\n",
      "\u001b[94m--------------------------------------------------------------------------------\u001b[0m\n"
     ]
    },
    {
     "data": {
      "image/png": "[encoded data removed]",
      "text/plain": [
       "<Figure size 216x216 with 1 Axes>"
      ]
     },
     "metadata": {},
     "output_type": "display_data"
    }
   ],
   "source": [
    "prot_df = pd.read_csv(f'{data_dir}prot_DE_{test_title}_sircle.csv')\n",
    "rna_df = pd.read_csv(f'{data_dir}rna_DE_{test_title}_sircle.csv')\n",
    "from scipy.stats import pearsonr\n",
    "\n",
    "genes = list(set(prot_df['ensembl_gene_id'].values)&set(rna_df['ensembl_gene_id'].values))\n",
    "v_r = rna_df[rna_df.set_index('ensembl_gene_id').index.isin(genes)].sort_values('ensembl_gene_id')\n",
    "v_p = prot_df[prot_df.set_index('ensembl_gene_id').index.isin(genes)].sort_values('ensembl_gene_id')\n",
    "v_p.drop_duplicates(subset='ensembl_gene_id', inplace=True)\n",
    "v_r.drop_duplicates(subset='ensembl_gene_id', inplace=True)\n",
    "\n",
    "plt.scatter( v_p['logFC_protein'].values, v_r['logFC_rna'].values, alpha=0.2, c='k')\n",
    "corr, p_corr = pearsonr( v_p['logFC_protein'].values, v_r['logFC_rna'].values)\n",
    "plt.title(f'RNA and protein correlation: {round(corr, 2)} {round(p_corr, 2)}')\n",
    "plt.xlabel('Protein logFC')\n",
    "plt.ylabel('RNA logFC')\n",
    "plt.savefig(f'{fig_dir}Fig1A_RNA_Protein_corr.svg')\n",
    "\n",
    "# Print out the pearson correlation\n",
    "u.dp(['Pearson correlation between RNAseq and Protein: ', corr, p_corr])\n"
   ]
  },
  {
   "cell_type": "code",
   "execution_count": 35,
   "id": "a486f051",
   "metadata": {
    "pycharm": {
     "name": "#%%\n"
    }
   },
   "outputs": [
    {
     "data": {
      "text/plain": [
       "10891"
      ]
     },
     "execution_count": 35,
     "metadata": {},
     "output_type": "execute_result"
    }
   ],
   "source": [
    "len(v_r)"
   ]
  },
  {
   "cell_type": "code",
   "execution_count": 25,
   "id": "f39f0419",
   "metadata": {},
   "outputs": [
    {
     "data": {
      "text/plain": [
       "(array([3.6000e+01, 4.1300e+02, 1.1950e+03, 1.1261e+04, 1.8775e+04,\n",
       "        1.9770e+03, 2.5900e+02, 5.5000e+01, 1.4000e+01, 3.0000e+00]),\n",
       " array([-8.56992906, -6.47785441, -4.38577976, -2.29370511, -0.20163045,\n",
       "         1.8904442 ,  3.98251885,  6.0745935 ,  8.16666815, 10.2587428 ,\n",
       "        12.35081745]),\n",
       " <BarContainer object of 10 artists>)"
      ]
     },
     "execution_count": 25,
     "metadata": {},
     "output_type": "execute_result"
    },
    {
     "data": {
      "image/png": "[encoded data removed]",
      "text/plain": [
       "<Figure size 216x216 with 1 Axes>"
      ]
     },
     "metadata": {},
     "output_type": "display_data"
    }
   ],
   "source": [
    "plt.hist(rna_df['logFC_rna'].values, bins=10)"
   ]
  },
  {
   "cell_type": "code",
   "execution_count": 26,
   "id": "23f3c6ac",
   "metadata": {},
   "outputs": [
    {
     "data": {
      "text/plain": [
       "(array([1.100e+01, 9.000e+01, 4.920e+02, 1.464e+03, 6.518e+03, 2.411e+03,\n",
       "        3.190e+02, 4.200e+01, 7.000e+00, 1.000e+00]),\n",
       " array([-2.70812091, -2.11958273, -1.53104456, -0.94250638, -0.3539682 ,\n",
       "         0.23456997,  0.82310815,  1.41164633,  2.00018451,  2.58872268,\n",
       "         3.17726086]),\n",
       " <BarContainer object of 10 artists>)"
      ]
     },
     "execution_count": 26,
     "metadata": {},
     "output_type": "execute_result"
    },
    {
     "data": {
      "image/png": "[encoded data removed]",
      "text/plain": [
       "<Figure size 216x216 with 1 Axes>"
      ]
     },
     "metadata": {},
     "output_type": "display_data"
    }
   ],
   "source": [
    "plt.hist(prot_df['logFC_protein'].values, bins=10)"
   ]
  },
  {
   "cell_type": "markdown",
   "id": "15e146c4",
   "metadata": {},
   "source": [
    "## Test copula correlation"
   ]
  },
  {
   "cell_type": "code",
   "execution_count": 27,
   "id": "50e5326e",
   "metadata": {},
   "outputs": [
    {
     "name": "stdout",
     "output_type": "stream",
     "text": [
      "0.4894415774554938 1.2030189680500991\n"
     ]
    }
   ],
   "source": [
    "print(np.std(v_p['logFC_protein'].values), np.std(v_r['logFC_rna'].values))"
   ]
  },
  {
   "cell_type": "code",
   "execution_count": 28,
   "id": "d68031b6",
   "metadata": {},
   "outputs": [
    {
     "name": "stdout",
     "output_type": "stream",
     "text": [
      "\u001b[94m--------------------------------------------------------------------------------\u001b[0m\n",
      "\u001b[94m    Pearson correlation between RNAseq and Protein: \t0.6709383907979879\t0.0\t    \u001b[0m\n",
      "\u001b[94m--------------------------------------------------------------------------------\u001b[0m\n"
     ]
    },
    {
     "data": {
      "image/png": "[encoded data removed]",
      "text/plain": [
       "<Figure size 216x216 with 1 Axes>"
      ]
     },
     "metadata": {},
     "output_type": "display_data"
    }
   ],
   "source": [
    "from scipy.stats import norm\n",
    "rna_cdf = norm.cdf(v_r['logFC_rna'].values, 0, 1.4)\n",
    "prot_cdf = norm.cdf(v_p['logFC_protein'].values, 0, 0.5)\n",
    "plt.scatter(rna_cdf, prot_cdf, alpha=0.2, c='k')\n",
    "corr, p_corr = pearsonr(rna_cdf, prot_cdf)\n",
    "plt.title(f'RNA and protein correlation: {round(corr, 2)} {round(p_corr, 2)}')\n",
    "plt.xlabel('RNA logFC')\n",
    "plt.ylabel('Protein logFC')\n",
    "u.dp(['Pearson correlation between RNAseq and Protein: ', corr, p_corr])\n",
    "plt.show()"
   ]
  },
  {
   "cell_type": "markdown",
   "id": "4a73d02b",
   "metadata": {},
   "source": [
    "## Combine RNA and methylation data"
   ]
  },
  {
   "cell_type": "code",
   "execution_count": 29,
   "id": "ea5c1a24",
   "metadata": {},
   "outputs": [
    {
     "data": {
      "text/html": [
       "<div>\n",
       "<style scoped>\n",
       "    .dataframe tbody tr th:only-of-type {\n",
       "        vertical-align: middle;\n",
       "    }\n",
       "\n",
       "    .dataframe tbody tr th {\n",
       "        vertical-align: top;\n",
       "    }\n",
       "\n",
       "    .dataframe thead th {\n",
       "        text-align: right;\n",
       "    }\n",
       "</style>\n",
       "<table border=\"1\" class=\"dataframe\">\n",
       "  <thead>\n",
       "    <tr style=\"text-align: right;\">\n",
       "      <th></th>\n",
       "      <th>Unnamed: 0</th>\n",
       "      <th>Locus</th>\n",
       "      <th>chr</th>\n",
       "      <th>pos</th>\n",
       "      <th>ensembl_gene_id</th>\n",
       "      <th>external_gene_name</th>\n",
       "      <th>hgnc_symbol</th>\n",
       "      <th>entrezgene_id</th>\n",
       "      <th>Relation_to_Island</th>\n",
       "      <th>UCSC_RefGene_Group</th>\n",
       "      <th>...</th>\n",
       "      <th>RNA_Tumor_C3N.01524_3</th>\n",
       "      <th>RNA_Normal_C3N.01646_1</th>\n",
       "      <th>RNA_Tumor_C3N.01646_1</th>\n",
       "      <th>RNA_Normal_C3N.01648_1</th>\n",
       "      <th>RNA_Normal_C3N.01649_1</th>\n",
       "      <th>RNA_Tumor_C3N.01649_1</th>\n",
       "      <th>RNA_Normal_C3N.01651_1</th>\n",
       "      <th>RNA_Tumor_C3N.01651_1</th>\n",
       "      <th>RNA_Normal_C3N.01808_1</th>\n",
       "      <th>RNA_Tumor_C3N.01808_1</th>\n",
       "    </tr>\n",
       "  </thead>\n",
       "  <tbody>\n",
       "    <tr>\n",
       "      <th>166341</th>\n",
       "      <td>cg24393602</td>\n",
       "      <td>cg24393602</td>\n",
       "      <td>chr6</td>\n",
       "      <td>52995606</td>\n",
       "      <td>ENSG00000202198</td>\n",
       "      <td>7SK</td>\n",
       "      <td>0</td>\n",
       "      <td>0</td>\n",
       "      <td>S_Shore</td>\n",
       "      <td>TSS1500</td>\n",
       "      <td>...</td>\n",
       "      <td>NaN</td>\n",
       "      <td>NaN</td>\n",
       "      <td>NaN</td>\n",
       "      <td>NaN</td>\n",
       "      <td>NaN</td>\n",
       "      <td>NaN</td>\n",
       "      <td>NaN</td>\n",
       "      <td>NaN</td>\n",
       "      <td>NaN</td>\n",
       "      <td>NaN</td>\n",
       "    </tr>\n",
       "    <tr>\n",
       "      <th>66855</th>\n",
       "      <td>cg08830754</td>\n",
       "      <td>cg08830754</td>\n",
       "      <td>chr6</td>\n",
       "      <td>52995436</td>\n",
       "      <td>ENSG00000202198</td>\n",
       "      <td>7SK</td>\n",
       "      <td>0</td>\n",
       "      <td>0</td>\n",
       "      <td>S_Shore</td>\n",
       "      <td>TSS200</td>\n",
       "      <td>...</td>\n",
       "      <td>NaN</td>\n",
       "      <td>NaN</td>\n",
       "      <td>NaN</td>\n",
       "      <td>NaN</td>\n",
       "      <td>NaN</td>\n",
       "      <td>NaN</td>\n",
       "      <td>NaN</td>\n",
       "      <td>NaN</td>\n",
       "      <td>NaN</td>\n",
       "      <td>NaN</td>\n",
       "    </tr>\n",
       "    <tr>\n",
       "      <th>155112</th>\n",
       "      <td>cg22568540</td>\n",
       "      <td>cg22568540</td>\n",
       "      <td>chr19</td>\n",
       "      <td>58353480</td>\n",
       "      <td>ENSG00000121410</td>\n",
       "      <td>A1BG</td>\n",
       "      <td>A1BG</td>\n",
       "      <td>1</td>\n",
       "      <td>N_Shelf</td>\n",
       "      <td>Body;5'UTR;1stExon</td>\n",
       "      <td>...</td>\n",
       "      <td>NaN</td>\n",
       "      <td>NaN</td>\n",
       "      <td>NaN</td>\n",
       "      <td>NaN</td>\n",
       "      <td>NaN</td>\n",
       "      <td>NaN</td>\n",
       "      <td>NaN</td>\n",
       "      <td>NaN</td>\n",
       "      <td>NaN</td>\n",
       "      <td>NaN</td>\n",
       "    </tr>\n",
       "    <tr>\n",
       "      <th>124590</th>\n",
       "      <td>cg17498272</td>\n",
       "      <td>cg17498272</td>\n",
       "      <td>chr19</td>\n",
       "      <td>58353563</td>\n",
       "      <td>ENSG00000121410</td>\n",
       "      <td>A1BG</td>\n",
       "      <td>A1BG</td>\n",
       "      <td>1</td>\n",
       "      <td>N_Shelf</td>\n",
       "      <td>Body;TSS200</td>\n",
       "      <td>...</td>\n",
       "      <td>NaN</td>\n",
       "      <td>NaN</td>\n",
       "      <td>NaN</td>\n",
       "      <td>NaN</td>\n",
       "      <td>NaN</td>\n",
       "      <td>NaN</td>\n",
       "      <td>NaN</td>\n",
       "      <td>NaN</td>\n",
       "      <td>NaN</td>\n",
       "      <td>NaN</td>\n",
       "    </tr>\n",
       "    <tr>\n",
       "      <th>59196</th>\n",
       "      <td>cg07739758</td>\n",
       "      <td>cg07739758</td>\n",
       "      <td>chr19</td>\n",
       "      <td>58354001</td>\n",
       "      <td>ENSG00000121410</td>\n",
       "      <td>A1BG</td>\n",
       "      <td>A1BG</td>\n",
       "      <td>1</td>\n",
       "      <td>N_Shelf</td>\n",
       "      <td>Body;TSS1500</td>\n",
       "      <td>...</td>\n",
       "      <td>NaN</td>\n",
       "      <td>NaN</td>\n",
       "      <td>NaN</td>\n",
       "      <td>NaN</td>\n",
       "      <td>NaN</td>\n",
       "      <td>NaN</td>\n",
       "      <td>NaN</td>\n",
       "      <td>NaN</td>\n",
       "      <td>NaN</td>\n",
       "      <td>NaN</td>\n",
       "    </tr>\n",
       "    <tr>\n",
       "      <th>...</th>\n",
       "      <td>...</td>\n",
       "      <td>...</td>\n",
       "      <td>...</td>\n",
       "      <td>...</td>\n",
       "      <td>...</td>\n",
       "      <td>...</td>\n",
       "      <td>...</td>\n",
       "      <td>...</td>\n",
       "      <td>...</td>\n",
       "      <td>...</td>\n",
       "      <td>...</td>\n",
       "      <td>...</td>\n",
       "      <td>...</td>\n",
       "      <td>...</td>\n",
       "      <td>...</td>\n",
       "      <td>...</td>\n",
       "      <td>...</td>\n",
       "      <td>...</td>\n",
       "      <td>...</td>\n",
       "      <td>...</td>\n",
       "      <td>...</td>\n",
       "    </tr>\n",
       "    <tr>\n",
       "      <th>134548</th>\n",
       "      <td>cg19105961</td>\n",
       "      <td>cg19105961</td>\n",
       "      <td>chr17</td>\n",
       "      <td>4142929</td>\n",
       "      <td>ENSG00000074755</td>\n",
       "      <td>ZZEF1</td>\n",
       "      <td>ZZEF1</td>\n",
       "      <td>23140</td>\n",
       "      <td>Island</td>\n",
       "      <td>TSS1500;5'UTR;1stExon;TSS1500;TSS1500</td>\n",
       "      <td>...</td>\n",
       "      <td>NaN</td>\n",
       "      <td>NaN</td>\n",
       "      <td>NaN</td>\n",
       "      <td>NaN</td>\n",
       "      <td>NaN</td>\n",
       "      <td>NaN</td>\n",
       "      <td>NaN</td>\n",
       "      <td>NaN</td>\n",
       "      <td>NaN</td>\n",
       "      <td>NaN</td>\n",
       "    </tr>\n",
       "    <tr>\n",
       "      <th>19873</th>\n",
       "      <td>cg02459389</td>\n",
       "      <td>cg02459389</td>\n",
       "      <td>chr17</td>\n",
       "      <td>4019718</td>\n",
       "      <td>ENSG00000074755</td>\n",
       "      <td>ZZEF1</td>\n",
       "      <td>ZZEF1</td>\n",
       "      <td>23140</td>\n",
       "      <td>OpenSea</td>\n",
       "      <td>Body</td>\n",
       "      <td>...</td>\n",
       "      <td>NaN</td>\n",
       "      <td>NaN</td>\n",
       "      <td>NaN</td>\n",
       "      <td>NaN</td>\n",
       "      <td>NaN</td>\n",
       "      <td>NaN</td>\n",
       "      <td>NaN</td>\n",
       "      <td>NaN</td>\n",
       "      <td>NaN</td>\n",
       "      <td>NaN</td>\n",
       "    </tr>\n",
       "    <tr>\n",
       "      <th>11060</th>\n",
       "      <td>cg01341891</td>\n",
       "      <td>cg01341891</td>\n",
       "      <td>chr1</td>\n",
       "      <td>77682042</td>\n",
       "      <td>ENSG00000036549</td>\n",
       "      <td>ZZZ3</td>\n",
       "      <td>ZZZ3</td>\n",
       "      <td>26009</td>\n",
       "      <td>N_Shore</td>\n",
       "      <td>5'UTR</td>\n",
       "      <td>...</td>\n",
       "      <td>7.532377</td>\n",
       "      <td>6.027899</td>\n",
       "      <td>7.85286</td>\n",
       "      <td>6.769411</td>\n",
       "      <td>5.845572</td>\n",
       "      <td>8.083454</td>\n",
       "      <td>7.000563</td>\n",
       "      <td>8.019076</td>\n",
       "      <td>7.010768</td>\n",
       "      <td>7.782185</td>\n",
       "    </tr>\n",
       "    <tr>\n",
       "      <th>167499</th>\n",
       "      <td>cg24577193</td>\n",
       "      <td>cg24577193</td>\n",
       "      <td>chr1</td>\n",
       "      <td>77682711</td>\n",
       "      <td>ENSG00000036549</td>\n",
       "      <td>ZZZ3</td>\n",
       "      <td>ZZZ3</td>\n",
       "      <td>26009</td>\n",
       "      <td>Island</td>\n",
       "      <td>TSS200</td>\n",
       "      <td>...</td>\n",
       "      <td>NaN</td>\n",
       "      <td>NaN</td>\n",
       "      <td>NaN</td>\n",
       "      <td>NaN</td>\n",
       "      <td>NaN</td>\n",
       "      <td>NaN</td>\n",
       "      <td>NaN</td>\n",
       "      <td>NaN</td>\n",
       "      <td>NaN</td>\n",
       "      <td>NaN</td>\n",
       "    </tr>\n",
       "    <tr>\n",
       "      <th>153157</th>\n",
       "      <td>cg22221847</td>\n",
       "      <td>cg22221847</td>\n",
       "      <td>chr1</td>\n",
       "      <td>77565502</td>\n",
       "      <td>ENSG00000036549</td>\n",
       "      <td>ZZZ3</td>\n",
       "      <td>ZZZ3</td>\n",
       "      <td>26009</td>\n",
       "      <td>OpenSea</td>\n",
       "      <td>3'UTR</td>\n",
       "      <td>...</td>\n",
       "      <td>NaN</td>\n",
       "      <td>NaN</td>\n",
       "      <td>NaN</td>\n",
       "      <td>NaN</td>\n",
       "      <td>NaN</td>\n",
       "      <td>NaN</td>\n",
       "      <td>NaN</td>\n",
       "      <td>NaN</td>\n",
       "      <td>NaN</td>\n",
       "      <td>NaN</td>\n",
       "    </tr>\n",
       "  </tbody>\n",
       "</table>\n",
       "<p>161704 rows × 522 columns</p>\n",
       "</div>"
      ],
      "text/plain": [
       "        Unnamed: 0       Locus    chr       pos  ensembl_gene_id  \\\n",
       "166341  cg24393602  cg24393602   chr6  52995606  ENSG00000202198   \n",
       "66855   cg08830754  cg08830754   chr6  52995436  ENSG00000202198   \n",
       "155112  cg22568540  cg22568540  chr19  58353480  ENSG00000121410   \n",
       "124590  cg17498272  cg17498272  chr19  58353563  ENSG00000121410   \n",
       "59196   cg07739758  cg07739758  chr19  58354001  ENSG00000121410   \n",
       "...            ...         ...    ...       ...              ...   \n",
       "134548  cg19105961  cg19105961  chr17   4142929  ENSG00000074755   \n",
       "19873   cg02459389  cg02459389  chr17   4019718  ENSG00000074755   \n",
       "11060   cg01341891  cg01341891   chr1  77682042  ENSG00000036549   \n",
       "167499  cg24577193  cg24577193   chr1  77682711  ENSG00000036549   \n",
       "153157  cg22221847  cg22221847   chr1  77565502  ENSG00000036549   \n",
       "\n",
       "       external_gene_name hgnc_symbol  entrezgene_id Relation_to_Island  \\\n",
       "166341                7SK           0              0            S_Shore   \n",
       "66855                 7SK           0              0            S_Shore   \n",
       "155112               A1BG        A1BG              1            N_Shelf   \n",
       "124590               A1BG        A1BG              1            N_Shelf   \n",
       "59196                A1BG        A1BG              1            N_Shelf   \n",
       "...                   ...         ...            ...                ...   \n",
       "134548              ZZEF1       ZZEF1          23140             Island   \n",
       "19873               ZZEF1       ZZEF1          23140            OpenSea   \n",
       "11060                ZZZ3        ZZZ3          26009            N_Shore   \n",
       "167499               ZZZ3        ZZZ3          26009             Island   \n",
       "153157               ZZZ3        ZZZ3          26009            OpenSea   \n",
       "\n",
       "                           UCSC_RefGene_Group  ... RNA_Tumor_C3N.01524_3  \\\n",
       "166341                                TSS1500  ...                   NaN   \n",
       "66855                                  TSS200  ...                   NaN   \n",
       "155112                     Body;5'UTR;1stExon  ...                   NaN   \n",
       "124590                            Body;TSS200  ...                   NaN   \n",
       "59196                            Body;TSS1500  ...                   NaN   \n",
       "...                                       ...  ...                   ...   \n",
       "134548  TSS1500;5'UTR;1stExon;TSS1500;TSS1500  ...                   NaN   \n",
       "19873                                    Body  ...                   NaN   \n",
       "11060                                   5'UTR  ...              7.532377   \n",
       "167499                                 TSS200  ...                   NaN   \n",
       "153157                                  3'UTR  ...                   NaN   \n",
       "\n",
       "       RNA_Normal_C3N.01646_1  RNA_Tumor_C3N.01646_1  RNA_Normal_C3N.01648_1  \\\n",
       "166341                    NaN                    NaN                     NaN   \n",
       "66855                     NaN                    NaN                     NaN   \n",
       "155112                    NaN                    NaN                     NaN   \n",
       "124590                    NaN                    NaN                     NaN   \n",
       "59196                     NaN                    NaN                     NaN   \n",
       "...                       ...                    ...                     ...   \n",
       "134548                    NaN                    NaN                     NaN   \n",
       "19873                     NaN                    NaN                     NaN   \n",
       "11060                6.027899                7.85286                6.769411   \n",
       "167499                    NaN                    NaN                     NaN   \n",
       "153157                    NaN                    NaN                     NaN   \n",
       "\n",
       "        RNA_Normal_C3N.01649_1  RNA_Tumor_C3N.01649_1  RNA_Normal_C3N.01651_1  \\\n",
       "166341                     NaN                    NaN                     NaN   \n",
       "66855                      NaN                    NaN                     NaN   \n",
       "155112                     NaN                    NaN                     NaN   \n",
       "124590                     NaN                    NaN                     NaN   \n",
       "59196                      NaN                    NaN                     NaN   \n",
       "...                        ...                    ...                     ...   \n",
       "134548                     NaN                    NaN                     NaN   \n",
       "19873                      NaN                    NaN                     NaN   \n",
       "11060                 5.845572               8.083454                7.000563   \n",
       "167499                     NaN                    NaN                     NaN   \n",
       "153157                     NaN                    NaN                     NaN   \n",
       "\n",
       "        RNA_Tumor_C3N.01651_1  RNA_Normal_C3N.01808_1  RNA_Tumor_C3N.01808_1  \n",
       "166341                    NaN                     NaN                    NaN  \n",
       "66855                     NaN                     NaN                    NaN  \n",
       "155112                    NaN                     NaN                    NaN  \n",
       "124590                    NaN                     NaN                    NaN  \n",
       "59196                     NaN                     NaN                    NaN  \n",
       "...                       ...                     ...                    ...  \n",
       "134548                    NaN                     NaN                    NaN  \n",
       "19873                     NaN                     NaN                    NaN  \n",
       "11060                8.019076                7.010768               7.782185  \n",
       "167499                    NaN                     NaN                    NaN  \n",
       "153157                    NaN                     NaN                    NaN  \n",
       "\n",
       "[161704 rows x 522 columns]"
      ]
     },
     "execution_count": 29,
     "metadata": {},
     "output_type": "execute_result"
    }
   ],
   "source": [
    "genes = list(set(meth_df['external_gene_name'].values)&set(rna_df['external_gene_name'].values))\n",
    "v_r = rna_df[rna_df.set_index('external_gene_name').index.isin(genes)].sort_values('external_gene_name')\n",
    "v_p = meth_df[meth_df.set_index('external_gene_name').index.isin(genes)].sort_values('external_gene_name')\n",
    "\n",
    "rna_meth = v_p.join(v_r, lsuffix='', rsuffix='_')\n",
    "rna_meth"
   ]
  },
  {
   "cell_type": "code",
   "execution_count": 30,
   "id": "11bc3df9",
   "metadata": {},
   "outputs": [
    {
     "name": "stdout",
     "output_type": "stream",
     "text": [
      "\u001b[94m--------------------------------------------------------------------------------\u001b[0m\n",
      "\u001b[94mPearson correlation between RNAseq and DNA methylation: \t-0.0039863098067630925\t0.6272710460579092\t\u001b[0m\n",
      "\u001b[94m--------------------------------------------------------------------------------\u001b[0m\n"
     ]
    },
    {
     "data": {
      "image/png": "[encoded data removed]",
      "text/plain": [
       "<Figure size 216x216 with 1 Axes>"
      ]
     },
     "metadata": {},
     "output_type": "display_data"
    }
   ],
   "source": [
    "\n",
    "plt.scatter(rna_meth['logFC_meth'].values, rna_meth['logFC_rna'].values, alpha=0.2, c='k')\n",
    "rna_meth = rna_meth.dropna()\n",
    "\n",
    "corr, p_corr = pearsonr(rna_meth['logFC_meth'].values, rna_meth['logFC_rna'].values)\n",
    "plt.title(f'RNA and Meth correlation: {round(corr, 2)} {round(p_corr, 2)}')\n",
    "plt.xlabel('DNA Methylation difference')\n",
    "plt.ylabel('RNA logFC')\n",
    "plt.savefig(f'{fig_dir}Fig1A_RNA_Meth_corr_{meth_test_title}.svg')\n",
    "# Print out the pearson correlation\n",
    "u.dp(['Pearson correlation between RNAseq and DNA methylation: ', corr, p_corr])"
   ]
  },
  {
   "cell_type": "code",
   "execution_count": 31,
   "id": "b7b0c5b9",
   "metadata": {
    "pycharm": {
     "name": "#%%\n"
    }
   },
   "outputs": [
    {
     "data": {
      "image/png": "[encoded data removed]",
      "text/plain": [
       "<Figure size 216x216 with 1 Axes>"
      ]
     },
     "metadata": {},
     "output_type": "display_data"
    },
    {
     "name": "stdout",
     "output_type": "stream",
     "text": [
      "\u001b[94m--------------------------------------------------------------------------------\u001b[0m\n",
      "\u001b[94mPearson correlation between RNAseq and DNA methylation Beta: \t-0.172699114287582\t3.3929936065564195e-114\t\u001b[0m\n",
      "\u001b[94m--------------------------------------------------------------------------------\u001b[0m\n"
     ]
    },
    {
     "data": {
      "image/png": "[encoded data removed]",
      "text/plain": [
       "<Figure size 216x216 with 1 Axes>"
      ]
     },
     "metadata": {},
     "output_type": "display_data"
    }
   ],
   "source": [
    "plt.hist(rna_meth['logFC_meth'].values, bins=20)\n",
    "plt.show()\n",
    "genes = list(set(meth_f_df['ensembl_gene_id'].values)&set(rna_df['ensembl_gene_id'].values))\n",
    "rna_df.set_index('ensembl_gene_id', inplace=True)\n",
    "v_r = rna_df[rna_df.index.isin(genes)].sort_values('ensembl_gene_id')\n",
    "meth_f_df.set_index('ensembl_gene_id', inplace=True)\n",
    "v_p = meth_f_df[meth_f_df.index.isin(genes)].sort_values('ensembl_gene_id')\n",
    "rna_meth = v_p.join(v_r, lsuffix='', rsuffix='_')\n",
    "rna_meth\n",
    "plt.scatter(v_p['CpG_Beta_diff'].values, v_r['logFC_rna'].values, alpha=0.2, c='k')\n",
    "corr, p_corr = pearsonr(v_p['CpG_Beta_diff'].values, v_r['logFC_rna'].values)\n",
    "plt.title(f'RNA and Meth correlation: {round(corr, 2)} {round(p_corr, 2)}')\n",
    "plt.xlabel('DNA Methylation difference')\n",
    "plt.ylabel('RNA logFC')\n",
    "plt.savefig(f'{fig_dir}Fig1A_RNA_Meth_Beta_corr_{meth_test_title}.svg')\n",
    "# Print out the pearson correlation\n",
    "u.dp(['Pearson correlation between RNAseq and DNA methylation Beta: ', corr, p_corr])"
   ]
  }
 ],
 "metadata": {
  "kernelspec": {
   "display_name": "Python 3",
   "language": "python",
   "name": "python3"
  },
  "language_info": {
   "codemirror_mode": {
    "name": "ipython",
    "version": 3
   },
   "file_extension": ".py",
   "mimetype": "text/x-python",
   "name": "python",
   "nbconvert_exporter": "python",
   "pygments_lexer": "ipython3",
   "version": "3.6.13"
  }
 },
 "nbformat": 4,
 "nbformat_minor": 5
}
