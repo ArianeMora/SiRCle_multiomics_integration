{
 "cells": [
  {
   "cell_type": "markdown",
   "id": "6ee71a70",
   "metadata": {},
   "source": [
    "# Formatting column names for the sample/data for SiRCle analysis\n",
    "\n",
    "Given this will be very specific to each user/problem/dataset downloaded, we show an example on the ccRCC dataset however, highlight that this is only for a specific case.\n",
    "\n",
    "\n",
    "### Data required for the input (examples for ccRCC provided at zotero):\n",
    "a. RNAseq matrix  \n",
    "&emsp; 1. columns as the patient samples  \n",
    "&emsp; 2. rows as the genes, using the gene name as the ID  \n",
    "b. CpG matirx  \n",
    "&emsp; 1. columns as patient samples   \n",
    "&emsp; 2. rows as the CpGs (expecting probes), using the probe ID as the ID  \n",
    "c. Protein matrix  \n",
    "&emsp; 1. columns as patient samples  \n",
    "&emsp; 2. rows as the gene names associated with the proteins.  \n",
    "\n",
    "Each one requires a sample file with the following columns:\n",
    "1. CaseID: patient identifier\n",
    "2. CondID: 1 = Tumour, 0 = Normal\n",
    "3. SampleType: Tumour, Normal\n",
    "4. FullLabel: Column name in the associated matrix file (no special characters including '-', otherwise it won't work nicely between R and python.\n",
    "5. Optional: any patient attributes interested in investigating or sample specific attributes."
   ]
  },
  {
   "cell_type": "code",
   "execution_count": 59,
   "id": "a5edada1",
   "metadata": {},
   "outputs": [],
   "source": [
    "# Imports\n",
    "import pandas as pd\n",
    "from sciviso import *\n",
    "from scircm import * # Note if you have a mac M1 use from sircle import * and you won't be able to do 7,8\n",
    "import seaborn as sns\n",
    "import numpy as np\n",
    "from sciutil import *\n",
    "import matplotlib.pyplot as plt\n",
    "from sklearn.decomposition import PCA\n",
    "\n",
    "u = SciUtil()\n",
    "data_dir = '../ccRCC/'\n",
    "output_dir = '../ccRCC/data_input/'\n",
    "de_dir = '../ccRCC/DE/'\n",
    "supp_dir = '../supps/'\n",
    "fig_dir = '../figs/'"
   ]
  },
  {
   "cell_type": "code",
   "execution_count": 60,
   "id": "ceb8cd9b",
   "metadata": {},
   "outputs": [
    {
     "name": "stdout",
     "output_type": "stream",
     "text": [
      "\u001b[94m--------------------------------------------------------------------------------\u001b[0m\n",
      "\u001b[94mNumber of Protein samples:\t194\t\n",
      "\ttumor     115\n",
      "normal     79\n",
      "Name: SampleType, dtype: int64\t\u001b[0m\n",
      "\u001b[94m--------------------------------------------------------------------------------\u001b[0m\n",
      "\u001b[94m--------------------------------------------------------------------------------\u001b[0m\n",
      "\u001b[94mNumber of RNA samples:\t263\t\n",
      "\tTumor     190\n",
      "Normal     73\n",
      "Name: SampleType, dtype: int64\t\u001b[0m\n",
      "\u001b[94m--------------------------------------------------------------------------------\u001b[0m\n",
      "\u001b[94m--------------------------------------------------------------------------------\u001b[0m\n",
      "\u001b[94mNumber of DNA methylation samples:\t267\t\n",
      "\tTumor     191\n",
      "Normal     76\n",
      "Name: SampleType, dtype: int64\t\u001b[0m\n",
      "\u001b[94m--------------------------------------------------------------------------------\u001b[0m\n",
      "old       141\n",
      "middle    107\n",
      "young      15\n",
      "Name: Age, dtype: int64\n"
     ]
    },
    {
     "data": {
      "text/plain": [
       "old       142\n",
       "middle    115\n",
       "young      10\n",
       "Name: Age, dtype: int64"
      ]
     },
     "execution_count": 60,
     "metadata": {},
     "output_type": "execute_result"
    }
   ],
   "source": [
    "protein_sample_df = pd.read_csv(f'{data_dir}protein/CPTAC_samples_Renal_cell_carcinoma__NOS_unpaired.csv')\n",
    "rna_sample_df = pd.read_csv(f'{data_dir}RNA/CPTAC_samples_Renal_cell_carcinoma__NOS.csv')\n",
    "cpg_sample_df = pd.read_csv(f'{data_dir}methylation/CPTAC_samples_Renal_cell_carcinoma__NOS.csv')\n",
    "# Filter rna and CpG df and protein to only include cases that are all shared then make a joint sample df\n",
    "cpg_sample_df = cpg_sample_df[cpg_sample_df['SafeCases'].isin(protein_sample_df['SafeCases'])]\n",
    "cpg_sample_df = cpg_sample_df[cpg_sample_df['SafeCases'].isin(rna_sample_df['SafeCases'])]\n",
    "\n",
    "rna_sample_df = rna_sample_df[rna_sample_df['SafeCases'].isin(protein_sample_df['SafeCases'])]\n",
    "rna_sample_df = rna_sample_df[rna_sample_df['SafeCases'].isin(cpg_sample_df['SafeCases'])]\n",
    "\n",
    "protein_sample_df = protein_sample_df[protein_sample_df['SafeCases'].isin(cpg_sample_df['SafeCases'])]\n",
    "\n",
    "u.dp(['Number of Protein samples:', len(protein_sample_df),'\\n', protein_sample_df.SampleType.value_counts()])\n",
    "u.dp(['Number of RNA samples:', len(rna_sample_df), '\\n', rna_sample_df.SampleType.value_counts()])\n",
    "u.dp(['Number of DNA methylation samples:', len(cpg_sample_df), '\\n', cpg_sample_df.SampleType.value_counts()])\n",
    "\n",
    "# Convert age to years\n",
    "cpg_sample_df['age_at_diagnosis_years'] = [int(c)/365 if c != '--' else 1000 for c in cpg_sample_df['age_at_diagnosis'].values]\n",
    "rna_sample_df['age_at_diagnosis_years'] = [int(c)/365 if c != '--' else 1000 for c in rna_sample_df['age_at_diagnosis'].values]\n",
    "\n",
    "# Format some of the demographic info\n",
    "ages = []\n",
    "for a in rna_sample_df['age_at_diagnosis_years']:\n",
    "    if a <=42:\n",
    "        ages.append('young')\n",
    "    elif a <59:\n",
    "        ages.append('middle')\n",
    "    else:\n",
    "        ages.append('old')\n",
    "rna_sample_df['Age'] = ages\n",
    "print(rna_sample_df['Age'].value_counts())\n",
    "\n",
    "ages = []\n",
    "for a in cpg_sample_df['age_at_diagnosis_years']:\n",
    "    if a <=40:\n",
    "        ages.append('young')\n",
    "    elif a <60:\n",
    "        ages.append('middle')\n",
    "    else:\n",
    "        ages.append('old')\n",
    "cpg_sample_df['Age'] = ages\n",
    "cpg_sample_df['Age'].value_counts()\n"
   ]
  },
  {
   "cell_type": "code",
   "execution_count": 61,
   "id": "d4a7d3c5",
   "metadata": {},
   "outputs": [
    {
     "data": {
      "text/plain": [
       "0        male\n",
       "1        male\n",
       "3        male\n",
       "4        male\n",
       "5        male\n",
       "        ...  \n",
       "420      male\n",
       "421      male\n",
       "422      male\n",
       "424    female\n",
       "425      male\n",
       "Name: gender, Length: 267, dtype: object"
      ]
     },
     "execution_count": 61,
     "metadata": {},
     "output_type": "execute_result"
    }
   ],
   "source": [
    "## Make sure the sample DFs are formatted the same\n",
    "cpg_sample_df.gender"
   ]
  },
  {
   "cell_type": "code",
   "execution_count": 66,
   "id": "0d2f1772",
   "metadata": {},
   "outputs": [
    {
     "data": {
      "text/plain": [
       "old       104\n",
       "middle     81\n",
       "young       9\n",
       "Name: Age, dtype: int64"
      ]
     },
     "execution_count": 66,
     "metadata": {},
     "output_type": "execute_result"
    }
   ],
   "source": [
    "### Reformat each of the sample DFs and only keep the necessary columns and also update the data file labels\n",
    "rna_sample_df['ExtendedLabel'] = rna_sample_df.FullLabel.values\n",
    "safe_cases = rna_sample_df.SafeCases.values\n",
    "rna_sample_df['FullLabel'] = [f'{safe_cases[i]}_{c}' for i, c in enumerate(rna_sample_df.SampleType.values)]\n",
    "\n",
    "cpg_sample_df['ExtendedLabel'] = cpg_sample_df.FullLabel.values\n",
    "safe_cases = cpg_sample_df.SafeCases.values\n",
    "cpg_sample_df['FullLabel'] = [f'{safe_cases[i]}_{c}' for i, c in enumerate(cpg_sample_df.SampleType.values)]\n",
    "\n",
    "# Build one for the protein_sample_df\n",
    "protein_sample_df['SampleType'] = [c.title() for c in protein_sample_df['SampleType'].values]\n",
    "protein_sample_df['ExtendedLabel'] = protein_sample_df.FullLabel.values\n",
    "\n",
    "# Make cases R friendly\n",
    "protein_sample_df['SafeCases'] = [c.replace('-', '.') for c in protein_sample_df['case_id'].values]\n",
    "safe_cases = protein_sample_df.SafeCases.values\n",
    "protein_sample_df['FullLabel'] = [f'{safe_cases[i]}_{c}' for i, c in enumerate(protein_sample_df.SampleType.values)]\n",
    "protein_sample_df['CaseID'] = protein_sample_df.case_id.values\n",
    "\n",
    "# Add the other sample information from the clinical data for that case\n",
    "protein_clinical = pd.read_csv(f'{data_dir}Kidney/clinical_S050_S044_CPTAC_ccRCC_Discovery_Cohort_Clinical_Data_r4_Sept2019.csv')\n",
    "case_to_age = dict(zip(protein_clinical.case_id, protein_clinical.age))\n",
    "case_to_stage = dict(zip(protein_clinical.case_id, protein_clinical.tumor_stage_pathological))\n",
    "case_to_race = dict(zip(protein_clinical.case_id, protein_clinical.race))\n",
    "case_to_gender = dict(zip(protein_clinical.case_id, protein_clinical.gender))\n",
    "protein_sample_df['ajcc_pathologic_stage'] = [case_to_stage.get(c) for c in protein_sample_df.case_id.values]\n",
    "protein_sample_df['age'] = [case_to_age.get(c) for c in protein_sample_df.case_id.values]\n",
    "protein_sample_df['race'] = [case_to_race.get(c) for c in protein_sample_df.case_id.values]\n",
    "protein_sample_df['gender'] = [case_to_gender.get(c) for c in protein_sample_df.case_id.values]\n",
    "\n",
    "protein_sample_df['race'] = [c.lower() if isinstance(c, str) else '' for c in protein_sample_df.race.values]\n",
    "protein_sample_df['gender'] = [c.lower() if isinstance(c, str) else '' for c in protein_sample_df.gender.values]\n",
    "\n",
    "\n",
    "ages = []\n",
    "for a in protein_sample_df['age']:\n",
    "    a = 100 if a == '>=90' else a\n",
    "    a = int(a) if isinstance(a, str) else 1000 \n",
    "    if a <=40:\n",
    "        ages.append('young')\n",
    "    elif a <60:\n",
    "        ages.append('middle')\n",
    "    else:\n",
    "        ages.append('old')\n",
    "protein_sample_df['Age'] = ages\n",
    "protein_sample_df['Age'].value_counts()\n",
    "\n",
    "# Make the cond ID also ok"
   ]
  },
  {
   "cell_type": "code",
   "execution_count": 99,
   "id": "08a41634",
   "metadata": {},
   "outputs": [],
   "source": [
    "protein_sample_df['CondID'] = [1 if s == 'Tumor' else 0 for s in protein_sample_df.SampleType.values]\n",
    "rna_sample_df['CondID'] = [1 if s == 'Tumor' else 0 for s in rna_sample_df.SampleType.values]\n",
    "cpg_sample_df['CondID'] = [1 if s == 'Tumor' else 0 for s in cpg_sample_df.SampleType.values]"
   ]
  },
  {
   "cell_type": "markdown",
   "id": "1e81cb9d",
   "metadata": {},
   "source": [
    "## Filter the RNA, CpG, and protein datasets to include only the patients that had protein included in the sampling process"
   ]
  },
  {
   "cell_type": "code",
   "execution_count": 89,
   "id": "2eb7e17c",
   "metadata": {},
   "outputs": [],
   "source": [
    "cpg_data = pd.read_csv(f'{data_dir}methylation/CPTAC_Renal_cell_carcinoma__NOS.csv')\n",
    "rna_data = pd.read_csv(f'{data_dir}RNA/CPTAC_Renal_cell_carcinoma__NOS.csv')\n",
    "protein_data = pd.read_csv(f'{data_dir}Protein/CPTAC_Renal_cell_carcinoma__NOS.csv')"
   ]
  },
  {
   "cell_type": "code",
   "execution_count": 100,
   "id": "e6dd1d4d",
   "metadata": {},
   "outputs": [],
   "source": [
    "# Drop replicates\n",
    "rna_sample_df.drop_duplicates('FullLabel', inplace=True)\n",
    "cpg_sample_df.drop_duplicates('FullLabel', inplace=True)\n",
    "protein_sample_df.drop_duplicates('FullLabel', inplace=True)\n",
    "rna_sample_df[['SafeCases', 'CondID', 'SampleType', 'FullLabel', 'Age', 'ajcc_pathologic_stage', 'race', 'gender']].to_csv(f'{output_dir}samples_RNA.csv', index=False)\n",
    "cpg_sample_df[['SafeCases', 'CondID', 'SampleType', 'FullLabel', 'Age', 'ajcc_pathologic_stage', 'race', 'gender']].to_csv(f'{output_dir}samples_CpG.csv', index=False)"
   ]
  },
  {
   "cell_type": "code",
   "execution_count": 90,
   "id": "03ede455",
   "metadata": {},
   "outputs": [],
   "source": [
    "# First remove unwanted columns, then rename the existing columns then save to CSV\n",
    "protein_data = protein_data[['gene_name'] + list(protein_sample_df.ExtendedLabel.values)]\n",
    "\n",
    "rna_col_map = {}\n",
    "for c in rna_data.columns:\n",
    "    rna_col_map[c] = c.replace('-', '.')\n",
    "rna_data.rename(columns=rna_col_map, inplace=True)\n",
    "\n",
    "col_map = {}\n",
    "for c in cpg_data.columns:\n",
    "    col_map[c] = c.replace('-', '.')\n",
    "cpg_data.rename(columns=col_map, inplace=True)\n",
    "\n",
    "cpg_data = cpg_data[['id'] + list(cpg_sample_df.ExtendedLabel.values)]\n",
    "# Need to rename the columns\n",
    "rna_data = rna_data[['gene_id', 'gene_name'] + list(rna_sample_df.ExtendedLabel.values)]\n",
    "\n",
    "col_map = {}\n",
    "labels = protein_sample_df.FullLabel.values\n",
    "for i, c in enumerate(protein_sample_df.ExtendedLabel.values):\n",
    "    col_map[c] = labels[i]\n",
    "protein_data.rename(columns=col_map, inplace=True)"
   ]
  },
  {
   "cell_type": "code",
   "execution_count": 91,
   "id": "ea2e6b3d",
   "metadata": {},
   "outputs": [
    {
     "data": {
      "text/plain": [
       "SafeCases\n",
       "C3L.00004    2\n",
       "C3N.00168    2\n",
       "C3N.00495    2\n",
       "C3N.00494    2\n",
       "C3N.00435    2\n",
       "            ..\n",
       "C3N.00380    1\n",
       "C3L.00792    1\n",
       "C3N.00437    1\n",
       "C3N.00491    1\n",
       "C3N.01808    1\n",
       "Length: 106, dtype: int64"
      ]
     },
     "execution_count": 91,
     "metadata": {},
     "output_type": "execute_result"
    }
   ],
   "source": [
    "# Make sure we have ids for the replicates\n",
    "cpg_sample_df = cpg_sample_df.sort_values('SafeCases')\n",
    "rna_sample_df = rna_sample_df.sort_values('SafeCases')\n",
    "rna_sample_df.value_counts('SafeCases') # I.e. we can see that some cases have 6 samples... "
   ]
  },
  {
   "cell_type": "code",
   "execution_count": 93,
   "id": "a115e28c",
   "metadata": {},
   "outputs": [],
   "source": [
    "col_map = {}\n",
    "labels = cpg_sample_df.FullLabel.values\n",
    "for i, c in enumerate(cpg_sample_df.ExtendedLabel.values):\n",
    "    col_map[c] = labels[i]\n",
    "cpg_data.rename(columns=col_map, inplace=True)\n",
    "\n",
    "col_map = {}\n",
    "labels = rna_sample_df.FullLabel.values\n",
    "for i, c in enumerate(rna_sample_df.ExtendedLabel.values):\n",
    "    col_map[c] = labels[i]\n",
    "rna_data.rename(columns=col_map, inplace=True)"
   ]
  },
  {
   "cell_type": "code",
   "execution_count": 98,
   "id": "300b0bb3",
   "metadata": {},
   "outputs": [],
   "source": [
    "cpg_data.to_csv(f'{output_dir}data_CpG.csv', index=False)\n",
    "rna_data.to_csv(f'{output_dir}data_RNA.csv', index=False)\n"
   ]
  },
  {
   "cell_type": "code",
   "execution_count": 104,
   "id": "af708d90",
   "metadata": {},
   "outputs": [],
   "source": [
    "protein_sample_df[['SafeCases', 'CondID', 'SampleType', 'FullLabel', 'Age', 'ajcc_pathologic_stage', 'race', 'gender']].to_csv(f'{output_dir}samples_protein.csv', index=False)\n"
   ]
  },
  {
   "cell_type": "code",
   "execution_count": 103,
   "id": "4b8b2517",
   "metadata": {},
   "outputs": [],
   "source": [
    "protein_data.to_csv(f'{output_dir}data_protein.csv', index=False)"
   ]
  }
 ],
 "metadata": {
  "kernelspec": {
   "display_name": "Python 3 (ipykernel)",
   "language": "python",
   "name": "python3"
  },
  "language_info": {
   "codemirror_mode": {
    "name": "ipython",
    "version": 3
   },
   "file_extension": ".py",
   "mimetype": "text/x-python",
   "name": "python",
   "nbconvert_exporter": "python",
   "pygments_lexer": "ipython3",
   "version": "3.10.8"
  }
 },
 "nbformat": 4,
 "nbformat_minor": 5
}
