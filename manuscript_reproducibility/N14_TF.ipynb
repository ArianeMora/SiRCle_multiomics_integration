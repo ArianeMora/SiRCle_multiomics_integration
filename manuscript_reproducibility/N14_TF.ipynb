{
 "cells": [
  {
   "cell_type": "markdown",
   "metadata": {},
   "source": [
    "# Perform TF analysis to identify clusters that may be targetted by TFs"
   ]
  },
  {
   "cell_type": "code",
   "execution_count": 1,
   "metadata": {},
   "source": [
    "from scimotf import SciMotf_Doro\n",
    "import pandas as pd\n",
    "import numpy as np\n",
    "\n",
    "base_dir = '../data/'\n",
    "data_dir = f'{base_dir}sircle/F3_regulatory_clustering/'\n",
    "output_dir = f'{base_dir}sircle/F4_TF_analysis/'\n",
    "fig_dir = '../figures/'\n",
    "supp_dir = f'{base_dir}raw_downloads/supps/'\n",
    "gene_name = 'hgnc_symbol'\n",
    "save_fig = False\n",
    "test_title = 'all_patients_ccRCC'\n",
    "run_label = 'P0.5-R1.0-M0.1'"
   ],
   "outputs": []
  },
  {
   "cell_type": "code",
   "execution_count": 4,
   "metadata": {
    "scrolled": true
   },
   "source": [
    "rcm_file = f'{data_dir}RCM_all_patients_ccRCC_P0.5-R1.0-M0.1-GENES.csv'\n",
    "tf_file = supp_dir + 'dorothea_hs_ABCD.csv'\n",
    "mo = SciMotf_Doro(doro_file=tf_file, cluster_file=rcm_file, cluster_gene_id='external_gene_name', # got to match motif\n",
    "                 padj_protein='padj_protein', logfc_protein='logFC_protein', padj_rna='padj_rna',\n",
    "                  logfc_rna='logFC_rna', output_dir=output_dir)\n",
    "\n",
    "df = mo.run() #['A'], rcm_clusters=[\"TMDE\", \"TMDS\", \"MDS\", \"MDS_TMDE\", \"MDE\", \"MDE_TMDS\", \"TPDE\", \"TPDE_TMDS\", \"TPDS\", \"TPDS_TMDE\",])\n",
    "df.to_csv(f'{output_dir}scimotif_DORO_A.csv')"
   ],
   "outputs": []
  },
  {
   "cell_type": "code",
   "execution_count": 5,
   "metadata": {},
   "source": [
    "df"
   ],
   "outputs": []
  },
  {
   "cell_type": "code",
   "execution_count": 9,
   "metadata": {},
   "source": [
    "def plot_cluster_tf(filename, gene_ratio_min=1, padj_max=0.05, title='', fig_dir='',\n",
    "                    label_font_size=9, figsize=(3, 3), axis_font_size=6,\n",
    "                    rcm_labels=[\"MDS\", \"MDS_TMDE\", \"MDE\", \"MDE_TMDS\", \"TMDE\", \"TMDS\", \"TPDE\", \"TPDE_TMDS\", \"TPDS\", \"TPDS_TMDE\"],\n",
    "                    save_fig=True):\n",
    "    \"\"\"\n",
    "\n",
    "    Parameters\n",
    "    ----------\n",
    "    filename\n",
    "    gene_ratio\n",
    "    count_column\n",
    "    padj\n",
    "    overlap_column\n",
    "    id_column\n",
    "    label_column\n",
    "    gene_ratio_min\n",
    "    padj_max\n",
    "    title\n",
    "    label_font_size\n",
    "    figsize\n",
    "    axis_font_size\n",
    "    min_count\n",
    "    max_count\n",
    "    min_overlap\n",
    "    save_fig\n",
    "\n",
    "    Returns\n",
    "    -------\n",
    "\n",
    "    \"\"\"\n",
    "    odds_ratio_df = pd.read_csv(filename)\n",
    "    for r in rcm_labels:\n",
    "        r_df = odds_ratio_df[odds_ratio_df['Regulatory Cluster label'] == r]\n",
    "        r_df = r_df[r_df['genes targeted by TF and in cluster'] > gene_ratio_min]\n",
    "        r_df = r_df[r_df['p.adj'] < padj_max]\n",
    "        title = r\n",
    "        if len(r_df) > 1:\n",
    "            eplot = Emapplot(r_df,\n",
    "                             size_column='genes targeted by TF and in cluster',\n",
    "                             color_column='p.adj',\n",
    "                             id_column='TF',\n",
    "                             label_column='TF',\n",
    "                             overlap_column='gene_names', overlap_sep=' ', title=r,\n",
    "                             config={'figsize': figsize, 'label_font_size': label_font_size,\n",
    "                                     'axis_font_size': axis_font_size})\n",
    "            eplot.build_graph()\n",
    "            plt.title(title)\n",
    "            plt.gca().set_clip_on = False\n",
    "            if save_fig:\n",
    "                plt.savefig(f'{fig_dir}TF_{title.replace(\" \", \"-\")}_network.svg', bbox_inches='tight',\n",
    "                            transparent=True)\n",
    "            plt.show()\n",
    "\n",
    "            x, y = np.ogrid[:300, :300]\n",
    "\n",
    "            mask = (x - 150) ** 2 + (y - 150) ** 2 > 130 ** 2\n",
    "            mask = 255 * mask.astype(int)\n",
    "            wordfeqs = defaultdict(int)\n",
    "            for g in r_df['gene_names'].values:\n",
    "                for w in g.split(' '):\n",
    "                    w = w.replace(' ', '.')\n",
    "                    wordfeqs[w] += 1\n",
    "            total_words = len(wordfeqs)\n",
    "            for w in wordfeqs:\n",
    "                wordfeqs[w] = wordfeqs[w] / total_words\n",
    "            wordcloud = WordCloud(background_color=\"white\", mask=mask, colormap='viridis',\n",
    "                                  repeat=False).generate_from_frequencies(wordfeqs)\n",
    "\n",
    "            plt.figure()\n",
    "            plt.rcParams['svg.fonttype'] = 'none'  # Ensure text is saved as text\n",
    "            plt.rcParams['figure.figsize'] = figsize\n",
    "            font_family = 'sans-serif'\n",
    "            font = 'Arial'\n",
    "            sns.set(rc={'figure.figsize': figsize, 'font.family': font_family,\n",
    "                        'font.sans-serif': font, 'font.size': 12}, style='ticks')\n",
    "            plt.figure()\n",
    "            plt.imshow(wordcloud, interpolation=\"bilinear\")\n",
    "            plt.axis(\"off\")\n",
    "            if save_fig:\n",
    "                wordcloud_svg = wordcloud.to_svg(embed_font=True)\n",
    "                f = open(f'{fig_dir}TF_{r}_WordCloud.svg', \"w+\")\n",
    "                f.write(wordcloud_svg)\n",
    "                f.close()\n",
    "                plt.savefig(f'{fig_dir}TF_{r}_WordCloud.png', bbox_inches='tight')\n",
    "            plt.show()"
   ],
   "outputs": []
  },
  {
   "cell_type": "code",
   "execution_count": 10,
   "metadata": {},
   "source": [
    "#from scimotf import plot_cluster_tf\n",
    "from scipy.stats import fisher_exact\n",
    "from statsmodels.stats.multitest import multipletests\n",
    "from sciutil import SciUtil, SciException\n",
    "from sciviso import Emapplot\n",
    "import pandas as pd\n",
    "import matplotlib.pyplot as plt\n",
    "import numpy as np\n",
    "from collections import defaultdict\n",
    "from wordcloud import WordCloud\n",
    "import seaborn as sns\n",
    "plot_cluster_tf(f'{output_dir}scimotif_DORO_A.csv', save_fig=True, fig_dir=output_dir)"
   ],
   "outputs": []
  },
  {
   "cell_type": "markdown",
   "metadata": {},
   "source": [
    "## Format the ChIP peaks from ChIP atlas"
   ]
  },
  {
   "cell_type": "code",
   "execution_count": 4,
   "metadata": {
    "pycharm": {
     "name": "#%%\n"
    }
   },
   "source": [
    "# Read the bed files and save the 3 separate files for HIF1A\n",
    "# 1) RCC kidney 2) other kidney, 3) all other tissues\n",
    "# https://www.ncbi.nlm.nih.gov/geo/query/acc.cgi?acc=GSE120887 good study \n",
    "chip_dir = f'{base_dir}/raw_downloads/ChIP_atlas/'\n",
    "with open(f'{chip_dir}Oth.ALL.05.HIF1A.AllCell.bed', 'r') as f:\n",
    "    with open(f'files/HIF1A_kidney_RCC.bed', 'w+') as rcc:\n",
    "        with open(f'files/HIF1A_kidney_other.bed', 'w+') as kidney:\n",
    "            with open(f'files/HIF1A_OTHER.bed', 'w+') as all_other:\n",
    "                first = True\n",
    "                for line in f:\n",
    "                    line = line.replace('%20', '').replace('@', '')\n",
    "                    if first:\n",
    "                        rcc.write(line)\n",
    "                        kidney.write(line)\n",
    "                        all_other.write(line)\n",
    "                        first = False\n",
    "                    else:\n",
    "                        if 'Title=GSM2723878' in line or ('RCC' in line and 'Title' in line):\n",
    "                            rcc.write(line)\n",
    "                        elif 'group=Kidney' in line:\n",
    "                            kidney.write(line)\n",
    "                        else:\n",
    "                            all_other.write(line)"
   ],
   "outputs": []
  },
  {
   "cell_type": "code",
   "execution_count": 5,
   "metadata": {},
   "source": [
    "# Read the bed files and save the 3 separate files for HIF1A\n",
    "# 1) RCC kidney 2) other kidney, 3) all other tissues\n",
    "# https://www.ncbi.nlm.nih.gov/geo/query/acc.cgi?acc=GSE120887 good study \n",
    "with open(f'{chip_dir}Oth.ALL.05.EPAS1.AllCell.bed', 'r') as f:\n",
    "    with open(f'files/HIF1B-EPAS1_kidney_RCC.bed', 'w+') as rcc:\n",
    "        with open(f'files/HIF1B-EPAS1_kidney_other.bed', 'w+') as kidney:\n",
    "            with open(f'files/HIF1B-EPAS1_OTHER.bed', 'w+') as all_other:\n",
    "                first = True\n",
    "                for line in f:\n",
    "                    line = line.replace('%20', '').replace('@', '')\n",
    "                    if first:\n",
    "                        rcc.write(line)\n",
    "                        kidney.write(line)\n",
    "                        all_other.write(line)\n",
    "                        first = False\n",
    "                    else:\n",
    "                        if 'Title=GSM1642766' in line or ('RCC' in line and 'Title' in line):\n",
    "                            rcc.write(line)\n",
    "                        elif 'group=Kidney' in line:\n",
    "                            kidney.write(line)\n",
    "                        else:\n",
    "                            all_other.write(line)"
   ],
   "outputs": []
  },
  {
   "cell_type": "markdown",
   "metadata": {},
   "source": [
    "## Use IGV to view genes"
   ]
  },
  {
   "cell_type": "code",
   "execution_count": 6,
   "metadata": {
    "pycharm": {
     "name": "#%%\n"
    }
   },
   "source": [
    "import igv\n",
    "\n",
    "b = igv.Browser({\"genome\": \"hg38\"})\n",
    "b.show()\n",
    "\n",
    "# Load HIF1A and HIF1B/EPAS1\n",
    "b.load_track(\n",
    "    {\n",
    "        \"name\": \"HIF1A RCC\",\n",
    "        \"url\": 'files/HIF1A_kidney_RCC.bed',\n",
    "        \"format\": \"bed\",\n",
    "        \"type\": \"annotation\",\n",
    "        \"sourceType\": \"file\",\n",
    "        \"indexed\": False,\n",
    "        \"displayMode\": \"EXPANDED\",\n",
    "        \"color\": \"#b91c1c\" #\"#e58f35\" # same colour as TPDE\n",
    "    })\n",
    "\n",
    "b.load_track(\n",
    "    {\n",
    "        \"name\": \"EPAS1 RCC\",\n",
    "        \"url\": 'files/HIF1B-EPAS1_kidney_RCC.bed',\n",
    "        \"format\": \"bed\",\n",
    "        \"type\": \"annotation\",\n",
    "        \"sourceType\": \"file\",\n",
    "        \"indexed\": False,\n",
    "        \"displayMode\": \"EXPANDED\",\n",
    "        \"color\": \"#93c5fd\" #\"#e58f35\" # same colour as TPDE\n",
    "    })\n"
   ],
   "outputs": []
  },
  {
   "cell_type": "code",
   "execution_count": null,
   "metadata": {},
   "source": [],
   "outputs": []
  }
 ],
 "metadata": {
  "kernelspec": {
   "display_name": "Python 3 (ipykernel)",
   "language": "python",
   "name": "python3"
  },
  "language_info": {
   "codemirror_mode": {
    "name": "ipython",
    "version": 3
   },
   "file_extension": ".py",
   "mimetype": "text/x-python",
   "name": "python",
   "nbconvert_exporter": "python",
   "pygments_lexer": "ipython3",
   "version": "3.8.13"
  }
 },
 "nbformat": 4,
 "nbformat_minor": 1
}
