{
 "cells": [
  {
   "cell_type": "markdown",
   "id": "f2b7d54d",
   "metadata": {},
   "source": [
    "# Printing out metabolite names and their cluster"
   ]
  },
  {
   "cell_type": "code",
   "execution_count": 2,
   "id": "e2c31edd",
   "metadata": {},
   "outputs": [
    {
     "name": "stderr",
     "output_type": "stream",
     "text": [
      "/var/folders/gq/6ljhmvm1713fykdjqbl188pm0000gn/T/ipykernel_92962/1108471309.py:12: DtypeWarning: Columns (1,2,353,381,383,384,388,389,583,584,585) have mixed types. Specify dtype option on import or set low_memory=False.\n",
      "  df = pd.read_csv(os.path.join(output_dir, f'sircle_PorMandR_{cancer}.csv'))\n"
     ]
    },
    {
     "name": "stdout",
     "output_type": "stream",
     "text": [
      "HK1 nan\n",
      "HK2 MDE\n",
      "HK3 MDE\n",
      "GPI TMDE\n",
      "PFK1\n",
      "ALDOA MDE\n",
      "ALDOB TPDS\n",
      "ALDOC MDE\n",
      "GAPDH TPDE\n",
      "PGK1 MDE\n",
      "PGM\n",
      "ENO1 MDE\n",
      "ENO2 MDE\n",
      "ENO3 TMDE\n",
      "PKM MDE\n",
      "LDHA TPDE\n",
      "LDHB TPDS\n",
      "LDHC MDS_TMDE\n",
      "LDHD MDS\n",
      "PDHX TMDS\n",
      "PDHA1 TPDS\n",
      "PDHA2 TMDS\n",
      "PDHB TMDS\n",
      "MDH2 TMDS\n",
      "CS TMDS\n",
      "ACO2 TPDS\n",
      "IDH2 TMDS\n",
      "IDH3A TMDS\n",
      "IDH3B TMDS\n",
      "IDH3G TMDS\n",
      "OGDH TPDS\n",
      "GLUD1 TMDS\n",
      "GLS TMDS\n",
      "HMOX1 MDE\n",
      "SUCLG2 MDS\n",
      "SUCLG1 TPDS\n",
      "SUCLA2 TMDS\n",
      "SDHD nan\n",
      "SDHC TMDS\n",
      "SDHB TMDS\n",
      "SDHA TMDS\n",
      "FH TMDS\n",
      "MDH2 TMDS\n",
      "CPS1 TMDS\n",
      "OTC Not-Background\n",
      "ASS1 TPDS\n",
      "ASL TMDS\n",
      "ARG1 TMDE\n",
      "GPX1 nan\n",
      "GPX2 nan\n",
      "GPX3 MDS\n",
      "GPX4 nan\n",
      "GPX5 Not-Background\n",
      "GPX6 Not-Background\n",
      "GPX7 TMDE\n",
      "GPX8 TPDE\n",
      "CTH TPDS\n",
      "CBS Not-Background\n",
      "SHMT1 TPDS\n",
      "SHMT2 MDE_TMDS\n",
      "PSPH nan\n",
      "PSAT1 TPDS\n",
      "PHGDH MDS\n",
      "BHMT TPDS\n",
      "BHMT2 TPDS\n",
      "MAT2B nan\n",
      "MAT2A nan\n",
      "MAT1A nan\n",
      "AHCY TPDS\n"
     ]
    }
   ],
   "source": [
    "import pandas as pd\n",
    "import os\n",
    "\n",
    "\n",
    "cancer = 'ClearCellRenalCellCarcinoma'\n",
    "input_dir = 'Input_RCM'\n",
    "output_dir = 'Output_Data'\n",
    "supp_dir = 'Required_Refs'\n",
    "fig_dir = 'Output_Figures'\n",
    "regLabel = 'RG2_Changes_filtered'\n",
    "\n",
    "df = pd.read_csv(os.path.join(output_dir, f'sircle_PorMandR_{cancer}.csv'))\n",
    "\n",
    "# Now just print out the cluster label and then the gene for the different metabolites\n",
    "metabolites = ['HK1', 'HK2', 'HK3', 'GPI', 'PFK1', 'ALDOA', \n",
    "               'ALDOB', 'ALDOC', 'GAPDH', 'PGK1', 'PGM', 'ENO1', 'ENO2', \n",
    "               'ENO3', 'PKM', 'LDHA', 'LDHB', 'LDHC', 'LDHD', 'PDHX', 'PDHA1',\n",
    "               'PDHA2', 'PDHB', 'MDH2', 'CS', 'ACO2', 'IDH2', 'IDH3A', 'IDH3B',\n",
    "               'IDH3G', 'OGDH', 'GLUD1', 'GLS', 'HMOX1', 'SUCLG2', 'SUCLG1', 'SUCLA2', \n",
    "               'SDHD', 'SDHC', 'SDHB', 'SDHA', 'FH', 'MDH2', 'CPS1', 'OTC', 'ASS1', \n",
    "               'ASL', 'ARG1', 'GPX1', 'GPX2', 'GPX3', 'GPX4', 'GPX5', 'GPX6', \n",
    "              'GPX7', 'GPX8', 'CTH', 'CBS', 'SHMT1', 'SHMT2', 'PSPH', 'PSAT1',\n",
    "              'PHGDH', 'BHMT', 'BHMT2', 'MAT2B', 'MAT2A', 'MAT1A', 'AHCY']\n",
    "\n",
    "for m in metabolites:\n",
    "    try:\n",
    "        g = df[df['gene_name'] == m]['RG2_Changes_filtered'].values[0]\n",
    "        print(m, g)\n",
    "    except:\n",
    "        print(m)"
   ]
  },
  {
   "cell_type": "code",
   "execution_count": 4,
   "id": "3990e842",
   "metadata": {},
   "outputs": [
    {
     "name": "stderr",
     "output_type": "stream",
     "text": [
      "/var/folders/gq/6ljhmvm1713fykdjqbl188pm0000gn/T/ipykernel_92962/1884489283.py:12: DtypeWarning: Columns (1,2,353,381,383,384,388,389,583,584,585) have mixed types. Specify dtype option on import or set low_memory=False.\n",
      "  df = pd.read_csv(os.path.join(output_dir, f'sircle_PorMandR_{cancer}.csv'))\n"
     ]
    },
    {
     "name": "stdout",
     "output_type": "stream",
     "text": [
      "HK2 MDE\n",
      "HK3 MDE\n",
      "ALDOA MDE\n",
      "ALDOC MDE\n",
      "GAPDH TPDE\n",
      "PGK1 MDE\n",
      "ENO1 MDE\n",
      "ENO2 MDE\n",
      "PKM MDE\n",
      "LDHA TPDE\n"
     ]
    }
   ],
   "source": [
    "import pandas as pd\n",
    "import os\n",
    "\n",
    "\n",
    "cancer = 'ClearCellRenalCellCarcinoma'\n",
    "input_dir = 'Input_RCM'\n",
    "output_dir = 'Output_Data'\n",
    "supp_dir = 'Required_Refs'\n",
    "fig_dir = 'Output_Figures'\n",
    "regLabel = 'RG2_Changes_filtered'\n",
    "\n",
    "df = pd.read_csv(os.path.join(output_dir, f'sircle_PorMandR_{cancer}.csv'))\n",
    "\n",
    "# Now just print out the cluster label and then the gene for the different metabolites\n",
    "metabolites = ['HK2', 'HK3', 'ALDOA', 'ALDOC', 'GAPDH', 'PGK1', 'ENO1', \n",
    "               'ENO2', 'PKM', 'LDHA']\n",
    "\n",
    "for m in metabolites:\n",
    "    try:\n",
    "        g = df[df['gene_name'] == m]['RG2_Changes_filtered'].values[0]\n",
    "        print(m, g)\n",
    "    except:\n",
    "        print(m)"
   ]
  }
 ],
 "metadata": {
  "kernelspec": {
   "display_name": "Python 3 (ipykernel)",
   "language": "python",
   "name": "python3"
  },
  "language_info": {
   "codemirror_mode": {
    "name": "ipython",
    "version": 3
   },
   "file_extension": ".py",
   "mimetype": "text/x-python",
   "name": "python",
   "nbconvert_exporter": "python",
   "pygments_lexer": "ipython3",
   "version": "3.12.3"
  }
 },
 "nbformat": 4,
 "nbformat_minor": 5
}
