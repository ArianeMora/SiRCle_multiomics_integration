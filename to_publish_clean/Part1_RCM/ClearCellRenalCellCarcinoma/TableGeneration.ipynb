{
 "cells": [
  {
   "cell_type": "markdown",
   "id": "a88f32b2",
   "metadata": {},
   "source": [
    "# Just a script to combine spreadsheets and make the tables"
   ]
  },
  {
   "cell_type": "code",
   "execution_count": 1,
   "id": "23438663",
   "metadata": {},
   "outputs": [
    {
     "name": "stderr",
     "output_type": "stream",
     "text": [
      "/var/folders/gq/6ljhmvm1713fykdjqbl188pm0000gn/T/ipykernel_54170/562453557.py:13: DtypeWarning: Columns (1,2,353,381,383,384,388,389,583,584,585) have mixed types. Specify dtype option on import or set low_memory=False.\n",
      "  df = pd.read_csv(os.path.join(output_dir, f'sircle_PorMandR_{cancer}.csv'))\n"
     ]
    }
   ],
   "source": [
    "\n",
    "import pandas as pd\n",
    "import os\n",
    "\n",
    "\n",
    "cancer = 'ClearCellRenalCellCarcinoma'\n",
    "input_dir = 'Input_RCM'\n",
    "output_dir = 'Output_Data'\n",
    "supp_dir = 'Required_Refs'\n",
    "fig_dir = 'Output_Figures'\n",
    "regLabel = 'RG2_Changes_filtered'\n",
    "\n",
    "\n",
    "df = pd.read_csv(os.path.join(output_dir, f'sircle_PorMandR_{cancer}.csv'))\n",
    "cols_to_keep = [c for c in df.columns if 'C3' not in c]\n",
    "df = df[cols_to_keep]"
   ]
  },
  {
   "cell_type": "code",
   "execution_count": 2,
   "id": "ee1fda51",
   "metadata": {},
   "outputs": [],
   "source": [
    "import os\n",
    "ora_dir = os.path.join(output_dir, 'ORA')\n",
    "files = os.listdir(ora_dir)\n",
    "df_2 = pd.DataFrame()\n",
    "cluster_files = [c for c in files if 'ClusterGoSummary' in c]\n",
    "all_ora = pd.DataFrame()\n",
    "for c in cluster_files:\n",
    "    if '.svg' not in c and '_RCM' in c:\n",
    "        df_2 = pd.concat([df_2, pd.read_csv(f'{ora_dir}/{c}')])\n"
   ]
  },
  {
   "cell_type": "code",
   "execution_count": 3,
   "id": "5e199956",
   "metadata": {},
   "outputs": [],
   "source": [
    "import os\n",
    "ora_dir = os.path.join(output_dir, 'ORA')\n",
    "files = os.listdir(ora_dir)\n",
    "df_3 = pd.DataFrame()\n",
    "cluster_files = [c for c in files if 'ClusterGoSummary' in c]\n",
    "all_ora = pd.DataFrame()\n",
    "for c in cluster_files:\n",
    "    if '.svg' not in c and '_RCM' not in c:\n",
    "        df_t = pd.read_csv(f'{ora_dir}/{c}')\n",
    "        df_t['file'] = c.replace('ClusterGoSummary_', '').replace('.csv', '')\n",
    "        df_3 = pd.concat([df_3, df_t])\n"
   ]
  },
  {
   "cell_type": "code",
   "execution_count": 4,
   "id": "d99ca030",
   "metadata": {},
   "outputs": [
    {
     "name": "stderr",
     "output_type": "stream",
     "text": [
      "/var/folders/gq/6ljhmvm1713fykdjqbl188pm0000gn/T/ipykernel_54170/2065201414.py:15: DtypeWarning: Columns (212) have mixed types. Specify dtype option on import or set low_memory=False.\n",
      "  d = pd.read_csv('Input_Methylation/ClearCellRenalCellCarcinoma_filtered_DCpG.csv')\n"
     ]
    }
   ],
   "source": [
    "with pd.ExcelWriter('/Users/ariane/Documents/code/roundround/tables/Table3_SiRCle_ORA.xlsx') as writer:  \n",
    "    df.to_excel(writer, sheet_name='SiRCle')  \n",
    "    df_3.to_excel(writer, sheet_name='ORA_TvN')\n",
    "    df_2.to_excel(writer, sheet_name='ORA_SiRCle')\n",
    "    # Also for each of the DE analyses lets add them in here\n",
    "    p_df = pd.read_csv('Input_Protein/ClearCellRenalCellCarcinoma_filtered_DA_Protein.csv')\n",
    "    protein_cols = ['gene_name', 'logFC_protein', 'stat_protein', 'pvalue_protein', \n",
    "                'padj_protein', 'B_protein', 'mean_protein']\n",
    "    p_df[protein_cols].to_excel(writer, sheet_name='Protein_DA')\n",
    "    rna_cols = ['gene_name', 'gene_id', 'logFC_rna', 'stat_rna', 'pvalue_rna', \n",
    "                'padj_rna', 'lfcSE_rna', 'baseMean_rna', 'var_rna']\n",
    "    r_df = pd.read_csv('Input_RNAseq/ClearCellRenalCellCarcinoma_filtered_DE_RNA.csv')\n",
    "    r_df[rna_cols].to_excel(writer, sheet_name='RNA_DE')\n",
    "    cpg_cols = ['Name', 'beta_diff', 'AveExpr', 't', 'P.Value', 'adj.P.Val', 'B', 'gene_name']\n",
    "    d = pd.read_csv('Input_Methylation/ClearCellRenalCellCarcinoma_filtered_DCpG.csv')\n",
    "    d[cpg_cols].to_excel(writer, sheet_name='CpG_DMC')\n",
    "    pd.read_csv(f'{fig_dir}/Pathways_Protein_GSEA_MetabolicPathways.csv').to_excel(writer, sheet_name=f'Protein_TvN_metabolic')\n",
    "    pd.read_csv(f'{fig_dir}/Pathways_RNA_GSEA_MetabolicPathways.csv').to_excel(writer, sheet_name=f'RNA_TvN_metabolic')\n",
    "    pd.read_csv(f'{fig_dir}/Pathways_DMC_GSEA_MetabolicPathways.csv').to_excel(writer, sheet_name=f'Methylation_TvN_metabolic')\n"
   ]
  },
  {
   "cell_type": "markdown",
   "id": "fb039533",
   "metadata": {},
   "source": [
    "## Now create the tables also for TvN early vs late TvN"
   ]
  },
  {
   "cell_type": "code",
   "execution_count": 4,
   "id": "b9b9f30d",
   "metadata": {},
   "outputs": [
    {
     "name": "stderr",
     "output_type": "stream",
     "text": [
      "/var/folders/gq/6ljhmvm1713fykdjqbl188pm0000gn/T/ipykernel_52114/1631081606.py:25: DtypeWarning: Columns (212) have mixed types. Specify dtype option on import or set low_memory=False.\n",
      "  d = pd.read_csv(f'Input_Methylation/ClearCellRenalCellCarcinoma_filtered_DCpG_{p}.csv')\n",
      "/var/folders/gq/6ljhmvm1713fykdjqbl188pm0000gn/T/ipykernel_52114/1631081606.py:25: DtypeWarning: Columns (212) have mixed types. Specify dtype option on import or set low_memory=False.\n",
      "  d = pd.read_csv(f'Input_Methylation/ClearCellRenalCellCarcinoma_filtered_DCpG_{p}.csv')\n",
      "/Users/ariane/opt/miniconda3/envs/roundround/lib/python3.10/site-packages/openpyxl/workbook/child.py:99: UserWarning: Title is more than 31 characters. Some applications may not be able to read the file\n",
      "  warnings.warn(\"Title is more than 31 characters. Some applications may not be able to read the file\")\n"
     ]
    }
   ],
   "source": [
    "with pd.ExcelWriter('/Users/ariane/Documents/code/roundround/tables/Table6_ORA_EarlyLate_TvN.xlsx') as writer:\n",
    "    paths = ['ORA_Early', 'ORA_Late', 'ORA_EarlyLate']\n",
    "    for p in paths:\n",
    "        ora_dir = os.path.join(output_dir, p)\n",
    "        all_ora = pd.DataFrame()\n",
    "        files = os.listdir(ora_dir)\n",
    "        cluster_files = [c for c in files if 'ClusterGoSummary' in c]\n",
    "        for c in cluster_files:\n",
    "            if '.svg' not in c:\n",
    "                df_t = pd.read_csv(f'{ora_dir}/{c}')\n",
    "                df_t['Condition'] = c\n",
    "                all_ora = pd.concat([all_ora, df_t])\n",
    "        all_ora.to_excel(writer, sheet_name=p)\n",
    "            # Also for each of the DE analyses lets add them in here\n",
    "        p = p.split('_')[1]\n",
    "        p_df = pd.read_csv(f'Input_Protein/ClearCellRenalCellCarcinoma_filtered_DA_Protein_{p}.csv')\n",
    "        protein_cols = ['gene_name', 'logFC_protein', 'stat_protein', 'pvalue_protein', \n",
    "                    'padj_protein', 'B_protein', 'mean_protein']\n",
    "        p_df[protein_cols].to_excel(writer, sheet_name=f'Protein_DA_{p}')\n",
    "        rna_cols = ['gene_name', 'gene_id', 'logFC_rna', 'stat_rna', 'pvalue_rna', \n",
    "                    'padj_rna', 'lfcSE_rna', 'baseMean_rna', 'var_rna']\n",
    "        r_df = pd.read_csv(f'Input_RNAseq/ClearCellRenalCellCarcinoma_filtered_DE_RNA_{p}.csv')\n",
    "        r_df[rna_cols].to_excel(writer, sheet_name=f'RNA_DE_{p}')\n",
    "        cpg_cols = ['Name', 'beta_diff', 'AveExpr', 't', 'P.Value', 'adj.P.Val', 'B', 'gene_name']\n",
    "        d = pd.read_csv(f'Input_Methylation/ClearCellRenalCellCarcinoma_filtered_DCpG_{p}.csv')\n",
    "        d[cpg_cols].to_excel(writer, sheet_name=f'CpG_DMC_{p}')\n",
    "    pd.read_csv(f'{fig_dir}/Early_vs_Late_Protein_GSEA_MetabolicPathways.csv').to_excel(writer, sheet_name=f'Protein_LatevsEarly_metabolic')\n",
    "    pd.read_csv(f'{fig_dir}/Early_vs_Late_RNA_GSEA_MetabolicPathways.csv').to_excel(writer, sheet_name=f'RNA_LatevsEarly_metabolic')\n",
    "    pd.read_csv(f'{fig_dir}/Early_vs_Late_DMC_GSEA_MetabolicPathways.csv').to_excel(writer, sheet_name=f'Methylation_LatevsEarly_metabolic')\n"
   ]
  }
 ],
 "metadata": {
  "kernelspec": {
   "display_name": "Python 3 (ipykernel)",
   "language": "python",
   "name": "python3"
  },
  "language_info": {
   "codemirror_mode": {
    "name": "ipython",
    "version": 3
   },
   "file_extension": ".py",
   "mimetype": "text/x-python",
   "name": "python",
   "nbconvert_exporter": "python",
   "pygments_lexer": "ipython3",
   "version": "3.10.14"
  }
 },
 "nbformat": 4,
 "nbformat_minor": 5
}
