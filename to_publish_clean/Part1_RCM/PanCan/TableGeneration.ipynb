{
 "cells": [
  {
   "cell_type": "markdown",
   "id": "bba1c46a",
   "metadata": {},
   "source": [
    "# Just a script to combine spreadsheets and make the tables"
   ]
  },
  {
   "cell_type": "code",
   "execution_count": 1,
   "id": "2333712b",
   "metadata": {},
   "outputs": [
    {
     "name": "stderr",
     "output_type": "stream",
     "text": [
      "/var/folders/gq/6ljhmvm1713fykdjqbl188pm0000gn/T/ipykernel_25098/1846205256.py:13: DtypeWarning: Columns (1,2,1161,1163,1164,1167,1176,1177,1178,1179,1180,1181,1182,1195,1197,1198,1202,1203,1208,1974,1975,1976) have mixed types. Specify dtype option on import or set low_memory=False.\n",
      "  df = pd.read_csv(os.path.join(output_dir, f'sircle_PorMandR_{cancer}.csv'))\n"
     ]
    }
   ],
   "source": [
    "\n",
    "import pandas as pd\n",
    "import os\n",
    "\n",
    "\n",
    "cancer = 'PanCan'\n",
    "input_dir = 'Input_RCM'\n",
    "output_dir = 'Output_Data'\n",
    "supp_dir = 'Required_Refs'\n",
    "fig_dir = 'Output_Figures'\n",
    "regLabel = 'RG2_Changes_filtered'\n",
    "\n",
    "\n",
    "df = pd.read_csv(os.path.join(output_dir, f'sircle_PorMandR_{cancer}.csv'))\n",
    "cols_to_keep = [c for c in df.columns if 'C3' not in c]\n",
    "df = df[cols_to_keep]"
   ]
  },
  {
   "cell_type": "code",
   "execution_count": 2,
   "id": "d0d70e80",
   "metadata": {},
   "outputs": [],
   "source": [
    "import os\n",
    "ora_dir = os.path.join(output_dir, 'ORA')\n",
    "files = os.listdir(ora_dir)\n",
    "df_2 = pd.DataFrame()\n",
    "cluster_files = [c for c in files if 'ClusterGoSummary' in c]\n",
    "all_ora = pd.DataFrame()\n",
    "for c in cluster_files:\n",
    "    if '.svg' not in c and '_RCM' in c:\n",
    "        df_2 = pd.concat([df_2, pd.read_csv(f'{ora_dir}/{c}')])\n"
   ]
  },
  {
   "cell_type": "code",
   "execution_count": 3,
   "id": "8552c912",
   "metadata": {},
   "outputs": [],
   "source": [
    "import os\n",
    "ora_dir = os.path.join(output_dir, 'ORA')\n",
    "files = os.listdir(ora_dir)\n",
    "df_3 = pd.DataFrame()\n",
    "cluster_files = [c for c in files if 'ClusterGoSummary' in c]\n",
    "all_ora = pd.DataFrame()\n",
    "for c in cluster_files:\n",
    "    if '.svg' not in c and '_RCM' not in c:\n",
    "        df_t = pd.read_csv(f'{ora_dir}/{c}')\n",
    "        df_t['file'] = c.replace('ClusterGoSummary_', '').replace('.csv', '')\n",
    "        df_3 = pd.concat([df_3, df_t])\n"
   ]
  },
  {
   "cell_type": "code",
   "execution_count": 4,
   "id": "56dd359c",
   "metadata": {},
   "outputs": [
    {
     "name": "stderr",
     "output_type": "stream",
     "text": [
      "/var/folders/gq/6ljhmvm1713fykdjqbl188pm0000gn/T/ipykernel_25098/21625303.py:15: DtypeWarning: Columns (597) have mixed types. Specify dtype option on import or set low_memory=False.\n",
      "  d = pd.read_csv(f'Input_Methylation/{cancer}_filtered_DCpG.csv')\n"
     ]
    }
   ],
   "source": [
    "with pd.ExcelWriter('/Users/ariane/Documents/code/roundround/tables/Table9_SiRCle_ORA_PanCan.xlsx') as writer:  \n",
    "    df.to_excel(writer, sheet_name='SiRCle')  \n",
    "    df_3.to_excel(writer, sheet_name='ORA_TvN')\n",
    "    df_2.to_excel(writer, sheet_name='ORA_SiRCle')\n",
    "    # Also for each of the DE analyses lets add them in here\n",
    "    p_df = pd.read_csv(f'Input_Protein/{cancer}_filtered_DA_Protein.csv')\n",
    "    protein_cols = ['gene_name', 'logFC_protein', 'stat_protein', 'pvalue_protein', \n",
    "                'padj_protein', 'B_protein', 'mean_protein']\n",
    "    p_df[protein_cols].to_excel(writer, sheet_name='Protein_DA')\n",
    "    rna_cols = ['gene_name', 'gene_id', 'logFC_rna', 'stat_rna', 'pvalue_rna', \n",
    "                'padj_rna', 'lfcSE_rna', 'baseMean_rna', 'var_rna']\n",
    "    r_df = pd.read_csv(f'Input_RNAseq/{cancer}_filtered_DE_RNA.csv')\n",
    "    r_df[rna_cols].to_excel(writer, sheet_name='RNA_DE')\n",
    "    cpg_cols = ['Name', 'beta_diff', 'AveExpr', 't', 'P.Value', 'adj.P.Val', 'B', 'gene_name']\n",
    "    d = pd.read_csv(f'Input_Methylation/{cancer}_filtered_DCpG.csv')\n",
    "    d[cpg_cols].to_excel(writer, sheet_name='CpG_DMC')\n"
   ]
  },
  {
   "cell_type": "markdown",
   "id": "b161f8ed",
   "metadata": {},
   "source": [
    "## Now create the tables also for TvN early vs late TvN"
   ]
  },
  {
   "cell_type": "code",
   "execution_count": 5,
   "id": "04ae05c5",
   "metadata": {},
   "outputs": [
    {
     "name": "stderr",
     "output_type": "stream",
     "text": [
      "/var/folders/gq/6ljhmvm1713fykdjqbl188pm0000gn/T/ipykernel_25098/3179674092.py:25: DtypeWarning: Columns (601) have mixed types. Specify dtype option on import or set low_memory=False.\n",
      "  d = pd.read_csv(f'Input_Methylation/{cancer}_filtered_DCpG_{p}.csv')\n"
     ]
    }
   ],
   "source": [
    "with pd.ExcelWriter('/Users/ariane/Documents/code/roundround/tables/Table10_ORA_EarlyLate_TvN_PanCan.xlsx') as writer:\n",
    "    paths = ['ORA_EarlyLate']\n",
    "    for p in paths:\n",
    "        ora_dir = os.path.join(output_dir, p)\n",
    "        all_ora = pd.DataFrame()\n",
    "        files = os.listdir(ora_dir)\n",
    "        cluster_files = [c for c in files if 'ClusterGoSummary' in c]\n",
    "        for c in cluster_files:\n",
    "            if '.svg' not in c:\n",
    "                df_t = pd.read_csv(f'{ora_dir}/{c}')\n",
    "                df_t['Condition'] = c\n",
    "                all_ora = pd.concat([all_ora, df_t])\n",
    "        all_ora.to_excel(writer, sheet_name=p)\n",
    "            # Also for each of the DE analyses lets add them in here\n",
    "        p = p.split('_')[1]\n",
    "        p_df = pd.read_csv(f'Input_Protein/{cancer}_filtered_DA_Protein_{p}.csv')\n",
    "        protein_cols = ['gene_name', 'logFC_protein', 'stat_protein', 'pvalue_protein', \n",
    "                    'padj_protein', 'B_protein', 'mean_protein']\n",
    "        p_df[protein_cols].to_excel(writer, sheet_name=f'Protein_DA_{p}')\n",
    "        rna_cols = ['gene_name', 'gene_id', 'logFC_rna', 'stat_rna', 'pvalue_rna', \n",
    "                    'padj_rna', 'lfcSE_rna', 'baseMean_rna', 'var_rna']\n",
    "        r_df = pd.read_csv(f'Input_RNAseq/{cancer}_filtered_DE_RNA_{p}.csv')\n",
    "        r_df[rna_cols].to_excel(writer, sheet_name=f'RNA_DE_{p}')\n",
    "        cpg_cols = ['Name', 'beta_diff', 'AveExpr', 't', 'P.Value', 'adj.P.Val', 'B', 'gene_name']\n",
    "        d = pd.read_csv(f'Input_Methylation/{cancer}_filtered_DCpG_{p}.csv')\n",
    "        d[cpg_cols].to_excel(writer, sheet_name=f'CpG_DMC_{p}')"
   ]
  },
  {
   "cell_type": "code",
   "execution_count": null,
   "id": "9970a268",
   "metadata": {},
   "outputs": [],
   "source": []
  }
 ],
 "metadata": {
  "kernelspec": {
   "display_name": "Python 3 (ipykernel)",
   "language": "python",
   "name": "python3"
  },
  "language_info": {
   "codemirror_mode": {
    "name": "ipython",
    "version": 3
   },
   "file_extension": ".py",
   "mimetype": "text/x-python",
   "name": "python",
   "nbconvert_exporter": "python",
   "pygments_lexer": "ipython3",
   "version": "3.10.14"
  }
 },
 "nbformat": 4,
 "nbformat_minor": 5
}
