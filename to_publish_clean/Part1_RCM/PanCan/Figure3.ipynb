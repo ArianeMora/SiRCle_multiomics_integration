{
 "cells": [
  {
   "cell_type": "markdown",
   "id": "f2b7d54d",
   "metadata": {},
   "source": [
    "# Printing out metabolite names and their cluster"
   ]
  },
  {
   "cell_type": "code",
   "execution_count": 2,
   "id": "e2c31edd",
   "metadata": {},
   "outputs": [
    {
     "name": "stderr",
     "output_type": "stream",
     "text": [
      "/var/folders/gq/6ljhmvm1713fykdjqbl188pm0000gn/T/ipykernel_22321/1409286533.py:12: DtypeWarning: Columns (1,2,1161,1163,1164,1167,1176,1177,1178,1179,1180,1181,1182,1195,1197,1198,1202,1203,1208,1974,1975,1976) have mixed types. Specify dtype option on import or set low_memory=False.\n",
      "  df = pd.read_csv(os.path.join(output_dir, f'sircle_PorMandR_{cancer}.csv'))\n"
     ]
    },
    {
     "name": "stdout",
     "output_type": "stream",
     "text": [
      "HK1 nan\n",
      "HK2 MDE\n",
      "HK3 nan\n",
      "GPI nan\n",
      "PFK1\n",
      "ALDOA nan\n",
      "ALDOB TPDS_TMDE\n",
      "ALDOC nan\n",
      "GAPDH MDE_TMDS\n",
      "PGK1 nan\n",
      "PGM\n",
      "ENO1 nan\n",
      "ENO2 TPDE_TMDS\n",
      "ENO3 nan\n",
      "PKM nan\n",
      "LDHA MDE_TMDS\n",
      "LDHB nan\n",
      "LDHC Not-Background\n",
      "LDHD TMDS\n",
      "PDHX nan\n",
      "PDHA1 nan\n",
      "PDHA2 Not-Background\n",
      "PDHB nan\n",
      "MDH2 nan\n",
      "CS nan\n",
      "ACO2 nan\n",
      "IDH2 nan\n",
      "IDH3A nan\n",
      "IDH3B nan\n",
      "IDH3G nan\n",
      "OGDH nan\n",
      "GLUD1 nan\n",
      "GLS nan\n",
      "HMOX1 nan\n",
      "SUCLG2 nan\n",
      "SUCLG1 nan\n",
      "SDHD nan\n",
      "SDHC nan\n",
      "SDHB nan\n",
      "SDHA nan\n",
      "FH nan\n",
      "CPS1 nan\n",
      "OTC Not-Background\n",
      "ASS1 nan\n",
      "ASL nan\n",
      "ARG1 TPDS_TMDE\n",
      "GPX1 nan\n",
      "GPX2 MDE_TMDS\n",
      "GPX3 MDS\n",
      "GPX4 nan\n",
      "GPX5 Not-Background\n",
      "GPX6 Not-Background\n",
      "GPX7 TMDE\n",
      "GPX8 TMDE\n",
      "CTH nan\n",
      "CBS Not-Background\n",
      "SHMT1 nan\n",
      "SHMT2 nan\n",
      "PSPH nan\n",
      "PSAT1 TPDE_TMDS\n",
      "PHGDH nan\n",
      "BHMT nan\n",
      "BHMT2 Not-Background\n",
      "MAT2B nan\n",
      "MAT2A nan\n",
      "MAT1A nan\n",
      "AHCY nan\n"
     ]
    }
   ],
   "source": [
    "import pandas as pd\n",
    "import os\n",
    "\n",
    "\n",
    "cancer = 'PanCan'\n",
    "input_dir = 'Input_RCM'\n",
    "output_dir = 'Output_Data'\n",
    "supp_dir = 'Required_Refs'\n",
    "fig_dir = 'Output_Figures'\n",
    "regLabel = 'RG2_Changes_filtered'\n",
    "\n",
    "df = pd.read_csv(os.path.join(output_dir, f'sircle_PorMandR_{cancer}.csv'))\n",
    "\n",
    "# Now just print out the cluster label and then the gene for the different metabolites\n",
    "metabolites = ['HK1', 'HK2', 'HK3', 'GPI', 'PFK1', 'ALDOA', \n",
    "               'ALDOB', 'ALDOC', 'GAPDH', 'PGK1', 'PGM', 'ENO1', 'ENO2', \n",
    "               'ENO3', 'PKM', 'LDHA', 'LDHB', 'LDHC', 'LDHD', 'PDHX', 'PDHA1',\n",
    "               'PDHA2', 'PDHB', 'MDH2', 'CS', 'ACO2', 'IDH2', 'IDH3A', 'IDH3B',\n",
    "               'IDH3G', 'OGDH', 'GLUD1', 'GLS', 'HMOX1', 'SUCLG2', 'SUCLG1', \n",
    "               'SDHD', 'SDHC', 'SDHB', 'SDHA', 'FH', 'CPS1', 'OTC', 'ASS1', \n",
    "               'ASL', 'ARG1', 'GPX1', 'GPX2', 'GPX3', 'GPX4', 'GPX5', 'GPX6', \n",
    "              'GPX7', 'GPX8', 'CTH', 'CBS', 'SHMT1', 'SHMT2', 'PSPH', 'PSAT1',\n",
    "              'PHGDH', 'BHMT', 'BHMT2', 'MAT2B', 'MAT2A', 'MAT1A', 'AHCY']\n",
    "\n",
    "for m in metabolites:\n",
    "    try:\n",
    "        g = df[df['gene_name'] == m]['RG2_Changes_filtered'].values[0]\n",
    "        print(m, g)\n",
    "    except:\n",
    "        print(m)"
   ]
  },
  {
   "cell_type": "code",
   "execution_count": null,
   "id": "3990e842",
   "metadata": {},
   "outputs": [],
   "source": []
  },
  {
   "cell_type": "code",
   "execution_count": null,
   "id": "31478038",
   "metadata": {},
   "outputs": [],
   "source": []
  },
  {
   "cell_type": "code",
   "execution_count": null,
   "id": "bdf23d7b",
   "metadata": {},
   "outputs": [],
   "source": []
  },
  {
   "cell_type": "code",
   "execution_count": null,
   "id": "285aacfb",
   "metadata": {},
   "outputs": [],
   "source": []
  }
 ],
 "metadata": {
  "kernelspec": {
   "display_name": "Python 3 (ipykernel)",
   "language": "python",
   "name": "python3"
  },
  "language_info": {
   "codemirror_mode": {
    "name": "ipython",
    "version": 3
   },
   "file_extension": ".py",
   "mimetype": "text/x-python",
   "name": "python",
   "nbconvert_exporter": "python",
   "pygments_lexer": "ipython3",
   "version": "3.12.3"
  }
 },
 "nbformat": 4,
 "nbformat_minor": 5
}
