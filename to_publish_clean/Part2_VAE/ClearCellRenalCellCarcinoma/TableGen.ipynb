{
 "cells": [
  {
   "cell_type": "markdown",
   "id": "919293c0",
   "metadata": {},
   "source": [
    "# Table Generation"
   ]
  },
  {
   "cell_type": "code",
   "execution_count": 3,
   "id": "912d5780",
   "metadata": {},
   "outputs": [
    {
     "name": "stderr",
     "output_type": "stream",
     "text": [
      "/Users/ariane/opt/miniconda3/envs/roundround/lib/python3.10/site-packages/openpyxl/workbook/child.py:99: UserWarning: Title is more than 31 characters. Some applications may not be able to read the file\n",
      "  warnings.warn(\"Title is more than 31 characters. Some applications may not be able to read the file\")\n"
     ]
    }
   ],
   "source": [
    "# Need to add in entrez gene ID and also make labels for genes for ORA\n",
    "# Imports\n",
    "import pandas as pd\n",
    "import os\n",
    "from sciutil import SciUtil\n",
    "\n",
    "# Setup file locations and label of the cancer\n",
    "u = SciUtil()\n",
    "\n",
    "cancer = 'ClearCellRenalCellCarcinoma'\n",
    "input_dir = 'Input_RCM'\n",
    "output_dir = 'Output_Data'\n",
    "supp_dir = 'Required_Refs'\n",
    "fig_dir = 'Output_Figures'\n",
    "regLabel = 'RG2_Changes_filtered'\n",
    "\n",
    "with pd.ExcelWriter('/Users/ariane/Documents/code/roundround/tables/Table7_IntegratedDataset.xlsx') as writer:\n",
    "    patient_info = pd.read_csv(os.path.join(input_dir, f'patient_info_{cancer}.csv'))\n",
    "    patient_info.to_excel(writer, sheet_name='PatientInformation')\n",
    "    pd.read_csv(f'{output_dir}/stats_Late-Early_{cancer}.csv').to_excel(writer, sheet_name='Late_vs_early_Stats')\n",
    "    pd.read_csv(f'{output_dir}/Late_vs_Early_Pathways.tsv', sep='\\t').to_excel(writer, sheet_name='Late_vs_Early_Pathways')\n",
    "    # Just combine the following tables into a single excel\n",
    "    pd.read_csv(f'{output_dir}/Late_vs_Early_MetabolicPathways.tsv', sep='\\t').to_excel(writer, sheet_name='Late_vs_Early_MetabolicPathways')\n",
    "\n",
    "    pd.read_csv(f'{output_dir}/mean_Integrated_comparison_Late-Early.csv').to_excel(writer, \n",
    "                                                                                   sheet_name='Late-Early_mean_Integrated_comparison')\n",
    "    \n",
    "    \n",
    "    "
   ]
  },
  {
   "cell_type": "code",
   "execution_count": 4,
   "id": "adf3f6b2",
   "metadata": {},
   "outputs": [
    {
     "data": {
      "text/plain": [
       "Stage\n",
       "Late     38\n",
       "Early    38\n",
       "Name: count, dtype: int64"
      ]
     },
     "execution_count": 4,
     "metadata": {},
     "output_type": "execute_result"
    }
   ],
   "source": [
    "patient_info = patient_info.drop_duplicates('SafeCases')\n",
    "patient_info['Stage'].value_counts()\n"
   ]
  },
  {
   "cell_type": "code",
   "execution_count": 6,
   "id": "673f237d",
   "metadata": {},
   "outputs": [
    {
     "data": {
      "text/plain": [
       "TumorStage\n",
       "Stage I      30\n",
       "Stage III    27\n",
       "Stage IV     11\n",
       "Stage II      8\n",
       "Name: count, dtype: int64"
      ]
     },
     "execution_count": 6,
     "metadata": {},
     "output_type": "execute_result"
    }
   ],
   "source": [
    "patient_info['TumorStage'].value_counts()"
   ]
  },
  {
   "cell_type": "code",
   "execution_count": 7,
   "id": "a27add06",
   "metadata": {},
   "outputs": [
    {
     "data": {
      "text/plain": [
       "AJCC Pathologic Stage\n",
       "Stage I      30\n",
       "Stage III    27\n",
       "Stage IV     11\n",
       "Stage II      8\n",
       "Name: count, dtype: int64"
      ]
     },
     "execution_count": 7,
     "metadata": {},
     "output_type": "execute_result"
    }
   ],
   "source": [
    "patient_info['AJCC Pathologic Stage'].value_counts()"
   ]
  },
  {
   "cell_type": "code",
   "execution_count": 8,
   "id": "23394490",
   "metadata": {},
   "outputs": [
    {
     "data": {
      "text/plain": [
       "{'C3L.00004',\n",
       " 'C3L.00010',\n",
       " 'C3L.00011',\n",
       " 'C3L.00079',\n",
       " 'C3L.00088',\n",
       " 'C3L.00096',\n",
       " 'C3L.00097',\n",
       " 'C3L.00103',\n",
       " 'C3L.00183',\n",
       " 'C3L.00360',\n",
       " 'C3L.00369',\n",
       " 'C3L.00416',\n",
       " 'C3L.00418',\n",
       " 'C3L.00447',\n",
       " 'C3L.00448',\n",
       " 'C3L.00561',\n",
       " 'C3L.00581',\n",
       " 'C3L.00583',\n",
       " 'C3L.00606',\n",
       " 'C3L.00607',\n",
       " 'C3L.00791',\n",
       " 'C3L.00814',\n",
       " 'C3L.00902',\n",
       " 'C3L.00907',\n",
       " 'C3L.00908',\n",
       " 'C3L.00910',\n",
       " 'C3L.00917',\n",
       " 'C3L.01281',\n",
       " 'C3L.01286',\n",
       " 'C3L.01287',\n",
       " 'C3L.01302',\n",
       " 'C3L.01313',\n",
       " 'C3L.01603',\n",
       " 'C3L.01836',\n",
       " 'C3L.01861',\n",
       " 'C3L.01882',\n",
       " 'C3L.01885',\n",
       " 'C3N.00148',\n",
       " 'C3N.00150',\n",
       " 'C3N.00168',\n",
       " 'C3N.00177',\n",
       " 'C3N.00194',\n",
       " 'C3N.00242',\n",
       " 'C3N.00244',\n",
       " 'C3N.00246',\n",
       " 'C3N.00310',\n",
       " 'C3N.00312',\n",
       " 'C3N.00314',\n",
       " 'C3N.00317',\n",
       " 'C3N.00320',\n",
       " 'C3N.00390',\n",
       " 'C3N.00437',\n",
       " 'C3N.00491',\n",
       " 'C3N.00494',\n",
       " 'C3N.00495',\n",
       " 'C3N.00573',\n",
       " 'C3N.00577',\n",
       " 'C3N.00646',\n",
       " 'C3N.00733',\n",
       " 'C3N.00831',\n",
       " 'C3N.00834',\n",
       " 'C3N.00852',\n",
       " 'C3N.00953',\n",
       " 'C3N.01176',\n",
       " 'C3N.01178',\n",
       " 'C3N.01179',\n",
       " 'C3N.01200',\n",
       " 'C3N.01214',\n",
       " 'C3N.01220',\n",
       " 'C3N.01261',\n",
       " 'C3N.01361',\n",
       " 'C3N.01522',\n",
       " 'C3N.01646',\n",
       " 'C3N.01649',\n",
       " 'C3N.01651',\n",
       " 'C3N.01808'}"
      ]
     },
     "execution_count": 8,
     "metadata": {},
     "output_type": "execute_result"
    }
   ],
   "source": [
    "set(patient_info['SafeCases'])"
   ]
  }
 ],
 "metadata": {
  "kernelspec": {
   "display_name": "Python 3 (ipykernel)",
   "language": "python",
   "name": "python3"
  },
  "language_info": {
   "codemirror_mode": {
    "name": "ipython",
    "version": 3
   },
   "file_extension": ".py",
   "mimetype": "text/x-python",
   "name": "python",
   "nbconvert_exporter": "python",
   "pygments_lexer": "ipython3",
   "version": "3.10.12"
  }
 },
 "nbformat": 4,
 "nbformat_minor": 5
}
