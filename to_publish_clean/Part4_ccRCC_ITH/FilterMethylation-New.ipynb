{
 "cells": [
  {
   "cell_type": "code",
   "execution_count": 1,
   "id": "8fad1616",
   "metadata": {},
   "outputs": [
    {
     "name": "stderr",
     "output_type": "stream",
     "text": [
      "/var/folders/sj/4wqsfdtd6093v9746b0t3mq40000gn/T/ipykernel_67864/1436929939.py:24: DtypeWarning: Columns (2,4,42,47) have mixed types. Specify dtype option on import or set low_memory=False.\n",
      "  epic_manifest = pd.read_csv(os.path.join(supp_dir, f'infinium-methylationepic-v-1-0-b5-manifest-file.csv'), comment='#')\n",
      "/var/folders/sj/4wqsfdtd6093v9746b0t3mq40000gn/T/ipykernel_67864/1436929939.py:29: DtypeWarning: Columns (2) have mixed types. Specify dtype option on import or set low_memory=False.\n",
      "  annot = pd.read_csv(os.path.join(supp_dir, f'hsapiens_gene_ensembl-GRCh38.p13.csv'))\n"
     ]
    }
   ],
   "source": [
    "# Imports\n",
    "import pandas as pd\n",
    "import numpy as np\n",
    "from sciutil import *\n",
    "import os\n",
    "\n",
    "# Setup file locations and label of the cancer\n",
    "u = SciUtil()\n",
    "\n",
    "#  ----------------------------------------------------------------------------------------------\n",
    "#                  File and naming setup\n",
    "#  ----------------------------------------------------------------------------------------------\n",
    "cancer = 'ClearCellRenalCellCarcinoma-New'\n",
    "input_dir = ''\n",
    "output_dir = ''\n",
    "fig_dir = ''\n",
    "supp_dir = 'Required_Refs'\n",
    "\n",
    "#  ----------------------------------------------------------------------------------------------\n",
    "#                   Filter DNA methylation data if you haven't done this already\n",
    "#  ----------------------------------------------------------------------------------------------\n",
    "\n",
    "# Read in data\n",
    "epic_manifest = pd.read_csv(os.path.join(supp_dir, f'infinium-methylationepic-v-1-0-b5-manifest-file.csv'), comment='#')\n",
    "epic_manifest.set_index('IlmnID', inplace=True)\n",
    "\n",
    "# Join the DCpG file with the epic manifest and then filter the file\n",
    "# Annotate the gene names to entrez gene IDs using annotation file from HG38\n",
    "annot = pd.read_csv(os.path.join(supp_dir, f'hsapiens_gene_ensembl-GRCh38.p13.csv'))\n",
    "annot = annot.dropna(subset=['external_gene_name', 'entrezgene_id'])\n",
    "annot = annot.drop_duplicates(subset='external_gene_name')\n",
    "name_to_entrez = dict(zip(annot.external_gene_name, annot.entrezgene_id))\n",
    "\n",
    "# Map the CpGs to their genes and then filter\n",
    "dcpg = os.path.join(input_dir, f'{cancer}_filtered_DMC_CpG.csv')\n",
    "dcpg = pd.read_csv(dcpg, index_col=0)\n",
    "\n",
    "cpg_data_df = pd.read_csv(os.path.join(input_dir, f'{cancer}_filtered_CpG.csv'))\n",
    "cpg_data_df.set_index('Locus', inplace=True)\n",
    "dcpg = dcpg.join(cpg_data_df, how='left')\n",
    "\n",
    "# Read in the sample DF and then compute the Beta difference\n",
    "cpg_samples = pd.read_csv(os.path.join(input_dir, f'{cancer}_filtered_samples_CpG.csv'))\n",
    "tumor_samples = cpg_samples[cpg_samples['CondID'] == 1]['Sample'].values\n",
    "normal_samples = cpg_samples[cpg_samples['CondID'] == 0]['Sample'].values\n"
   ]
  },
  {
   "cell_type": "code",
   "execution_count": 2,
   "id": "514de66c",
   "metadata": {},
   "outputs": [
    {
     "name": "stderr",
     "output_type": "stream",
     "text": [
      "/var/folders/sj/4wqsfdtd6093v9746b0t3mq40000gn/T/ipykernel_67864/2914813019.py:1: RuntimeWarning: Mean of empty slice\n",
      "  dcpg['beta_diff'] = np.nanmean(cpg_data_df[tumor_samples].values, axis=1) - np.nanmean(cpg_data_df[normal_samples].values, axis=1)\n"
     ]
    },
    {
     "name": "stdout",
     "output_type": "stream",
     "text": [
      "\u001b[94m--------------------------------------------------------------------------------\u001b[0m\n",
      "\u001b[94m      Originally had: \t27184\tgenes.\n",
      "\tFiltered DF now has: \t20302\t genes.\t       \u001b[0m\n",
      "\u001b[94m--------------------------------------------------------------------------------\u001b[0m\n"
     ]
    }
   ],
   "source": [
    "dcpg['beta_diff'] = np.nanmean(cpg_data_df[tumor_samples].values, axis=1) - np.nanmean(cpg_data_df[normal_samples].values, axis=1)\n",
    "\n",
    "# Filter DNA methylation to genes\n",
    "def filter_methylation_data_by_genes(cpg_df, gene_id, p_val, logfc):\n",
    "    cpg_df_grped = cpg_df.groupby(gene_id)\n",
    "    rows = []\n",
    "    num_cpgs = []\n",
    "    for cpg in cpg_df_grped:\n",
    "        cpg = cpg[1]\n",
    "        cpg = cpg[cpg[p_val] < 0.05]\n",
    "        num_cpgs.append(len(cpg))\n",
    "        if len(cpg) > 0:\n",
    "            if len(cpg) < 3:\n",
    "                add_row = True\n",
    "            else:\n",
    "                pos_cpg = cpg[cpg[logfc] > 0]\n",
    "                neg_cpg = cpg[cpg[logfc] < 0]\n",
    "                num_pos = len(pos_cpg)\n",
    "                num_neg = len(neg_cpg)\n",
    "                add_row = False\n",
    "                if num_pos and num_pos/len(cpg) > 0.6:\n",
    "                    cpg = pos_cpg\n",
    "                    add_row = True\n",
    "                elif num_neg and num_neg/len(cpg) > 0.6:\n",
    "                    cpg = neg_cpg\n",
    "                    add_row = True\n",
    "            if add_row:\n",
    "                max_cpg_idx = None\n",
    "                max_t_value = 0  # absolute\n",
    "                idxs = cpg.index\n",
    "                for xi, t in enumerate(cpg[logfc].values):\n",
    "                    if abs(t) > abs(max_t_value):\n",
    "                        max_t_value = t\n",
    "                        max_cpg_idx = xi\n",
    "                if max_cpg_idx != None:\n",
    "                    rows.append(cpg[cpg.index == idxs[max_cpg_idx]].values[0])\n",
    "    new_cpg_df = pd.DataFrame(rows, columns=cpg_df.columns)\n",
    "    u.dp(['Originally had: ', len(cpg_df_grped), 'genes.\\n', 'Filtered DF now has: ', len(new_cpg_df), ' genes.'])\n",
    "    return new_cpg_df\n",
    "\n",
    "\n",
    "dcpg = dcpg.join(epic_manifest, how='left')\n",
    "dcpg['Name'] = dcpg.index\n",
    "# For each of the overlapping genes\n",
    "rows = []\n",
    "values = dcpg.values\n",
    "for i, g in enumerate(dcpg['UCSC_RefGene_Name'].values):\n",
    "    if isinstance(g, str):\n",
    "        genes = g.split(';')\n",
    "        for gene_name in genes:\n",
    "            vals = list(values[i])\n",
    "            vals.append(gene_name)\n",
    "            rows.append(vals)\n",
    "\n",
    "columns = list(dcpg.columns)\n",
    "columns.append('gene_name')\n",
    "meth_df = pd.DataFrame(data=rows, columns=columns)\n",
    "\n",
    "filtered_dcpg = filter_methylation_data_by_genes(meth_df, 'gene_name', 'adj.P.Val', 'beta_diff')\n",
    "\n",
    "filtered_dcpg.to_csv(os.path.join(input_dir, f'{cancer}_filtered_DCpG.csv'), index=False)\n"
   ]
  },
  {
   "cell_type": "code",
   "execution_count": null,
   "id": "3fe32a7c",
   "metadata": {},
   "outputs": [],
   "source": []
  }
 ],
 "metadata": {
  "kernelspec": {
   "display_name": "Python 3 (ipykernel)",
   "language": "python",
   "name": "python3"
  },
  "language_info": {
   "codemirror_mode": {
    "name": "ipython",
    "version": 3
   },
   "file_extension": ".py",
   "mimetype": "text/x-python",
   "name": "python",
   "nbconvert_exporter": "python",
   "pygments_lexer": "ipython3",
   "version": "3.12.3"
  }
 },
 "nbformat": 4,
 "nbformat_minor": 5
}
